{
  "nbformat": 4,
  "nbformat_minor": 0,
  "metadata": {
    "colab": {
      "name": "BigEarthNet labelled Classes with Data.ipynb",
      "provenance": [],
      "collapsed_sections": [],
      "mount_file_id": "1nsaVfteT--BrsF_c-FsYJu2jFudStPbD",
      "authorship_tag": "ABX9TyO5cWYhEZvJPosFTU4Z9wD4",
      "include_colab_link": true
    },
    "kernelspec": {
      "name": "python3",
      "display_name": "Python 3"
    },
    "language_info": {
      "name": "python"
    }
  },
  "cells": [
    {
      "cell_type": "markdown",
      "metadata": {
        "id": "view-in-github",
        "colab_type": "text"
      },
      "source": [
        "<a href=\"https://colab.research.google.com/github/BRIJNANDA1979/CNN-Sentinel/blob/master/BigEarthNet_labelled_Classes_with_Data.ipynb\" target=\"_parent\"><img src=\"https://colab.research.google.com/assets/colab-badge.svg\" alt=\"Open In Colab\"/></a>"
      ]
    },
    {
      "cell_type": "code",
      "metadata": {
        "id": "2TLjAq9lM7c0"
      },
      "source": [
        "# -*- coding: utf-8 -*-\n",
        "\"\"\"\n",
        "Created on Mon Jun  7 19:15:25 2021\n",
        "\n",
        "@author: BRIJB\n",
        "\"\"\"\n",
        "\n",
        "import os\n",
        "import pandas as pd\n",
        "import os\n",
        "\n",
        "path='E:\\BigEarthNet_Labelled 12925 Data.csv' #read labels Bigearthnet\n",
        "npath='E' + ':' +'\\\\' + 'temp'\n",
        "df=pd.read_csv(path)\n",
        "dirs=os.listdir(npath)\n",
        "l=len(dirs)\n",
        "count=0\n",
        "files=df['files_for_each_class']\n",
        "for group in files:\n",
        "    s=str(group)\n",
        "    \n",
        "    s=s.replace('[','')\n",
        "    s=s.replace(']','')\n",
        "    s=s.strip()\n",
        "    ls=s.split(',')\n",
        "    lsss=[]\n",
        "    for file in ls:\n",
        "        ss = file\n",
        "        lss= ss.split('\\\\')\n",
        "        sss= lss[-1]\n",
        "        ssss = sss.replace(\"_labels_metadata.json\",\".tif\")\n",
        "        lsss.append(ssss)\n",
        "        targetpath =  'E' + ':' +'\\\\' + 'temp'+ '\\\\' + str(count)\n",
        "        targetFile = os.path.join(targetpath,ssss)\n",
        "        testFile = open(targetFile,\"w\")\n",
        "        testFile.write(\"test\")\n",
        "        testFile.close()\n",
        "    if count<l:\n",
        "        count=count+1\n",
        "    "
      ],
      "execution_count": null,
      "outputs": []
    }
  ]
}