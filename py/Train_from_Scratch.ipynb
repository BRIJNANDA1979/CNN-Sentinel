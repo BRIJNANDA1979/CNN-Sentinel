{
 "cells": [
  {
   "cell_type": "markdown",
   "metadata": {},
   "source": [
    "# Notebook for 05_train_ms_from_scratch.py"
   ]
  },
  {
   "cell_type": "markdown",
   "metadata": {},
   "source": [
    "###  Import libaries"
   ]
  },
  {
   "cell_type": "code",
   "execution_count": null,
   "metadata": {},
   "outputs": [],
   "source": [
    "import os\n",
    "from glob import glob\n",
    "\n",
    "from tensorflow.keras.applications.vgg16 import VGG16 as VGG\n",
    "from tensorflow.keras.applications.densenet import DenseNet201 as DenseNet\n",
    "from tensorflow.keras.layers import GlobalAveragePooling2D, Dense\n",
    "from tensorflow.keras.models import Model\n",
    "from tensorflow.keras.callbacks import ModelCheckpoint, EarlyStopping, TensorBoard\n",
    "\n",
    "from image_functions import simple_image_generator"
   ]
  },
  {
   "cell_type": "markdown",
   "metadata": {},
   "source": [
    "### define path to training and validation data"
   ]
  },
  {
   "cell_type": "code",
   "execution_count": null,
   "metadata": {},
   "outputs": [],
   "source": [
    "# variables\n",
    "path_to_split_datasets = \"~/Documents/Data/PyCon/AllBands\"\n",
    "use_vgg = False\n",
    "batch_size = 64\n",
    "\n",
    "# contruct path\n",
    "path_to_home = os.path.expanduser(\"~\")\n",
    "path_to_split_datasets = path_to_split_datasets.replace(\"~\", path_to_home)\n",
    "path_to_train = os.path.join(path_to_split_datasets, \"train\")\n",
    "path_to_validation = os.path.join(path_to_split_datasets, \"validation\")"
   ]
  },
  {
   "cell_type": "markdown",
   "metadata": {},
   "source": [
    "![tree](images_for_notebook/tree_files.png \"file_tree\")"
   ]
  },
  {
   "cell_type": "markdown",
   "metadata": {},
   "source": [
    "### define classes"
   ]
  },
  {
   "cell_type": "code",
   "execution_count": null,
   "metadata": {},
   "outputs": [],
   "source": [
    "class_indices = {'AnnualCrop': 0, 'Forest': 1, 'HerbaceousVegetation': 2,\n",
    "                 'Highway': 3, 'Industrial': 4, 'Pasture': 5,\n",
    "                 'PermanentCrop': 6, 'Residential': 7, 'River': 8,\n",
    "                 'SeaLake': 9}\n",
    "num_classes = len(class_indices)"
   ]
  },
  {
   "cell_type": "markdown",
   "metadata": {},
   "source": [
    "## Training from scratch"
   ]
  },
  {
   "cell_type": "markdown",
   "metadata": {},
   "source": [
    "![vgg16](images_for_notebook/vgg16.png \"Original VGG\")\n"
   ]
  },
  {
   "cell_type": "markdown",
   "metadata": {},
   "source": [
    "### 1. Initialize network model without top layers"
   ]
  },
  {
   "cell_type": "markdown",
   "metadata": {},
   "source": [
    "![vgg16_no_top](images_for_notebook/vgg16_no_top.png \"VGG no top\")"
   ]
  },
  {
   "cell_type": "code",
   "execution_count": null,
   "metadata": {},
   "outputs": [],
   "source": [
    "# parameters for CNN\n",
    "if use_vgg:\n",
    "    base_model = VGG(include_top=False,\n",
    "                     weights=None,\n",
    "                     input_shape=(64, 64, 13))\n",
    "else:\n",
    "    base_model = DenseNet(include_top=False,\n",
    "                          weights=None,\n",
    "                          input_shape=(64, 64, 13))"
   ]
  },
  {
   "cell_type": "markdown",
   "metadata": {},
   "source": [
    "### 2. define new top layers"
   ]
  },
  {
   "cell_type": "markdown",
   "metadata": {},
   "source": [
    "![vgg16_sentinel_rgb](images_for_notebook/vgg16_sentinel_rgb.png \"VGG RGB Sentinel\")"
   ]
  },
  {
   "cell_type": "code",
   "execution_count": null,
   "metadata": {},
   "outputs": [],
   "source": [
    "# add a global spatial average pooling layer\n",
    "top_model = base_model.output\n",
    "top_model = GlobalAveragePooling2D()(top_model)\n",
    "# or just flatten the layers\n",
    "#    top_model = Flatten()(top_model)\n",
    "# let's add a fully-connected layer\n",
    "if use_vgg:\n",
    "    # only in VGG19 a fully connected nn is added for classfication\n",
    "    # DenseNet tends to overfitting if using additionally dense layers\n",
    "    top_model = Dense(2048, activation='relu')(top_model)\n",
    "    top_model = Dense(2048, activation='relu')(top_model)\n",
    "# and a logistic layer\n",
    "predictions = Dense(num_classes, activation='softmax')(top_model)\n",
    "# this is the model we will train\n",
    "model = Model(inputs=base_model.input, outputs=predictions)\n",
    "# print network structure\n",
    "model.summary()"
   ]
  },
  {
   "cell_type": "markdown",
   "metadata": {},
   "source": [
    "### 3. define data augmentation"
   ]
  },
  {
   "cell_type": "code",
   "execution_count": null,
   "metadata": {},
   "outputs": [],
   "source": [
    "# defining ImageDataGenerators\n",
    "# ... initialization for training\n",
    "training_files = glob(path_to_train + \"/**/*.tif\")\n",
    "train_generator = simple_image_generator(training_files, class_indices,\n",
    "                                         batch_size=batch_size,\n",
    "                                         rotation_range=45,\n",
    "                                         horizontal_flip=True,\n",
    "                                         vertical_flip=True)\n",
    "\n",
    "# ... initialization for validation\n",
    "validation_files = glob(path_to_validation + \"/**/*.tif\")\n",
    "validation_generator = simple_image_generator(validation_files, class_indices,\n",
    "                                              batch_size=batch_size)"
   ]
  },
  {
   "cell_type": "markdown",
   "metadata": {},
   "source": [
    "### 4. define callbacks"
   ]
  },
  {
   "cell_type": "code",
   "execution_count": null,
   "metadata": {},
   "outputs": [],
   "source": [
    "# generate callback to save best model w.r.t val_categorical_accuracy\n",
    "if use_vgg:\n",
    "    file_name = \"vgg\"\n",
    "else:\n",
    "    file_name = \"dense\"\n",
    "checkpointer = ModelCheckpoint(\"../data/models/\" + file_name +\n",
    "                               \"_ms_from_scratch.\" +\n",
    "                               \"{epoch:02d}-{val_categorical_accuracy:.3f}.\" +\n",
    "                               \"hdf5\",\n",
    "                               monitor='val_categorical_accuracy',\n",
    "                               verbose=1,\n",
    "                               save_best_only=True,\n",
    "                               mode='max')\n",
    "earlystopper = EarlyStopping(monitor='val_categorical_accuracy',\n",
    "                             patience=50,\n",
    "                             mode='max',\n",
    "                             restore_best_weights=True)\n",
    "\n",
    "tensorboard = TensorBoard(log_dir='./logs', write_graph=True,\n",
    "                          write_images=True, update_freq='epoch')"
   ]
  },
  {
   "cell_type": "markdown",
   "metadata": {},
   "source": [
    "![tensorflow](images_for_notebook/tensorflow.png \"VGG RGB Sentinel\")"
   ]
  },
  {
   "cell_type": "markdown",
   "metadata": {},
   "source": [
    "### 8. fit model"
   ]
  },
  {
   "cell_type": "code",
   "execution_count": null,
   "metadata": {},
   "outputs": [],
   "source": [
    "# compile the model\n",
    "model.compile(optimizer='adam', loss='categorical_crossentropy',\n",
    "              metrics=['categorical_accuracy'])\n",
    "\n",
    "model.fit(\n",
    "        train_generator,\n",
    "        steps_per_epoch=100,\n",
    "        epochs=5,\n",
    "        callbacks=[checkpointer, earlystopper, tensorboard],\n",
    "        validation_data=validation_generator,\n",
    "        validation_steps=500)"
   ]
  },
  {
   "cell_type": "code",
   "execution_count": null,
   "metadata": {},
   "outputs": [],
   "source": []
  }
 ],
 "metadata": {
  "kernelspec": {
   "display_name": "Python 3",
   "language": "python",
   "name": "python3"
  },
  "language_info": {
   "codemirror_mode": {
    "name": "ipython",
    "version": 3
   },
   "file_extension": ".py",
   "mimetype": "text/x-python",
   "name": "python",
   "nbconvert_exporter": "python",
   "pygments_lexer": "ipython3",
   "version": "3.8.5"
  },
  "varInspector": {
   "cols": {
    "lenName": 16,
    "lenType": 16,
    "lenVar": 40
   },
   "kernels_config": {
    "python": {
     "delete_cmd_postfix": "",
     "delete_cmd_prefix": "del ",
     "library": "var_list.py",
     "varRefreshCmd": "print(var_dic_list())"
    },
    "r": {
     "delete_cmd_postfix": ") ",
     "delete_cmd_prefix": "rm(",
     "library": "var_list.r",
     "varRefreshCmd": "cat(var_dic_list()) "
    }
   },
   "types_to_exclude": [
    "module",
    "function",
    "builtin_function_or_method",
    "instance",
    "_Feature"
   ],
   "window_display": false
  }
 },
 "nbformat": 4,
 "nbformat_minor": 2
}
