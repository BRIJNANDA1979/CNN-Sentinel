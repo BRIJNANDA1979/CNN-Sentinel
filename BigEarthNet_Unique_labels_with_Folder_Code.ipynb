{
  "nbformat": 4,
  "nbformat_minor": 0,
  "metadata": {
    "colab": {
      "name": "BigEarthNet Unique labels with Folder_Code.ipynb",
      "provenance": [],
      "authorship_tag": "ABX9TyOZ0YltUak5rx76DQrLCgBB",
      "include_colab_link": true
    },
    "kernelspec": {
      "name": "python3",
      "display_name": "Python 3"
    },
    "language_info": {
      "name": "python"
    }
  },
  "cells": [
    {
      "cell_type": "markdown",
      "metadata": {
        "id": "view-in-github",
        "colab_type": "text"
      },
      "source": [
        "<a href=\"https://colab.research.google.com/github/BRIJNANDA1979/CNN-Sentinel/blob/master/BigEarthNet_Unique_labels_with_Folder_Code.ipynb\" target=\"_parent\"><img src=\"https://colab.research.google.com/assets/colab-badge.svg\" alt=\"Open In Colab\"/></a>"
      ]
    },
    {
      "cell_type": "code",
      "metadata": {
        "id": "SEHdt18C_fr3"
      },
      "source": [
        "# -*- coding: utf-8 -*-\n",
        "\"\"\"\n",
        "Created on Fri Jun 11 02:28:22 2021\n",
        "\n",
        "@author: BRIJB\n",
        "\"\"\"\n",
        "\n",
        "import os\n",
        "import pandas as pd\n",
        "path='E:\\BigEarthNet_Labelled 12925 Data.csv' #read labels Bigearthnet\n",
        "df=pd.read_csv(path)\n",
        "nf=[]  # list for 'name_of_folders'\n",
        "fc=[]    # list for folder_code\n",
        "fn=[]   # name of geotiff file\n",
        "for row in df.itertuples():\n",
        "    s=row[3]  # name_of_folders column in Df\n",
        "    ls=s.split('_')\n",
        "    if(len(ls) == 1):\n",
        "        nf.append(row[3])\n",
        "        fc.append(row[2])\n",
        "        fn.append(row[4])\n",
        "\n",
        "df1 = pd.DataFrame()\n",
        "df1['folder_code'] = fc\n",
        "df1['name_of_folders'] =  nf\n",
        "#df1['file_for_each_class'] = fn\n",
        "df1.to_csv('E:\\BigEarthNet unique labels with folder_code.csv')\n",
        "\n",
        "\n"
      ],
      "execution_count": null,
      "outputs": []
    }
  ]
}