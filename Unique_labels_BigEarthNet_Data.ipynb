{
  "nbformat": 4,
  "nbformat_minor": 0,
  "metadata": {
    "colab": {
      "name": "Unique labels BigEarthNet Data.ipynb",
      "provenance": [],
      "collapsed_sections": [],
      "mount_file_id": "1L-0ifksnD90M8XaVUe0H6VLVEDV4aZGv",
      "authorship_tag": "ABX9TyOmbNm6bmdGRf9Lc1X8fBtZ",
      "include_colab_link": true
    },
    "kernelspec": {
      "name": "python3",
      "display_name": "Python 3"
    },
    "language_info": {
      "name": "python"
    }
  },
  "cells": [
    {
      "cell_type": "markdown",
      "metadata": {
        "id": "view-in-github",
        "colab_type": "text"
      },
      "source": [
        "<a href=\"https://colab.research.google.com/github/BRIJNANDA1979/CNN-Sentinel/blob/master/Unique_labels_BigEarthNet_Data.ipynb\" target=\"_parent\"><img src=\"https://colab.research.google.com/assets/colab-badge.svg\" alt=\"Open In Colab\"/></a>"
      ]
    },
    {
      "cell_type": "code",
      "metadata": {
        "id": "Z7p1WuD5ellS"
      },
      "source": [
        "import os\n",
        "import pandas as pd"
      ],
      "execution_count": 104,
      "outputs": []
    },
    {
      "cell_type": "code",
      "metadata": {
        "id": "hRgTLC1Meoly"
      },
      "source": [
        "#open Fully labelled using BigEarthNet Data processing.ipynb that generates BigEarthNet CSV file containing 590326 files and labels\n",
        "#35 types of Unique labelled geotiff 114027 images\n",
        "path = '/content/drive/MyDrive/output.csv'"
      ],
      "execution_count": 105,
      "outputs": []
    },
    {
      "cell_type": "code",
      "metadata": {
        "id": "oSKfYBiOexhW",
        "colab": {
          "base_uri": "https://localhost:8080/"
        },
        "outputId": "9218aa00-0862-45a8-f90f-857796b83975"
      },
      "source": [
        "df = pd.read_csv(path)\n",
        "df.count()"
      ],
      "execution_count": 106,
      "outputs": [
        {
          "output_type": "execute_result",
          "data": {
            "text/plain": [
              "labels    590326\n",
              "files     590326\n",
              "dtype: int64"
            ]
          },
          "metadata": {
            "tags": []
          },
          "execution_count": 106
        }
      ]
    },
    {
      "cell_type": "code",
      "metadata": {
        "colab": {
          "base_uri": "https://localhost:8080/",
          "height": 204
        },
        "id": "8jP1N19CfGcB",
        "outputId": "40fe8ef1-ee87-466a-a492-3c8f4daddc21"
      },
      "source": [
        "df.head()"
      ],
      "execution_count": 107,
      "outputs": [
        {
          "output_type": "execute_result",
          "data": {
            "text/html": [
              "<div>\n",
              "<style scoped>\n",
              "    .dataframe tbody tr th:only-of-type {\n",
              "        vertical-align: middle;\n",
              "    }\n",
              "\n",
              "    .dataframe tbody tr th {\n",
              "        vertical-align: top;\n",
              "    }\n",
              "\n",
              "    .dataframe thead th {\n",
              "        text-align: right;\n",
              "    }\n",
              "</style>\n",
              "<table border=\"1\" class=\"dataframe\">\n",
              "  <thead>\n",
              "    <tr style=\"text-align: right;\">\n",
              "      <th></th>\n",
              "      <th>labels</th>\n",
              "      <th>files</th>\n",
              "    </tr>\n",
              "  </thead>\n",
              "  <tbody>\n",
              "    <tr>\n",
              "      <th>0</th>\n",
              "      <td>['Sea and ocean']</td>\n",
              "      <td>D:\\Bigearthnet v1 Data\\BigEarthNet-S2-v1.0\\Big...</td>\n",
              "    </tr>\n",
              "    <tr>\n",
              "      <th>1</th>\n",
              "      <td>['Sea and ocean']</td>\n",
              "      <td>D:\\Bigearthnet v1 Data\\BigEarthNet-S2-v1.0\\Big...</td>\n",
              "    </tr>\n",
              "    <tr>\n",
              "      <th>2</th>\n",
              "      <td>['Sea and ocean']</td>\n",
              "      <td>D:\\Bigearthnet v1 Data\\BigEarthNet-S2-v1.0\\Big...</td>\n",
              "    </tr>\n",
              "    <tr>\n",
              "      <th>3</th>\n",
              "      <td>['Sea and ocean']</td>\n",
              "      <td>D:\\Bigearthnet v1 Data\\BigEarthNet-S2-v1.0\\Big...</td>\n",
              "    </tr>\n",
              "    <tr>\n",
              "      <th>4</th>\n",
              "      <td>['Sea and ocean']</td>\n",
              "      <td>D:\\Bigearthnet v1 Data\\BigEarthNet-S2-v1.0\\Big...</td>\n",
              "    </tr>\n",
              "  </tbody>\n",
              "</table>\n",
              "</div>"
            ],
            "text/plain": [
              "              labels                                              files\n",
              "0  ['Sea and ocean']  D:\\Bigearthnet v1 Data\\BigEarthNet-S2-v1.0\\Big...\n",
              "1  ['Sea and ocean']  D:\\Bigearthnet v1 Data\\BigEarthNet-S2-v1.0\\Big...\n",
              "2  ['Sea and ocean']  D:\\Bigearthnet v1 Data\\BigEarthNet-S2-v1.0\\Big...\n",
              "3  ['Sea and ocean']  D:\\Bigearthnet v1 Data\\BigEarthNet-S2-v1.0\\Big...\n",
              "4  ['Sea and ocean']  D:\\Bigearthnet v1 Data\\BigEarthNet-S2-v1.0\\Big..."
            ]
          },
          "metadata": {
            "tags": []
          },
          "execution_count": 107
        }
      ]
    },
    {
      "cell_type": "code",
      "metadata": {
        "colab": {
          "base_uri": "https://localhost:8080/",
          "height": 204
        },
        "id": "u48WJmfLp41u",
        "outputId": "83d08c98-82c2-443e-eb3f-1f5190595a31"
      },
      "source": [
        "df.tail()"
      ],
      "execution_count": 108,
      "outputs": [
        {
          "output_type": "execute_result",
          "data": {
            "text/html": [
              "<div>\n",
              "<style scoped>\n",
              "    .dataframe tbody tr th:only-of-type {\n",
              "        vertical-align: middle;\n",
              "    }\n",
              "\n",
              "    .dataframe tbody tr th {\n",
              "        vertical-align: top;\n",
              "    }\n",
              "\n",
              "    .dataframe thead th {\n",
              "        text-align: right;\n",
              "    }\n",
              "</style>\n",
              "<table border=\"1\" class=\"dataframe\">\n",
              "  <thead>\n",
              "    <tr style=\"text-align: right;\">\n",
              "      <th></th>\n",
              "      <th>labels</th>\n",
              "      <th>files</th>\n",
              "    </tr>\n",
              "  </thead>\n",
              "  <tbody>\n",
              "    <tr>\n",
              "      <th>590321</th>\n",
              "      <td>['Coniferous forest', 'Mixed forest', 'Water b...</td>\n",
              "      <td>D:\\Bigearthnet v1 Data\\BigEarthNet-S2-v1.0\\Big...</td>\n",
              "    </tr>\n",
              "    <tr>\n",
              "      <th>590322</th>\n",
              "      <td>['Coniferous forest', 'Mixed forest']</td>\n",
              "      <td>D:\\Bigearthnet v1 Data\\BigEarthNet-S2-v1.0\\Big...</td>\n",
              "    </tr>\n",
              "    <tr>\n",
              "      <th>590323</th>\n",
              "      <td>['Coniferous forest', 'Mixed forest']</td>\n",
              "      <td>D:\\Bigearthnet v1 Data\\BigEarthNet-S2-v1.0\\Big...</td>\n",
              "    </tr>\n",
              "    <tr>\n",
              "      <th>590324</th>\n",
              "      <td>['Coniferous forest', 'Mixed forest', 'Transit...</td>\n",
              "      <td>D:\\Bigearthnet v1 Data\\BigEarthNet-S2-v1.0\\Big...</td>\n",
              "    </tr>\n",
              "    <tr>\n",
              "      <th>590325</th>\n",
              "      <td>['Coniferous forest', 'Mixed forest', 'Transit...</td>\n",
              "      <td>D:\\Bigearthnet v1 Data\\BigEarthNet-S2-v1.0\\Big...</td>\n",
              "    </tr>\n",
              "  </tbody>\n",
              "</table>\n",
              "</div>"
            ],
            "text/plain": [
              "                                                   labels                                              files\n",
              "590321  ['Coniferous forest', 'Mixed forest', 'Water b...  D:\\Bigearthnet v1 Data\\BigEarthNet-S2-v1.0\\Big...\n",
              "590322              ['Coniferous forest', 'Mixed forest']  D:\\Bigearthnet v1 Data\\BigEarthNet-S2-v1.0\\Big...\n",
              "590323              ['Coniferous forest', 'Mixed forest']  D:\\Bigearthnet v1 Data\\BigEarthNet-S2-v1.0\\Big...\n",
              "590324  ['Coniferous forest', 'Mixed forest', 'Transit...  D:\\Bigearthnet v1 Data\\BigEarthNet-S2-v1.0\\Big...\n",
              "590325  ['Coniferous forest', 'Mixed forest', 'Transit...  D:\\Bigearthnet v1 Data\\BigEarthNet-S2-v1.0\\Big..."
            ]
          },
          "metadata": {
            "tags": []
          },
          "execution_count": 108
        }
      ]
    },
    {
      "cell_type": "code",
      "metadata": {
        "colab": {
          "base_uri": "https://localhost:8080/",
          "height": 204
        },
        "id": "O-YOOrqep8Du",
        "outputId": "d42814af-b51a-430f-988f-37de4ec6d089"
      },
      "source": [
        "df['labels'] = df['labels'].str.replace('[', '') #string Data processing\n",
        "df.tail()\n",
        "df['labels'] = df['labels'].str.replace(']', '')\n",
        "df.tail()"
      ],
      "execution_count": 109,
      "outputs": [
        {
          "output_type": "execute_result",
          "data": {
            "text/html": [
              "<div>\n",
              "<style scoped>\n",
              "    .dataframe tbody tr th:only-of-type {\n",
              "        vertical-align: middle;\n",
              "    }\n",
              "\n",
              "    .dataframe tbody tr th {\n",
              "        vertical-align: top;\n",
              "    }\n",
              "\n",
              "    .dataframe thead th {\n",
              "        text-align: right;\n",
              "    }\n",
              "</style>\n",
              "<table border=\"1\" class=\"dataframe\">\n",
              "  <thead>\n",
              "    <tr style=\"text-align: right;\">\n",
              "      <th></th>\n",
              "      <th>labels</th>\n",
              "      <th>files</th>\n",
              "    </tr>\n",
              "  </thead>\n",
              "  <tbody>\n",
              "    <tr>\n",
              "      <th>590321</th>\n",
              "      <td>'Coniferous forest', 'Mixed forest', 'Water bo...</td>\n",
              "      <td>D:\\Bigearthnet v1 Data\\BigEarthNet-S2-v1.0\\Big...</td>\n",
              "    </tr>\n",
              "    <tr>\n",
              "      <th>590322</th>\n",
              "      <td>'Coniferous forest', 'Mixed forest'</td>\n",
              "      <td>D:\\Bigearthnet v1 Data\\BigEarthNet-S2-v1.0\\Big...</td>\n",
              "    </tr>\n",
              "    <tr>\n",
              "      <th>590323</th>\n",
              "      <td>'Coniferous forest', 'Mixed forest'</td>\n",
              "      <td>D:\\Bigearthnet v1 Data\\BigEarthNet-S2-v1.0\\Big...</td>\n",
              "    </tr>\n",
              "    <tr>\n",
              "      <th>590324</th>\n",
              "      <td>'Coniferous forest', 'Mixed forest', 'Transiti...</td>\n",
              "      <td>D:\\Bigearthnet v1 Data\\BigEarthNet-S2-v1.0\\Big...</td>\n",
              "    </tr>\n",
              "    <tr>\n",
              "      <th>590325</th>\n",
              "      <td>'Coniferous forest', 'Mixed forest', 'Transiti...</td>\n",
              "      <td>D:\\Bigearthnet v1 Data\\BigEarthNet-S2-v1.0\\Big...</td>\n",
              "    </tr>\n",
              "  </tbody>\n",
              "</table>\n",
              "</div>"
            ],
            "text/plain": [
              "                                                   labels                                              files\n",
              "590321  'Coniferous forest', 'Mixed forest', 'Water bo...  D:\\Bigearthnet v1 Data\\BigEarthNet-S2-v1.0\\Big...\n",
              "590322                'Coniferous forest', 'Mixed forest'  D:\\Bigearthnet v1 Data\\BigEarthNet-S2-v1.0\\Big...\n",
              "590323                'Coniferous forest', 'Mixed forest'  D:\\Bigearthnet v1 Data\\BigEarthNet-S2-v1.0\\Big...\n",
              "590324  'Coniferous forest', 'Mixed forest', 'Transiti...  D:\\Bigearthnet v1 Data\\BigEarthNet-S2-v1.0\\Big...\n",
              "590325  'Coniferous forest', 'Mixed forest', 'Transiti...  D:\\Bigearthnet v1 Data\\BigEarthNet-S2-v1.0\\Big..."
            ]
          },
          "metadata": {
            "tags": []
          },
          "execution_count": 109
        }
      ]
    },
    {
      "cell_type": "code",
      "metadata": {
        "id": "UK5ep22wyhf-"
      },
      "source": [
        "series= df['labels'].str.contains(',') # Filter single labelled geotiff images"
      ],
      "execution_count": 110,
      "outputs": []
    },
    {
      "cell_type": "code",
      "metadata": {
        "colab": {
          "base_uri": "https://localhost:8080/"
        },
        "id": "O58LT4F0y94N",
        "outputId": "d6b4b496-9a20-4ca7-9bed-1a91fad6a8c6"
      },
      "source": [
        "print(series)"
      ],
      "execution_count": 111,
      "outputs": [
        {
          "output_type": "stream",
          "text": [
            "0         False\n",
            "1         False\n",
            "2         False\n",
            "3         False\n",
            "4         False\n",
            "          ...  \n",
            "590321     True\n",
            "590322     True\n",
            "590323     True\n",
            "590324     True\n",
            "590325     True\n",
            "Name: labels, Length: 590326, dtype: bool\n"
          ],
          "name": "stdout"
        }
      ]
    },
    {
      "cell_type": "code",
      "metadata": {
        "id": "IZLkq5KazA-O"
      },
      "source": [
        "df['status'] = series #add new column status to filter single labelled geotiff images"
      ],
      "execution_count": 112,
      "outputs": []
    },
    {
      "cell_type": "code",
      "metadata": {
        "colab": {
          "base_uri": "https://localhost:8080/",
          "height": 204
        },
        "id": "8wzICU2hzHX_",
        "outputId": "f0bba570-5464-4dc6-a1a8-845843c8cedc"
      },
      "source": [
        "df.tail()"
      ],
      "execution_count": 113,
      "outputs": [
        {
          "output_type": "execute_result",
          "data": {
            "text/html": [
              "<div>\n",
              "<style scoped>\n",
              "    .dataframe tbody tr th:only-of-type {\n",
              "        vertical-align: middle;\n",
              "    }\n",
              "\n",
              "    .dataframe tbody tr th {\n",
              "        vertical-align: top;\n",
              "    }\n",
              "\n",
              "    .dataframe thead th {\n",
              "        text-align: right;\n",
              "    }\n",
              "</style>\n",
              "<table border=\"1\" class=\"dataframe\">\n",
              "  <thead>\n",
              "    <tr style=\"text-align: right;\">\n",
              "      <th></th>\n",
              "      <th>labels</th>\n",
              "      <th>files</th>\n",
              "      <th>status</th>\n",
              "    </tr>\n",
              "  </thead>\n",
              "  <tbody>\n",
              "    <tr>\n",
              "      <th>590321</th>\n",
              "      <td>'Coniferous forest', 'Mixed forest', 'Water bo...</td>\n",
              "      <td>D:\\Bigearthnet v1 Data\\BigEarthNet-S2-v1.0\\Big...</td>\n",
              "      <td>True</td>\n",
              "    </tr>\n",
              "    <tr>\n",
              "      <th>590322</th>\n",
              "      <td>'Coniferous forest', 'Mixed forest'</td>\n",
              "      <td>D:\\Bigearthnet v1 Data\\BigEarthNet-S2-v1.0\\Big...</td>\n",
              "      <td>True</td>\n",
              "    </tr>\n",
              "    <tr>\n",
              "      <th>590323</th>\n",
              "      <td>'Coniferous forest', 'Mixed forest'</td>\n",
              "      <td>D:\\Bigearthnet v1 Data\\BigEarthNet-S2-v1.0\\Big...</td>\n",
              "      <td>True</td>\n",
              "    </tr>\n",
              "    <tr>\n",
              "      <th>590324</th>\n",
              "      <td>'Coniferous forest', 'Mixed forest', 'Transiti...</td>\n",
              "      <td>D:\\Bigearthnet v1 Data\\BigEarthNet-S2-v1.0\\Big...</td>\n",
              "      <td>True</td>\n",
              "    </tr>\n",
              "    <tr>\n",
              "      <th>590325</th>\n",
              "      <td>'Coniferous forest', 'Mixed forest', 'Transiti...</td>\n",
              "      <td>D:\\Bigearthnet v1 Data\\BigEarthNet-S2-v1.0\\Big...</td>\n",
              "      <td>True</td>\n",
              "    </tr>\n",
              "  </tbody>\n",
              "</table>\n",
              "</div>"
            ],
            "text/plain": [
              "                                                   labels  ... status\n",
              "590321  'Coniferous forest', 'Mixed forest', 'Water bo...  ...   True\n",
              "590322                'Coniferous forest', 'Mixed forest'  ...   True\n",
              "590323                'Coniferous forest', 'Mixed forest'  ...   True\n",
              "590324  'Coniferous forest', 'Mixed forest', 'Transiti...  ...   True\n",
              "590325  'Coniferous forest', 'Mixed forest', 'Transiti...  ...   True\n",
              "\n",
              "[5 rows x 3 columns]"
            ]
          },
          "metadata": {
            "tags": []
          },
          "execution_count": 113
        }
      ]
    },
    {
      "cell_type": "code",
      "metadata": {
        "id": "3FLYpiVs1nZm"
      },
      "source": [
        "ls=[]\n",
        "files=[]\n",
        "for row in df.itertuples(): #iterate each row to filter \n",
        "    #print(row[3])\n",
        "    if(row[3]== False):\n",
        "      ls.append(row[1]) #filtered labels\n",
        "      files.append(row[2])\n",
        "\n"
      ],
      "execution_count": 114,
      "outputs": []
    },
    {
      "cell_type": "code",
      "metadata": {
        "colab": {
          "base_uri": "https://localhost:8080/"
        },
        "id": "zSYsT_iw5GLg",
        "outputId": "d5b14e9a-9994-4865-a0d2-48d13ea81d10"
      },
      "source": [
        "print(ls[0:10])\n",
        "print(files[0:10])"
      ],
      "execution_count": 115,
      "outputs": [
        {
          "output_type": "stream",
          "text": [
            "[\"'Sea and ocean'\", \"'Sea and ocean'\", \"'Sea and ocean'\", \"'Sea and ocean'\", \"'Sea and ocean'\", \"'Sea and ocean'\", \"'Sea and ocean'\", \"'Sea and ocean'\", \"'Sea and ocean'\", \"'Sea and ocean'\"]\n",
            "['D:\\\\Bigearthnet v1 Data\\\\BigEarthNet-S2-v1.0\\\\BigEarthNet-v1.0/S2A_MSIL2A_20170613T101031_0_45\\\\S2A_MSIL2A_20170613T101031_0_45_labels_metadata.json', 'D:\\\\Bigearthnet v1 Data\\\\BigEarthNet-S2-v1.0\\\\BigEarthNet-v1.0/S2A_MSIL2A_20170613T101031_0_46\\\\S2A_MSIL2A_20170613T101031_0_46_labels_metadata.json', 'D:\\\\Bigearthnet v1 Data\\\\BigEarthNet-S2-v1.0\\\\BigEarthNet-v1.0/S2A_MSIL2A_20170613T101031_0_47\\\\S2A_MSIL2A_20170613T101031_0_47_labels_metadata.json', 'D:\\\\Bigearthnet v1 Data\\\\BigEarthNet-S2-v1.0\\\\BigEarthNet-v1.0/S2A_MSIL2A_20170613T101031_0_48\\\\S2A_MSIL2A_20170613T101031_0_48_labels_metadata.json', 'D:\\\\Bigearthnet v1 Data\\\\BigEarthNet-S2-v1.0\\\\BigEarthNet-v1.0/S2A_MSIL2A_20170613T101031_0_49\\\\S2A_MSIL2A_20170613T101031_0_49_labels_metadata.json', 'D:\\\\Bigearthnet v1 Data\\\\BigEarthNet-S2-v1.0\\\\BigEarthNet-v1.0/S2A_MSIL2A_20170613T101031_0_50\\\\S2A_MSIL2A_20170613T101031_0_50_labels_metadata.json', 'D:\\\\Bigearthnet v1 Data\\\\BigEarthNet-S2-v1.0\\\\BigEarthNet-v1.0/S2A_MSIL2A_20170613T101031_0_51\\\\S2A_MSIL2A_20170613T101031_0_51_labels_metadata.json', 'D:\\\\Bigearthnet v1 Data\\\\BigEarthNet-S2-v1.0\\\\BigEarthNet-v1.0/S2A_MSIL2A_20170613T101031_0_52\\\\S2A_MSIL2A_20170613T101031_0_52_labels_metadata.json', 'D:\\\\Bigearthnet v1 Data\\\\BigEarthNet-S2-v1.0\\\\BigEarthNet-v1.0/S2A_MSIL2A_20170613T101031_0_53\\\\S2A_MSIL2A_20170613T101031_0_53_labels_metadata.json', 'D:\\\\Bigearthnet v1 Data\\\\BigEarthNet-S2-v1.0\\\\BigEarthNet-v1.0/S2A_MSIL2A_20170613T101031_0_54\\\\S2A_MSIL2A_20170613T101031_0_54_labels_metadata.json']\n"
          ],
          "name": "stdout"
        }
      ]
    },
    {
      "cell_type": "code",
      "metadata": {
        "colab": {
          "base_uri": "https://localhost:8080/",
          "height": 453
        },
        "id": "S94GtKaZ5MUG",
        "outputId": "12191cdf-c53f-4c70-fe16-e9c455f765a4"
      },
      "source": [
        "print(len(ls))   #these are Single labelled images 114027 images\n",
        "print(len(files))\n",
        "df=pd.DataFrame()\n",
        "df['unique_labels'] = ls\n",
        "df['files'] = files\n",
        "\n",
        "df"
      ],
      "execution_count": 116,
      "outputs": [
        {
          "output_type": "stream",
          "text": [
            "114027\n",
            "114027\n"
          ],
          "name": "stdout"
        },
        {
          "output_type": "execute_result",
          "data": {
            "text/html": [
              "<div>\n",
              "<style scoped>\n",
              "    .dataframe tbody tr th:only-of-type {\n",
              "        vertical-align: middle;\n",
              "    }\n",
              "\n",
              "    .dataframe tbody tr th {\n",
              "        vertical-align: top;\n",
              "    }\n",
              "\n",
              "    .dataframe thead th {\n",
              "        text-align: right;\n",
              "    }\n",
              "</style>\n",
              "<table border=\"1\" class=\"dataframe\">\n",
              "  <thead>\n",
              "    <tr style=\"text-align: right;\">\n",
              "      <th></th>\n",
              "      <th>unique_labels</th>\n",
              "      <th>files</th>\n",
              "    </tr>\n",
              "  </thead>\n",
              "  <tbody>\n",
              "    <tr>\n",
              "      <th>0</th>\n",
              "      <td>'Sea and ocean'</td>\n",
              "      <td>D:\\Bigearthnet v1 Data\\BigEarthNet-S2-v1.0\\Big...</td>\n",
              "    </tr>\n",
              "    <tr>\n",
              "      <th>1</th>\n",
              "      <td>'Sea and ocean'</td>\n",
              "      <td>D:\\Bigearthnet v1 Data\\BigEarthNet-S2-v1.0\\Big...</td>\n",
              "    </tr>\n",
              "    <tr>\n",
              "      <th>2</th>\n",
              "      <td>'Sea and ocean'</td>\n",
              "      <td>D:\\Bigearthnet v1 Data\\BigEarthNet-S2-v1.0\\Big...</td>\n",
              "    </tr>\n",
              "    <tr>\n",
              "      <th>3</th>\n",
              "      <td>'Sea and ocean'</td>\n",
              "      <td>D:\\Bigearthnet v1 Data\\BigEarthNet-S2-v1.0\\Big...</td>\n",
              "    </tr>\n",
              "    <tr>\n",
              "      <th>4</th>\n",
              "      <td>'Sea and ocean'</td>\n",
              "      <td>D:\\Bigearthnet v1 Data\\BigEarthNet-S2-v1.0\\Big...</td>\n",
              "    </tr>\n",
              "    <tr>\n",
              "      <th>...</th>\n",
              "      <td>...</td>\n",
              "      <td>...</td>\n",
              "    </tr>\n",
              "    <tr>\n",
              "      <th>114022</th>\n",
              "      <td>'Coniferous forest'</td>\n",
              "      <td>D:\\Bigearthnet v1 Data\\BigEarthNet-S2-v1.0\\Big...</td>\n",
              "    </tr>\n",
              "    <tr>\n",
              "      <th>114023</th>\n",
              "      <td>'Coniferous forest'</td>\n",
              "      <td>D:\\Bigearthnet v1 Data\\BigEarthNet-S2-v1.0\\Big...</td>\n",
              "    </tr>\n",
              "    <tr>\n",
              "      <th>114024</th>\n",
              "      <td>'Coniferous forest'</td>\n",
              "      <td>D:\\Bigearthnet v1 Data\\BigEarthNet-S2-v1.0\\Big...</td>\n",
              "    </tr>\n",
              "    <tr>\n",
              "      <th>114025</th>\n",
              "      <td>'Coniferous forest'</td>\n",
              "      <td>D:\\Bigearthnet v1 Data\\BigEarthNet-S2-v1.0\\Big...</td>\n",
              "    </tr>\n",
              "    <tr>\n",
              "      <th>114026</th>\n",
              "      <td>'Coniferous forest'</td>\n",
              "      <td>D:\\Bigearthnet v1 Data\\BigEarthNet-S2-v1.0\\Big...</td>\n",
              "    </tr>\n",
              "  </tbody>\n",
              "</table>\n",
              "<p>114027 rows × 2 columns</p>\n",
              "</div>"
            ],
            "text/plain": [
              "              unique_labels                                              files\n",
              "0           'Sea and ocean'  D:\\Bigearthnet v1 Data\\BigEarthNet-S2-v1.0\\Big...\n",
              "1           'Sea and ocean'  D:\\Bigearthnet v1 Data\\BigEarthNet-S2-v1.0\\Big...\n",
              "2           'Sea and ocean'  D:\\Bigearthnet v1 Data\\BigEarthNet-S2-v1.0\\Big...\n",
              "3           'Sea and ocean'  D:\\Bigearthnet v1 Data\\BigEarthNet-S2-v1.0\\Big...\n",
              "4           'Sea and ocean'  D:\\Bigearthnet v1 Data\\BigEarthNet-S2-v1.0\\Big...\n",
              "...                     ...                                                ...\n",
              "114022  'Coniferous forest'  D:\\Bigearthnet v1 Data\\BigEarthNet-S2-v1.0\\Big...\n",
              "114023  'Coniferous forest'  D:\\Bigearthnet v1 Data\\BigEarthNet-S2-v1.0\\Big...\n",
              "114024  'Coniferous forest'  D:\\Bigearthnet v1 Data\\BigEarthNet-S2-v1.0\\Big...\n",
              "114025  'Coniferous forest'  D:\\Bigearthnet v1 Data\\BigEarthNet-S2-v1.0\\Big...\n",
              "114026  'Coniferous forest'  D:\\Bigearthnet v1 Data\\BigEarthNet-S2-v1.0\\Big...\n",
              "\n",
              "[114027 rows x 2 columns]"
            ]
          },
          "metadata": {
            "tags": []
          },
          "execution_count": 116
        }
      ]
    },
    {
      "cell_type": "code",
      "metadata": {
        "colab": {
          "base_uri": "https://localhost:8080/"
        },
        "id": "tpwI7Xte6kqZ",
        "outputId": "c934ee14-3273-4272-bb4a-08c44a21970d"
      },
      "source": [
        "uls=set(df['unique_labels']) # Only 35 types of unique labelled images\n",
        "print(uls)\n",
        "len(uls)"
      ],
      "execution_count": 117,
      "outputs": [
        {
          "output_type": "stream",
          "text": [
            "{\"'Rice fields'\", \"'Industrial or commercial units'\", \"'Sparsely vegetated areas'\", \"'Vineyards'\", \"'Non-irrigated arable land'\", \"'Olive groves'\", \"'Sea and ocean'\", \"'Discontinuous urban fabric'\", \"'Mineral extraction sites'\", \"'Coniferous forest'\", \"'Coastal lagoons'\", \"'Estuaries'\", \"'Fruit trees and berry plantations'\", \"'Salt marshes'\", \"'Intertidal flats'\", \"'Mixed forest'\", \"'Broad-leaved forest'\", \"'Green urban areas'\", \"'Sclerophyllous vegetation'\", \"'Sport and leisure facilities'\", \"'Dump sites'\", \"'Natural grassland'\", \"'Agro-forestry areas'\", \"'Transitional woodland/shrub'\", \"'Water bodies'\", \"'Peatbogs'\", \"'Permanently irrigated land'\", \"'Annual crops associated with permanent crops'\", \"'Complex cultivation patterns'\", \"'Airports'\", \"'Water courses'\", \"'Continuous urban fabric'\", \"'Moors and heathland'\", \"'Inland marshes'\", \"'Pastures'\"}\n"
          ],
          "name": "stdout"
        },
        {
          "output_type": "execute_result",
          "data": {
            "text/plain": [
              "35"
            ]
          },
          "metadata": {
            "tags": []
          },
          "execution_count": 117
        }
      ]
    },
    {
      "cell_type": "code",
      "metadata": {
        "colab": {
          "base_uri": "https://localhost:8080/"
        },
        "id": "Y89QiWYp6tWO",
        "outputId": "4386a5ef-003d-41e3-98fe-e9b9849e9c14"
      },
      "source": [
        "type(uls)"
      ],
      "execution_count": 118,
      "outputs": [
        {
          "output_type": "execute_result",
          "data": {
            "text/plain": [
              "set"
            ]
          },
          "metadata": {
            "tags": []
          },
          "execution_count": 118
        }
      ]
    },
    {
      "cell_type": "code",
      "metadata": {
        "colab": {
          "base_uri": "https://localhost:8080/"
        },
        "id": "SViZNk_F-P7e",
        "outputId": "23f9b29e-0375-497e-b5cd-4bf6fdee51ed"
      },
      "source": [
        "unique_labels = l\n",
        "print(len(unique_labels))\n",
        "df =  pd.DataFrame()\n",
        "df['unique_labels'] = unique_labels\n",
        "df.to_csv('/content/drive/MyDrive/unique_bigeathnet_labels.csv',index=False)\n"
      ],
      "execution_count": 119,
      "outputs": [
        {
          "output_type": "stream",
          "text": [
            "114027\n"
          ],
          "name": "stdout"
        }
      ]
    },
    {
      "cell_type": "code",
      "metadata": {
        "colab": {
          "base_uri": "https://localhost:8080/"
        },
        "id": "VMy0g2VxH7Ov",
        "outputId": "fa627f44-5d2f-4eb2-f67d-70cb1695d968"
      },
      "source": [
        "print(df)\n"
      ],
      "execution_count": 120,
      "outputs": [
        {
          "output_type": "stream",
          "text": [
            "            unique_labels\n",
            "0           Sea and ocean\n",
            "1           Sea and ocean\n",
            "2           Sea and ocean\n",
            "3           Sea and ocean\n",
            "4           Sea and ocean\n",
            "...                   ...\n",
            "114022  Coniferous forest\n",
            "114023  Coniferous forest\n",
            "114024  Coniferous forest\n",
            "114025  Coniferous forest\n",
            "114026  Coniferous forest\n",
            "\n",
            "[114027 rows x 1 columns]\n"
          ],
          "name": "stdout"
        }
      ]
    },
    {
      "cell_type": "code",
      "metadata": {
        "colab": {
          "base_uri": "https://localhost:8080/",
          "height": 204
        },
        "id": "L4fC86wiUQhq",
        "outputId": "73b7244b-a95e-4e17-fb0d-70e0d25b4ef1"
      },
      "source": [
        "path = '/content/drive/MyDrive/unique_bigeathnet_labels.csv'\n",
        "df= pd.read_csv(path)\n",
        "df.tail()"
      ],
      "execution_count": 121,
      "outputs": [
        {
          "output_type": "execute_result",
          "data": {
            "text/html": [
              "<div>\n",
              "<style scoped>\n",
              "    .dataframe tbody tr th:only-of-type {\n",
              "        vertical-align: middle;\n",
              "    }\n",
              "\n",
              "    .dataframe tbody tr th {\n",
              "        vertical-align: top;\n",
              "    }\n",
              "\n",
              "    .dataframe thead th {\n",
              "        text-align: right;\n",
              "    }\n",
              "</style>\n",
              "<table border=\"1\" class=\"dataframe\">\n",
              "  <thead>\n",
              "    <tr style=\"text-align: right;\">\n",
              "      <th></th>\n",
              "      <th>unique_labels</th>\n",
              "    </tr>\n",
              "  </thead>\n",
              "  <tbody>\n",
              "    <tr>\n",
              "      <th>114022</th>\n",
              "      <td>Coniferous forest</td>\n",
              "    </tr>\n",
              "    <tr>\n",
              "      <th>114023</th>\n",
              "      <td>Coniferous forest</td>\n",
              "    </tr>\n",
              "    <tr>\n",
              "      <th>114024</th>\n",
              "      <td>Coniferous forest</td>\n",
              "    </tr>\n",
              "    <tr>\n",
              "      <th>114025</th>\n",
              "      <td>Coniferous forest</td>\n",
              "    </tr>\n",
              "    <tr>\n",
              "      <th>114026</th>\n",
              "      <td>Coniferous forest</td>\n",
              "    </tr>\n",
              "  </tbody>\n",
              "</table>\n",
              "</div>"
            ],
            "text/plain": [
              "            unique_labels\n",
              "114022  Coniferous forest\n",
              "114023  Coniferous forest\n",
              "114024  Coniferous forest\n",
              "114025  Coniferous forest\n",
              "114026  Coniferous forest"
            ]
          },
          "metadata": {
            "tags": []
          },
          "execution_count": 121
        }
      ]
    },
    {
      "cell_type": "code",
      "metadata": {
        "colab": {
          "base_uri": "https://localhost:8080/"
        },
        "id": "4rvzSXdmjqYp",
        "outputId": "87f329d6-4c80-4e8f-ac00-65f9bc1a61e1"
      },
      "source": [
        "uls=set(df['unique_labels']) # Only 35 types of unique labelled images\n",
        "print(uls)\n",
        "len(uls)"
      ],
      "execution_count": 122,
      "outputs": [
        {
          "output_type": "stream",
          "text": [
            "{'Industrial or commercial units', 'Transitional woodland/shrub', 'Continuous urban fabric', 'Green urban areas', 'Pastures', 'Permanently irrigated land', 'Sparsely vegetated areas', 'Peatbogs', 'Discontinuous urban fabric', 'Mixed forest', 'Sclerophyllous vegetation', 'Sea and ocean', 'Estuaries', 'Dump sites', 'Intertidal flats', 'Inland marshes', 'Water courses', 'Coniferous forest', 'Natural grassland', 'Agro-forestry areas', 'Rice fields', 'Coastal lagoons', 'Salt marshes', 'Annual crops associated with permanent crops', 'Sport and leisure facilities', 'Moors and heathland', 'Fruit trees and berry plantations', 'Broad-leaved forest', 'Mineral extraction sites', 'Vineyards', 'Complex cultivation patterns', 'Water bodies', 'Airports', 'Non-irrigated arable land', 'Olive groves'}\n"
          ],
          "name": "stdout"
        },
        {
          "output_type": "execute_result",
          "data": {
            "text/plain": [
              "35"
            ]
          },
          "metadata": {
            "tags": []
          },
          "execution_count": 122
        }
      ]
    },
    {
      "cell_type": "code",
      "metadata": {
        "colab": {
          "base_uri": "https://localhost:8080/"
        },
        "id": "yA7D6S1pkqUq",
        "outputId": "6e1de371-41f6-4d8b-f962-591dfde122b2"
      },
      "source": [
        "# use groupby to find number of geotiff images belonging to a particular label\n",
        "import numpy as np\n",
        "grouped = df.groupby('unique_labels')\n",
        "print(grouped['unique_labels'].agg(np.size))\n"
      ],
      "execution_count": 123,
      "outputs": [
        {
          "output_type": "stream",
          "text": [
            "unique_labels\n",
            "Agro-forestry areas                               882\n",
            "Airports                                            5\n",
            "Annual crops associated with permanent crops       19\n",
            "Broad-leaved forest                              4033\n",
            "Coastal lagoons                                   751\n",
            "Complex cultivation patterns                      131\n",
            "Coniferous forest                                5055\n",
            "Continuous urban fabric                          8281\n",
            "Discontinuous urban fabric                         96\n",
            "Dump sites                                          3\n",
            "Estuaries                                         233\n",
            "Fruit trees and berry plantations                  60\n",
            "Green urban areas                                   3\n",
            "Industrial or commercial units                      4\n",
            "Inland marshes                                     34\n",
            "Intertidal flats                                   24\n",
            "Mineral extraction sites                           10\n",
            "Mixed forest                                      584\n",
            "Moors and heathland                                32\n",
            "Natural grassland                                  13\n",
            "Non-irrigated arable land                       14072\n",
            "Olive groves                                       66\n",
            "Pastures                                         5501\n",
            "Peatbogs                                          333\n",
            "Permanently irrigated land                        227\n",
            "Rice fields                                        24\n",
            "Salt marshes                                        8\n",
            "Sclerophyllous vegetation                          95\n",
            "Sea and ocean                                   68231\n",
            "Sparsely vegetated areas                            6\n",
            "Sport and leisure facilities                        4\n",
            "Transitional woodland/shrub                       490\n",
            "Vineyards                                          29\n",
            "Water bodies                                     4669\n",
            "Water courses                                      19\n",
            "Name: unique_labels, dtype: int64\n"
          ],
          "name": "stdout"
        }
      ]
    }
  ]
}