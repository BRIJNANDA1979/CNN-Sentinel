{
  "nbformat": 4,
  "nbformat_minor": 0,
  "metadata": {
    "colab": {
      "name": "CNN_Edusat_Data_8_classes 15_May_2021",
      "provenance": [],
      "collapsed_sections": [],
      "mount_file_id": "1EpSOZIBwPZScwLkKUSSTG29llmcxwUuJ",
      "authorship_tag": "ABX9TyMY+akvqPeKjxd4uh9CW+8i",
      "include_colab_link": true
    },
    "kernelspec": {
      "name": "python3",
      "display_name": "Python 3"
    },
    "language_info": {
      "name": "python"
    }
  },
  "cells": [
    {
      "cell_type": "markdown",
      "metadata": {
        "id": "view-in-github",
        "colab_type": "text"
      },
      "source": [
        "<a href=\"https://colab.research.google.com/github/BRIJNANDA1979/CNN-Sentinel/blob/master/CNN_Edusat_Data_8_classes_15_May_2021.ipynb\" target=\"_parent\"><img src=\"https://colab.research.google.com/assets/colab-badge.svg\" alt=\"Open In Colab\"/></a>"
      ]
    },
    {
      "cell_type": "code",
      "metadata": {
        "colab": {
          "base_uri": "https://localhost:8080/"
        },
        "id": "-OI1q8T5a9D6",
        "outputId": "341ae264-ae47-4036-b105-272117057fc5"
      },
      "source": [
        "# -*- coding: utf-8 -*-\n",
        "\"\"\"\n",
        "Created on Thu May 13 03:02:04 2021\n",
        "\n",
        "@author: BRIJB\n",
        "\"\"\"\n",
        "\n",
        "from tensorflow.keras.preprocessing.image import ImageDataGenerator\n",
        "# import the needed packages\n",
        "import tensorflow as tf\n",
        "from keras import losses \n",
        "from keras import optimizers \n",
        "from keras import metrics \n",
        "import matplotlib.pyplot as plt\n",
        "import matplotlib.image as img\n",
        "import tensorflow.keras as keras\n",
        "from keras.preprocessing import image\n",
        "import numpy as np\n",
        "from keras.models import model_from_json\n",
        "import os\n",
        "\n",
        "batch_size = 30\n",
        "\n",
        "# define and move to dataset directory\n",
        "datasetdir = \"/content/drive/MyDrive/Data/Sentinel 2 Data for CNN/EuroSAT/2750\"\n",
        "import os\n",
        "os.chdir(datasetdir)\n",
        "\n",
        "\n",
        "\n",
        "# shortcut to the ImageDataGenerator class\n",
        "ImageDataGenerator = keras.preprocessing.image.ImageDataGenerator\n",
        "gen = ImageDataGenerator()\n",
        "iterator = gen.flow_from_directory(\n",
        "    os.getcwd(), \n",
        "    target_size=(64,64), \n",
        "    classes=('Forest', 'HerbaceousVegetation', 'Highway', 'Industrial', 'Pasture', 'PermanentCrop', 'Residential','SeaLake')\n",
        "    \n",
        ")\n",
        "# we can guess that the iterator has a next function, \n",
        "# because all python iterators have one. \n",
        "batch = iterator.next()\n",
        "print(len(batch))\n",
        "print(type(batch[0]))\n",
        "print(batch[0].shape)\n",
        "print(batch[0].dtype)\n",
        "#print(batch[0].max())\n",
        "#print(batch[1].shape)\n",
        "#print(batch[1].dtype)\n",
        "#print(type(batch[1]))\n",
        "#the first element is an array of 32 images with 64X64 pixels, and 3 color channels, encoded as floats in the range 0 to 255\n",
        "#The second element contains the 32 corresponding labels.\n"
      ],
      "execution_count": 1,
      "outputs": [
        {
          "output_type": "stream",
          "text": [
            "Found 16579 images belonging to 8 classes.\n",
            "2\n",
            "<class 'numpy.ndarray'>\n",
            "(32, 64, 64, 3)\n",
            "float32\n"
          ],
          "name": "stdout"
        }
      ]
    },
    {
      "cell_type": "code",
      "metadata": {
        "id": "8jwzJASRr-YK"
      },
      "source": [
        ""
      ],
      "execution_count": 1,
      "outputs": []
    },
    {
      "cell_type": "code",
      "metadata": {
        "colab": {
          "base_uri": "https://localhost:8080/"
        },
        "id": "N0dZCpZMeVJY",
        "outputId": "4812f29d-89aa-4fcb-adbe-804d839df386"
      },
      "source": [
        "batch = iterator.next()\n",
        "print(len(batch))\n",
        "print(type(batch[1]))\n",
        "print(batch[1].shape)\n",
        "print(batch[1].dtype)"
      ],
      "execution_count": 2,
      "outputs": [
        {
          "output_type": "stream",
          "text": [
            "2\n",
            "<class 'numpy.ndarray'>\n",
            "(32, 8)\n",
            "float32\n"
          ],
          "name": "stdout"
        }
      ]
    },
    {
      "cell_type": "code",
      "metadata": {
        "colab": {
          "base_uri": "https://localhost:8080/"
        },
        "id": "hYkh2R4jf8ZB",
        "outputId": "32ef769e-c09c-4422-cb2b-18f2bddd52af"
      },
      "source": [
        "imgdatagen = ImageDataGenerator(\n",
        "    rescale = 1/255., \n",
        "    validation_split = 0.2,\n",
        ")\n",
        "\n",
        "batch_size = 30\n",
        "height, width = (64,64)\n",
        "train_dataset = imgdatagen.flow_from_directory(\n",
        "    os.getcwd(),\n",
        "    target_size = (height, width), \n",
        "    classes = ('Forest', 'HerbaceousVegetation', 'Highway', 'Industrial', 'Pasture', 'PermanentCrop', 'Residential','SeaLake'),\n",
        "    batch_size = batch_size,\n",
        "    subset = 'training'\n",
        ")\n",
        "\n",
        "val_dataset = imgdatagen.flow_from_directory(\n",
        "    os.getcwd(),\n",
        "    target_size = (height, width), \n",
        "    classes = ('Forest', 'HerbaceousVegetation', 'Highway', 'Industrial', 'Pasture', 'PermanentCrop', 'Residential','SeaLake'),\n",
        "    batch_size = batch_size,\n",
        "    subset = 'validation'\n",
        ")\n",
        "#In this case out of 5000 images: Training: 4000 Validation: 20% of 4000 i.e. 1000\n",
        "model = keras.models.Sequential()"
      ],
      "execution_count": 3,
      "outputs": [
        {
          "output_type": "stream",
          "text": [
            "Found 13264 images belonging to 8 classes.\n",
            "Found 3315 images belonging to 8 classes.\n"
          ],
          "name": "stdout"
        }
      ]
    },
    {
      "cell_type": "code",
      "metadata": {
        "colab": {
          "base_uri": "https://localhost:8080/"
        },
        "id": "zdh59ofOgUPn",
        "outputId": "1a121479-1f56-4244-9fc5-36cab1da6baa"
      },
      "source": [
        "\n",
        "initializers = {\n",
        "    \n",
        "}\n",
        "\n",
        "model.add( \n",
        "    keras.layers.Conv2D(\n",
        "        24, 5, input_shape=(64,64,3), \n",
        "        activation='relu', \n",
        "    )\n",
        ")\n",
        "model.add( keras.layers.MaxPooling2D(2) )\n",
        "model.add( \n",
        "    keras.layers.Conv2D(\n",
        "        48, 5, activation='relu', \n",
        "    )\n",
        ")\n",
        "model.add( keras.layers.MaxPooling2D(2) )\n",
        "model.add( \n",
        "    keras.layers.Conv2D(\n",
        "        96, 5, activation='relu', \n",
        "    )\n",
        ")\n",
        "model.add( keras.layers.Flatten() )\n",
        "model.add( keras.layers.Dropout(0.4) )\n",
        "\n",
        "model.add( keras.layers.Dense(\n",
        "    8, activation='softmax',\n",
        "    )\n",
        ")\n",
        "\n",
        "model.summary()"
      ],
      "execution_count": 4,
      "outputs": [
        {
          "output_type": "stream",
          "text": [
            "Model: \"sequential\"\n",
            "_________________________________________________________________\n",
            "Layer (type)                 Output Shape              Param #   \n",
            "=================================================================\n",
            "conv2d (Conv2D)              (None, 60, 60, 24)        1824      \n",
            "_________________________________________________________________\n",
            "max_pooling2d (MaxPooling2D) (None, 30, 30, 24)        0         \n",
            "_________________________________________________________________\n",
            "conv2d_1 (Conv2D)            (None, 26, 26, 48)        28848     \n",
            "_________________________________________________________________\n",
            "max_pooling2d_1 (MaxPooling2 (None, 13, 13, 48)        0         \n",
            "_________________________________________________________________\n",
            "conv2d_2 (Conv2D)            (None, 9, 9, 96)          115296    \n",
            "_________________________________________________________________\n",
            "flatten (Flatten)            (None, 7776)              0         \n",
            "_________________________________________________________________\n",
            "dropout (Dropout)            (None, 7776)              0         \n",
            "_________________________________________________________________\n",
            "dense (Dense)                (None, 8)                 62216     \n",
            "=================================================================\n",
            "Total params: 208,184\n",
            "Trainable params: 208,184\n",
            "Non-trainable params: 0\n",
            "_________________________________________________________________\n"
          ],
          "name": "stdout"
        }
      ]
    },
    {
      "cell_type": "code",
      "metadata": {
        "id": "6DWCbj1anBXA"
      },
      "source": [
        "model.compile(loss='binary_crossentropy',\n",
        "              optimizer=keras.optimizers.Adamax(lr=0.001),\n",
        "              metrics=['acc'])"
      ],
      "execution_count": 5,
      "outputs": []
    },
    {
      "cell_type": "code",
      "metadata": {
        "colab": {
          "base_uri": "https://localhost:8080/"
        },
        "id": "t3VShfbonWb-",
        "outputId": "429d3224-e518-487a-be85-21ecba5c4394"
      },
      "source": [
        "history = model.fit_generator(\n",
        "    train_dataset, \n",
        "    validation_data = val_dataset,\n",
        "    workers=10,\n",
        "    epochs=1,\n",
        ")\n",
        "\n",
        "#result of this model is not impressive, but can be imroved \n",
        "#443/443 [==============================] - 363s 802ms/step - loss: 0.3290 - acc: 0.3072 - val_loss: 0.2291 - val_acc: 0.5466"
      ],
      "execution_count": 6,
      "outputs": [
        {
          "output_type": "stream",
          "text": [
            "/usr/local/lib/python3.7/dist-packages/tensorflow/python/keras/engine/training.py:1844: UserWarning: `Model.fit_generator` is deprecated and will be removed in a future version. Please use `Model.fit`, which supports generators.\n",
            "  warnings.warn('`Model.fit_generator` is deprecated and '\n"
          ],
          "name": "stderr"
        },
        {
          "output_type": "stream",
          "text": [
            "443/443 [==============================] - 363s 802ms/step - loss: 0.3290 - acc: 0.3072 - val_loss: 0.2291 - val_acc: 0.5466\n"
          ],
          "name": "stdout"
        }
      ]
    },
    {
      "cell_type": "code",
      "metadata": {
        "colab": {
          "base_uri": "https://localhost:8080/"
        },
        "id": "1xCO_VdXsAaN",
        "outputId": "931555c6-2f45-4f12-bf67-d80254b5b8ad"
      },
      "source": [
        "import glob\n",
        "import numpy as np\n",
        "from PIL import Image\n",
        "# https://stackoverflow.com/questions/37747021/create-numpy-array-of-images\n",
        "X_data = []\n",
        "files = glob.glob(r\"/content/drive/MyDrive/Data/data/*.jpg\")\n",
        "for my_file in files:\n",
        "    print(my_file)\n",
        "    \n",
        "    #image = Image.open(my_file).convert('RGB')\n",
        "    image = Image.open(my_file)\n",
        "    image = np.array(image)\n",
        "   \n",
        "    X_data.append(image)\n",
        "X_data = np.array(X_data)\n",
        "x = np.array(X_data[0])\n",
        "print('X_data shape:', np.array(X_data).shape)\n",
        "# If you have 20 64x64 images, this would print 'X_data shape: (20, 64,64,3)' \n",
        "# @tf.function(experimental_relax_shapes=True)\n",
        "# def predict(x):\n",
        "#      return model.predict(x)\n",
        "output = model.predict(X_data)\n",
        "print(output)"
      ],
      "execution_count": 7,
      "outputs": [
        {
          "output_type": "stream",
          "text": [
            "/content/drive/MyDrive/Data/data/Residential_1.jpg\n",
            "/content/drive/MyDrive/Data/data/Pasture_2.jpg\n",
            "/content/drive/MyDrive/Data/data/Pasture_1.jpg\n",
            "/content/drive/MyDrive/Data/data/Forest_2.jpg\n",
            "/content/drive/MyDrive/Data/data/Forest_5.jpg\n",
            "/content/drive/MyDrive/Data/data/Forest_4.jpg\n",
            "/content/drive/MyDrive/Data/data/Forest_3.jpg\n",
            "/content/drive/MyDrive/Data/data/Forest_7.jpg\n",
            "/content/drive/MyDrive/Data/data/Forest_9.jpg\n",
            "/content/drive/MyDrive/Data/data/Forest_10.jpg\n",
            "/content/drive/MyDrive/Data/data/Forest_8.jpg\n",
            "/content/drive/MyDrive/Data/data/Forest_6.jpg\n",
            "/content/drive/MyDrive/Data/data/Forest_1.jpg\n",
            "X_data shape: (13, 64, 64, 3)\n",
            "[[0.0000000e+00 0.0000000e+00 0.0000000e+00 1.0000000e+00 0.0000000e+00\n",
            "  0.0000000e+00 0.0000000e+00 0.0000000e+00]\n",
            " [0.0000000e+00 0.0000000e+00 1.6029401e-16 0.0000000e+00 0.0000000e+00\n",
            "  0.0000000e+00 0.0000000e+00 1.0000000e+00]\n",
            " [0.0000000e+00 0.0000000e+00 1.3415359e-16 0.0000000e+00 0.0000000e+00\n",
            "  0.0000000e+00 1.0000000e+00 0.0000000e+00]\n",
            " [0.0000000e+00 0.0000000e+00 1.0000000e+00 0.0000000e+00 0.0000000e+00\n",
            "  0.0000000e+00 0.0000000e+00 0.0000000e+00]\n",
            " [0.0000000e+00 0.0000000e+00 0.0000000e+00 0.0000000e+00 0.0000000e+00\n",
            "  0.0000000e+00 1.0000000e+00 0.0000000e+00]\n",
            " [0.0000000e+00 0.0000000e+00 0.0000000e+00 6.3911788e-03 0.0000000e+00\n",
            "  0.0000000e+00 9.9360883e-01 0.0000000e+00]\n",
            " [0.0000000e+00 0.0000000e+00 1.0000000e+00 0.0000000e+00 0.0000000e+00\n",
            "  0.0000000e+00 0.0000000e+00 1.8858488e-35]\n",
            " [0.0000000e+00 0.0000000e+00 1.0000000e+00 0.0000000e+00 0.0000000e+00\n",
            "  0.0000000e+00 0.0000000e+00 6.4489206e-11]\n",
            " [0.0000000e+00 0.0000000e+00 1.0000000e+00 0.0000000e+00 0.0000000e+00\n",
            "  0.0000000e+00 3.7745248e-29 0.0000000e+00]\n",
            " [0.0000000e+00 0.0000000e+00 0.0000000e+00 0.0000000e+00 0.0000000e+00\n",
            "  0.0000000e+00 1.0000000e+00 0.0000000e+00]\n",
            " [0.0000000e+00 0.0000000e+00 1.0000000e+00 0.0000000e+00 0.0000000e+00\n",
            "  0.0000000e+00 0.0000000e+00 0.0000000e+00]\n",
            " [0.0000000e+00 0.0000000e+00 2.1870100e-08 0.0000000e+00 0.0000000e+00\n",
            "  0.0000000e+00 1.0000000e+00 0.0000000e+00]\n",
            " [0.0000000e+00 0.0000000e+00 7.7169545e-21 0.0000000e+00 0.0000000e+00\n",
            "  0.0000000e+00 1.0000000e+00 0.0000000e+00]]\n"
          ],
          "name": "stdout"
        }
      ]
    },
    {
      "cell_type": "code",
      "metadata": {
        "colab": {
          "base_uri": "https://localhost:8080/"
        },
        "id": "-sJjZFRwH95L",
        "outputId": "ae999484-66b1-4a39-aa43-597be785618d"
      },
      "source": [
        "# define and move to dataset directory\n",
        "datasetdir = \"/content/drive/MyDrive/Data/Sentinel 2 Data for CNN/EuroSAT\"\n",
        "import os\n",
        "os.chdir(datasetdir)\n",
        "model_1_EUROSAT_json = model.to_json()\n",
        "with open(\"model.json\", \"w\") as json_file:\n",
        "    json_file.write(model_1_EUROSAT_json)\n",
        "# serialize weights to HDF5\n",
        "model.save_weights(\"model_1_EUROSAT_json.h5\")\n",
        "print(\"Saved model to disk\")"
      ],
      "execution_count": 8,
      "outputs": [
        {
          "output_type": "stream",
          "text": [
            "Saved model to disk\n"
          ],
          "name": "stdout"
        }
      ]
    }
  ]
}