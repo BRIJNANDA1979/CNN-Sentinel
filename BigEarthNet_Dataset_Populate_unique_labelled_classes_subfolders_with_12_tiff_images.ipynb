{
  "nbformat": 4,
  "nbformat_minor": 0,
  "metadata": {
    "colab": {
      "name": "BigEarthNet Dataset Populate unique labelled classes subfolders with 12 tiff images.ipynb",
      "provenance": [],
      "authorship_tag": "ABX9TyM7UWKEOa05L4piKTJ4motF",
      "include_colab_link": true
    },
    "kernelspec": {
      "name": "python3",
      "display_name": "Python 3"
    },
    "language_info": {
      "name": "python"
    }
  },
  "cells": [
    {
      "cell_type": "markdown",
      "metadata": {
        "id": "view-in-github",
        "colab_type": "text"
      },
      "source": [
        "<a href=\"https://colab.research.google.com/github/BRIJNANDA1979/CNN-Sentinel/blob/master/BigEarthNet_Dataset_Populate_unique_labelled_classes_subfolders_with_12_tiff_images.ipynb\" target=\"_parent\"><img src=\"https://colab.research.google.com/assets/colab-badge.svg\" alt=\"Open In Colab\"/></a>"
      ]
    },
    {
      "cell_type": "code",
      "metadata": {
        "id": "7nakWhsSyYsZ"
      },
      "source": [
        "# -*- coding: utf-8 -*-\n",
        "\"\"\"\n",
        "Created on Fri Jun 11 14:30:56 2021\n",
        "\n",
        "@author: BRIJB\n",
        "\"\"\"\n",
        "import os\n",
        "import pandas as pd\n",
        "from os import path\n",
        "import re\n",
        "import glob\n",
        "import shutil\n",
        "\n",
        "srcdir = 'E:\\Test BiGdata'\n",
        "path='E:\\\\New BigEarthNet_Labelled 12925 Data.csv'\n",
        "df=pd.read_csv(path)\n",
        "dirs = os.listdir(srcdir)\n",
        "for row in df.itertuples():\n",
        "    des_folder = 'D:' + '//' + 'temp' +'//' + row[4]\n",
        "    s=row[5]\n",
        "    s=s.replace('[','')  # cleaning data\n",
        "    s=s.replace(']','')\n",
        "    s=s.replace('\\'','')\n",
        "    s=s.strip()          #removes blank spaces if any\n",
        "    sub_folders_list = s.split(',')\n",
        "    sub_folders_list = [x.strip() for x in sub_folders_list]  #remove blank spaces in list of strings\n",
        "    for sub in sub_folders_list:\n",
        "        for dir in dirs:\n",
        "            if str(sub) == str(dir):\n",
        "                print('Match found')\n",
        "                print(sub)\n",
        "                print(row[4])\n",
        "                ss= srcdir + '\\\\' + dir + '\\\\' \n",
        "                sss = ss + '*.tif'\n",
        "                files = glob.glob(sss)   # all tif files in sub folder\n",
        "                for f in files:        # copy tif files to destination folder\n",
        "                    print('copying')\n",
        "                    destination_of_file = des_folder + '//' + str(sub)\n",
        "                    shutil.copy(os.path.join(ss,f),destination_of_file)\n",
        "                    \n",
        "    \n",
        "    "
      ],
      "execution_count": null,
      "outputs": []
    }
  ]
}