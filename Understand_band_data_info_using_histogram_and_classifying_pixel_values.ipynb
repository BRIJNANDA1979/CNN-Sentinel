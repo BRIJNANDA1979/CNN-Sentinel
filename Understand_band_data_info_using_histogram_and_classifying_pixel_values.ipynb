{
  "nbformat": 4,
  "nbformat_minor": 0,
  "metadata": {
    "colab": {
      "name": "Understand band data info using histogram and classifying pixel values.ipynb",
      "provenance": [],
      "collapsed_sections": [],
      "mount_file_id": "14fw2LhdAuMNNOqfVjLJgKIqbfoYa1NqV",
      "authorship_tag": "ABX9TyPFAYJCxCbDQprygUzdHNjy",
      "include_colab_link": true
    },
    "kernelspec": {
      "name": "python3",
      "display_name": "Python 3"
    },
    "language_info": {
      "name": "python"
    }
  },
  "cells": [
    {
      "cell_type": "markdown",
      "metadata": {
        "id": "view-in-github",
        "colab_type": "text"
      },
      "source": [
        "<a href=\"https://colab.research.google.com/github/BRIJNANDA1979/CNN-Sentinel/blob/master/Understand_band_data_info_using_histogram_and_classifying_pixel_values.ipynb\" target=\"_parent\"><img src=\"https://colab.research.google.com/assets/colab-badge.svg\" alt=\"Open In Colab\"/></a>"
      ]
    },
    {
      "cell_type": "code",
      "metadata": {
        "id": "T04ies5BfUuO"
      },
      "source": [
        "#https://www.earthdatascience.org/courses/use-data-open-source-python/multispectral-remote-sensing/vegetation-indices-in-python/calculate-NDVI-python/\n",
        "#Sentinel 2 Use Handbook. https://sentinels.copernicus.eu/documents/247904/685211/Sentinel-2_User_Handbook\n",
        "\n"
      ],
      "execution_count": 310,
      "outputs": []
    },
    {
      "cell_type": "code",
      "metadata": {
        "colab": {
          "base_uri": "https://localhost:8080/"
        },
        "id": "26Y6wNYaf6ox",
        "outputId": "58fb768c-a3f7-4e4f-9e64-83d935204750"
      },
      "source": [
        "!pip install rioxarray\n"
      ],
      "execution_count": 311,
      "outputs": [
        {
          "output_type": "stream",
          "text": [
            "Requirement already satisfied: rioxarray in /usr/local/lib/python3.7/dist-packages (0.4.1.post0)\n",
            "Requirement already satisfied: rasterio in /usr/local/lib/python3.7/dist-packages (from rioxarray) (1.2.3)\n",
            "Requirement already satisfied: scipy in /usr/local/lib/python3.7/dist-packages (from rioxarray) (1.4.1)\n",
            "Requirement already satisfied: xarray>=0.17 in /usr/local/lib/python3.7/dist-packages (from rioxarray) (0.18.2)\n",
            "Requirement already satisfied: pyproj>=2.2 in /usr/local/lib/python3.7/dist-packages (from rioxarray) (3.1.0)\n",
            "Requirement already satisfied: snuggs>=1.4.1 in /usr/local/lib/python3.7/dist-packages (from rasterio->rioxarray) (1.4.7)\n",
            "Requirement already satisfied: attrs in /usr/local/lib/python3.7/dist-packages (from rasterio->rioxarray) (21.2.0)\n",
            "Requirement already satisfied: click<8,>=4.0 in /usr/local/lib/python3.7/dist-packages (from rasterio->rioxarray) (7.1.2)\n",
            "Requirement already satisfied: certifi in /usr/local/lib/python3.7/dist-packages (from rasterio->rioxarray) (2020.12.5)\n",
            "Requirement already satisfied: numpy in /usr/local/lib/python3.7/dist-packages (from rasterio->rioxarray) (1.19.5)\n",
            "Requirement already satisfied: click-plugins in /usr/local/lib/python3.7/dist-packages (from rasterio->rioxarray) (1.1.1)\n",
            "Requirement already satisfied: affine in /usr/local/lib/python3.7/dist-packages (from rasterio->rioxarray) (2.3.0)\n",
            "Requirement already satisfied: cligj>=0.5 in /usr/local/lib/python3.7/dist-packages (from rasterio->rioxarray) (0.7.2)\n",
            "Requirement already satisfied: pandas>=1.0 in /usr/local/lib/python3.7/dist-packages (from xarray>=0.17->rioxarray) (1.1.5)\n",
            "Requirement already satisfied: setuptools>=40.4 in /usr/local/lib/python3.7/dist-packages (from xarray>=0.17->rioxarray) (56.1.0)\n",
            "Requirement already satisfied: pyparsing>=2.1.6 in /usr/local/lib/python3.7/dist-packages (from snuggs>=1.4.1->rasterio->rioxarray) (2.4.7)\n",
            "Requirement already satisfied: python-dateutil>=2.7.3 in /usr/local/lib/python3.7/dist-packages (from pandas>=1.0->xarray>=0.17->rioxarray) (2.8.1)\n",
            "Requirement already satisfied: pytz>=2017.2 in /usr/local/lib/python3.7/dist-packages (from pandas>=1.0->xarray>=0.17->rioxarray) (2018.9)\n",
            "Requirement already satisfied: six>=1.5 in /usr/local/lib/python3.7/dist-packages (from python-dateutil>=2.7.3->pandas>=1.0->xarray>=0.17->rioxarray) (1.15.0)\n"
          ],
          "name": "stdout"
        }
      ]
    },
    {
      "cell_type": "code",
      "metadata": {
        "colab": {
          "base_uri": "https://localhost:8080/"
        },
        "id": "P_VN9k0dgzH3",
        "outputId": "56ffa7a9-5bd0-40da-f68d-39dd795c8949"
      },
      "source": [
        "!pip install geopandas"
      ],
      "execution_count": 312,
      "outputs": [
        {
          "output_type": "stream",
          "text": [
            "Requirement already satisfied: geopandas in /usr/local/lib/python3.7/dist-packages (0.9.0)\n",
            "Requirement already satisfied: pyproj>=2.2.0 in /usr/local/lib/python3.7/dist-packages (from geopandas) (3.1.0)\n",
            "Requirement already satisfied: pandas>=0.24.0 in /usr/local/lib/python3.7/dist-packages (from geopandas) (1.1.5)\n",
            "Requirement already satisfied: fiona>=1.8 in /usr/local/lib/python3.7/dist-packages (from geopandas) (1.8.19)\n",
            "Requirement already satisfied: shapely>=1.6 in /usr/local/lib/python3.7/dist-packages (from geopandas) (1.7.1)\n",
            "Requirement already satisfied: certifi in /usr/local/lib/python3.7/dist-packages (from pyproj>=2.2.0->geopandas) (2020.12.5)\n",
            "Requirement already satisfied: numpy>=1.15.4 in /usr/local/lib/python3.7/dist-packages (from pandas>=0.24.0->geopandas) (1.19.5)\n",
            "Requirement already satisfied: python-dateutil>=2.7.3 in /usr/local/lib/python3.7/dist-packages (from pandas>=0.24.0->geopandas) (2.8.1)\n",
            "Requirement already satisfied: pytz>=2017.2 in /usr/local/lib/python3.7/dist-packages (from pandas>=0.24.0->geopandas) (2018.9)\n",
            "Requirement already satisfied: attrs>=17 in /usr/local/lib/python3.7/dist-packages (from fiona>=1.8->geopandas) (21.2.0)\n",
            "Requirement already satisfied: click-plugins>=1.0 in /usr/local/lib/python3.7/dist-packages (from fiona>=1.8->geopandas) (1.1.1)\n",
            "Requirement already satisfied: click<8,>=4.0 in /usr/local/lib/python3.7/dist-packages (from fiona>=1.8->geopandas) (7.1.2)\n",
            "Requirement already satisfied: six>=1.7 in /usr/local/lib/python3.7/dist-packages (from fiona>=1.8->geopandas) (1.15.0)\n",
            "Requirement already satisfied: cligj>=0.5 in /usr/local/lib/python3.7/dist-packages (from fiona>=1.8->geopandas) (0.7.2)\n",
            "Requirement already satisfied: munch in /usr/local/lib/python3.7/dist-packages (from fiona>=1.8->geopandas) (2.5.0)\n"
          ],
          "name": "stdout"
        }
      ]
    },
    {
      "cell_type": "code",
      "metadata": {
        "id": "73haguvifnHq"
      },
      "source": [
        "import os\n",
        "\n",
        "import matplotlib.pyplot as plt\n",
        "import numpy as np\n",
        "import rioxarray as rxr\n",
        "import geopandas as gpd\n",
        "\n"
      ],
      "execution_count": 313,
      "outputs": []
    },
    {
      "cell_type": "code",
      "metadata": {
        "id": "YExQcuFvf312"
      },
      "source": [
        "path = '/content/drive/MyDrive/Big/S2A_MSIL2A_20170613T101031_0_55/S2A_MSIL2A_20170613T101031_0_55_B01.tif'\n",
        "#os.chdir(path)\n",
        "#data_path = os.path.join(\"/content/drive/MyDrive/Big/S2A_MSIL2A_20170613T101031_0_55/S2A_MSIL2A_20170613T101031_0_55_B01.tif\")\n",
        "data = rxr.open_rasterio(path)"
      ],
      "execution_count": 314,
      "outputs": []
    },
    {
      "cell_type": "code",
      "metadata": {
        "colab": {
          "base_uri": "https://localhost:8080/"
        },
        "id": "cp68wiCDhb2L",
        "outputId": "8da1915a-f357-429f-be41-9af6c17db8ee"
      },
      "source": [
        "data.shape"
      ],
      "execution_count": 315,
      "outputs": [
        {
          "output_type": "execute_result",
          "data": {
            "text/plain": [
              "(1, 20, 20)"
            ]
          },
          "metadata": {
            "tags": []
          },
          "execution_count": 315
        }
      ]
    },
    {
      "cell_type": "code",
      "metadata": {
        "colab": {
          "base_uri": "https://localhost:8080/"
        },
        "id": "AfHemUrwiUSv",
        "outputId": "002f6d34-ea89-4e6c-9e3d-225aa74c86f8"
      },
      "source": [
        "!pip install earthpy"
      ],
      "execution_count": 316,
      "outputs": [
        {
          "output_type": "stream",
          "text": [
            "Requirement already satisfied: earthpy in /usr/local/lib/python3.7/dist-packages (0.9.2)\n",
            "Requirement already satisfied: requests in /usr/local/lib/python3.7/dist-packages (from earthpy) (2.23.0)\n",
            "Requirement already satisfied: scikit-image in /usr/local/lib/python3.7/dist-packages (from earthpy) (0.16.2)\n",
            "Requirement already satisfied: numpy>=1.14.0 in /usr/local/lib/python3.7/dist-packages (from earthpy) (1.19.5)\n",
            "Requirement already satisfied: rasterio in /usr/local/lib/python3.7/dist-packages (from earthpy) (1.2.3)\n",
            "Requirement already satisfied: geopandas in /usr/local/lib/python3.7/dist-packages (from earthpy) (0.9.0)\n",
            "Requirement already satisfied: matplotlib>=2.0.0 in /usr/local/lib/python3.7/dist-packages (from earthpy) (3.2.2)\n",
            "Requirement already satisfied: urllib3!=1.25.0,!=1.25.1,<1.26,>=1.21.1 in /usr/local/lib/python3.7/dist-packages (from requests->earthpy) (1.24.3)\n",
            "Requirement already satisfied: idna<3,>=2.5 in /usr/local/lib/python3.7/dist-packages (from requests->earthpy) (2.10)\n",
            "Requirement already satisfied: certifi>=2017.4.17 in /usr/local/lib/python3.7/dist-packages (from requests->earthpy) (2020.12.5)\n",
            "Requirement already satisfied: chardet<4,>=3.0.2 in /usr/local/lib/python3.7/dist-packages (from requests->earthpy) (3.0.4)\n",
            "Requirement already satisfied: pillow>=4.3.0 in /usr/local/lib/python3.7/dist-packages (from scikit-image->earthpy) (7.1.2)\n",
            "Requirement already satisfied: networkx>=2.0 in /usr/local/lib/python3.7/dist-packages (from scikit-image->earthpy) (2.5.1)\n",
            "Requirement already satisfied: PyWavelets>=0.4.0 in /usr/local/lib/python3.7/dist-packages (from scikit-image->earthpy) (1.1.1)\n",
            "Requirement already satisfied: scipy>=0.19.0 in /usr/local/lib/python3.7/dist-packages (from scikit-image->earthpy) (1.4.1)\n",
            "Requirement already satisfied: imageio>=2.3.0 in /usr/local/lib/python3.7/dist-packages (from scikit-image->earthpy) (2.4.1)\n",
            "Requirement already satisfied: click<8,>=4.0 in /usr/local/lib/python3.7/dist-packages (from rasterio->earthpy) (7.1.2)\n",
            "Requirement already satisfied: cligj>=0.5 in /usr/local/lib/python3.7/dist-packages (from rasterio->earthpy) (0.7.2)\n",
            "Requirement already satisfied: snuggs>=1.4.1 in /usr/local/lib/python3.7/dist-packages (from rasterio->earthpy) (1.4.7)\n",
            "Requirement already satisfied: affine in /usr/local/lib/python3.7/dist-packages (from rasterio->earthpy) (2.3.0)\n",
            "Requirement already satisfied: attrs in /usr/local/lib/python3.7/dist-packages (from rasterio->earthpy) (21.2.0)\n",
            "Requirement already satisfied: click-plugins in /usr/local/lib/python3.7/dist-packages (from rasterio->earthpy) (1.1.1)\n",
            "Requirement already satisfied: pyproj>=2.2.0 in /usr/local/lib/python3.7/dist-packages (from geopandas->earthpy) (3.1.0)\n",
            "Requirement already satisfied: shapely>=1.6 in /usr/local/lib/python3.7/dist-packages (from geopandas->earthpy) (1.7.1)\n",
            "Requirement already satisfied: pandas>=0.24.0 in /usr/local/lib/python3.7/dist-packages (from geopandas->earthpy) (1.1.5)\n",
            "Requirement already satisfied: fiona>=1.8 in /usr/local/lib/python3.7/dist-packages (from geopandas->earthpy) (1.8.19)\n",
            "Requirement already satisfied: python-dateutil>=2.1 in /usr/local/lib/python3.7/dist-packages (from matplotlib>=2.0.0->earthpy) (2.8.1)\n",
            "Requirement already satisfied: kiwisolver>=1.0.1 in /usr/local/lib/python3.7/dist-packages (from matplotlib>=2.0.0->earthpy) (1.3.1)\n",
            "Requirement already satisfied: cycler>=0.10 in /usr/local/lib/python3.7/dist-packages (from matplotlib>=2.0.0->earthpy) (0.10.0)\n",
            "Requirement already satisfied: pyparsing!=2.0.4,!=2.1.2,!=2.1.6,>=2.0.1 in /usr/local/lib/python3.7/dist-packages (from matplotlib>=2.0.0->earthpy) (2.4.7)\n",
            "Requirement already satisfied: decorator<5,>=4.3 in /usr/local/lib/python3.7/dist-packages (from networkx>=2.0->scikit-image->earthpy) (4.4.2)\n",
            "Requirement already satisfied: pytz>=2017.2 in /usr/local/lib/python3.7/dist-packages (from pandas>=0.24.0->geopandas->earthpy) (2018.9)\n",
            "Requirement already satisfied: munch in /usr/local/lib/python3.7/dist-packages (from fiona>=1.8->geopandas->earthpy) (2.5.0)\n",
            "Requirement already satisfied: six>=1.7 in /usr/local/lib/python3.7/dist-packages (from fiona>=1.8->geopandas->earthpy) (1.15.0)\n"
          ],
          "name": "stdout"
        }
      ]
    },
    {
      "cell_type": "code",
      "metadata": {
        "colab": {
          "base_uri": "https://localhost:8080/",
          "height": 694
        },
        "id": "44JG9p9MiIeN",
        "outputId": "9fffaa74-75a0-4d59-a1b5-fcad78914697"
      },
      "source": [
        "import earthpy as et\n",
        "import earthpy.spatial as es\n",
        "import earthpy.plot as ep\n",
        "ep.plot_bands(data,\n",
        "              title=\"Bigearthnet Band 1 Raster\")\n",
        "plt.show()"
      ],
      "execution_count": 317,
      "outputs": [
        {
          "output_type": "display_data",
          "data": {
            "image/png": "[encoded data removed]",
            "text/plain": [
              "<Figure size 864x864 with 2 Axes>"
            ]
          },
          "metadata": {
            "tags": [],
            "needs_background": "light"
          }
        }
      ]
    },
    {
      "cell_type": "code",
      "metadata": {
        "colab": {
          "base_uri": "https://localhost:8080/"
        },
        "id": "DAEubdVX3m2h",
        "outputId": "adeac3d9-45b9-47c7-fecb-f955c3a7567c"
      },
      "source": [
        "#https://earthpy.readthedocs.io/en/latest/gallery_vignettes/plot_bands_functionality.html\n",
        "#Stack all bands of BigEarthNet Data sample one band tiff images\n",
        "import glob\n",
        "files = glob.glob(os.path.join('/content/drive/MyDrive/Big/S2A_MSIL2A_20170613T101031_0_55/S2A_MSIL2A_20170613T101031_0_55_B*.tif'))\n",
        "files.sort()\n",
        "print(\"Number of Bands\",len(files))\n",
        "#array_stack, meta_data = es.stack(path, nodata=-9999)\n"
      ],
      "execution_count": 318,
      "outputs": [
        {
          "output_type": "stream",
          "text": [
            "Number of Bands 12\n"
          ],
          "name": "stdout"
        }
      ]
    },
    {
      "cell_type": "markdown",
      "metadata": {
        "id": "PmTEEoT3UmRB"
      },
      "source": [
        "# New Section"
      ]
    },
    {
      "cell_type": "code",
      "metadata": {
        "colab": {
          "base_uri": "https://localhost:8080/",
          "height": 1000
        },
        "id": "WkrX5HEo4DIo",
        "outputId": "70d1bc69-9cd0-4704-e001-28c39483e75b"
      },
      "source": [
        "band1= rxr.open_rasterio(files[0])\n",
        "ep.plot_bands(band1,\n",
        "              title=\"Bigearthnet Band 1 Raster\")\n",
        "plt.show()\n",
        "print(\"The CRS of this data is:\", band1.rio.crs)\n",
        "#Converting EPSG to Proj4 in Python\n",
        "# Convert to project string using earthpy\n",
        "proj4 = et.epsg['32634']\n",
        "print(proj4)\n",
        "#Spatial Extent\n",
        "#You can access the spatial extent using the .bounds() attribute in rasterio.\n",
        "print(band1.rio.bounds())\n",
        "#Raster Resolution: area covered by 1 pixel on ground e.g 60m * 60m\n",
        "# What is the x and y resolution for your raster data?\n",
        "print(band1.rio.resolution())\n",
        "print(\"The nodatavalue of your data is:\", band1.rio.nodata)\n",
        "# How many bands / layers does the object have?\n",
        "print(\"Number of bands\", band1.rio.count)\n",
        "print(\"The shape of your data is:\", band1.shape)\n",
        "print('min value:', np.nanmin(band1))\n",
        "print('max value:', np.nanmax(band1))\n",
        "import matplotlib.pyplot as plt\n",
        "f, ax = plt.subplots()\n",
        "band1.plot.hist(color=\"purple\")\n",
        "ax.set(title=\"Distribution of Raster Cell Values  Band 1 Data\",\n",
        "       xlabel=\"\",\n",
        "       ylabel=\"Number of Pixels\")\n",
        "plt.show()"
      ],
      "execution_count": 319,
      "outputs": [
        {
          "output_type": "display_data",
          "data": {
            "image/png": "[encoded data removed]",
            "text/plain": [
              "<Figure size 864x864 with 2 Axes>"
            ]
          },
          "metadata": {
            "tags": [],
            "needs_background": "light"
          }
        },
        {
          "output_type": "stream",
          "text": [
            "The CRS of this data is: EPSG:32634\n",
            "+proj=utm +zone=34 +datum=WGS84 +units=m +no_defs\n",
            "(499980.0, 7032840.0, 501180.0, 7034040.0)\n",
            "(60.0, -60.0)\n",
            "The nodatavalue of your data is: None\n",
            "Number of bands 1\n",
            "The shape of your data is: (1, 20, 20)\n",
            "min value: 267\n",
            "max value: 456\n"
          ],
          "name": "stdout"
        },
        {
          "output_type": "display_data",
          "data": {
            "image/png": "[encoded data removed]",
            "text/plain": [
              "<Figure size 432x288 with 1 Axes>"
            ]
          },
          "metadata": {
            "tags": [],
            "needs_background": "light"
          }
        }
      ]
    },
    {
      "cell_type": "code",
      "metadata": {
        "colab": {
          "base_uri": "https://localhost:8080/",
          "height": 1000
        },
        "id": "fQ40s3f2-tCq",
        "outputId": "95166f84-d6e6-4496-f5a6-7693f5de9dbc"
      },
      "source": [
        "band2= rxr.open_rasterio(files[11])\n",
        "ep.plot_bands(band12,\n",
        "              title=\"Bigearthnet Band 2 Raster\")\n",
        "plt.show()\n",
        "print(\"The CRS of this data is:\", band2.rio.crs)\n",
        "#Converting EPSG to Proj4 in Python\n",
        "# Convert to project string using earthpy\n",
        "proj4 = et.epsg['32634']\n",
        "print(proj4)\n",
        "#Spatial Extent\n",
        "#You can access the spatial extent using the .bounds() attribute in rasterio.\n",
        "print(band2.rio.bounds())\n",
        "#Raster Resolution: area covered by 1 pixel on ground e.g 60m * 60m\n",
        "# What is the x and y resolution for your raster data?\n",
        "print(band12.rio.resolution())\n",
        "print(\"The nodatavalue of your data is:\", band2.rio.nodata)\n",
        "# How many bands / layers does the object have?\n",
        "print(\"Number of bands\", band2.rio.count)\n",
        "print(\"The shape of your data is:\", band12.shape)\n",
        "print('min value:', np.nanmin(band2))\n",
        "print('max value:', np.nanmax(band2))\n",
        "import matplotlib.pyplot as plt\n",
        "f, ax = plt.subplots()\n",
        "band1.plot.hist(color=\"purple\")\n",
        "ax.set(title=\"Distribution of Raster Cell Values  Band 2 Data\",\n",
        "       xlabel=\"\",\n",
        "       ylabel=\"Number of Pixels\")\n",
        "plt.show()"
      ],
      "execution_count": 320,
      "outputs": [
        {
          "output_type": "display_data",
          "data": {
            "image/png": "[encoded data removed]",
            "text/plain": [
              "<Figure size 864x864 with 2 Axes>"
            ]
          },
          "metadata": {
            "tags": [],
            "needs_background": "light"
          }
        },
        {
          "output_type": "stream",
          "text": [
            "The CRS of this data is: EPSG:32634\n",
            "+proj=utm +zone=34 +datum=WGS84 +units=m +no_defs\n",
            "(499980.0, 7032840.0, 501180.0, 7034040.0)\n",
            "(20.0, -20.0)\n",
            "The nodatavalue of your data is: None\n",
            "Number of bands 1\n",
            "The shape of your data is: (1, 60, 60)\n",
            "min value: 106\n",
            "max value: 446\n"
          ],
          "name": "stdout"
        },
        {
          "output_type": "display_data",
          "data": {
            "image/png": "[encoded data removed]",
            "text/plain": [
              "<Figure size 432x288 with 1 Axes>"
            ]
          },
          "metadata": {
            "tags": [],
            "needs_background": "light"
          }
        }
      ]
    },
    {
      "cell_type": "code",
      "metadata": {
        "id": "00WUpwpnj-F_"
      },
      "source": [
        "#https://rasterio.readthedocs.io/en/latest/api/rasterio.plot.html\n",
        "#rasterio.plot.reshape_as_image(arr)\n",
        "#Returns the source array reshaped into the order expected by image processing and visualization software (matplotlib, scikit-image, etc) by swapping the axes order from (bands, rows, columns) to (rows, columns, bands)\n"
      ],
      "execution_count": 321,
      "outputs": []
    },
    {
      "cell_type": "code",
      "metadata": {
        "colab": {
          "base_uri": "https://localhost:8080/"
        },
        "id": "LhQc3X5EqTty",
        "outputId": "f38c650a-e13a-4c05-c1b3-4ea449fab3cd"
      },
      "source": [
        "print('min value:', np.nanmin(data))\n",
        "print('max value:', np.nanmax(data))"
      ],
      "execution_count": 322,
      "outputs": [
        {
          "output_type": "stream",
          "text": [
            "min value: 267\n",
            "max value: 456\n"
          ],
          "name": "stdout"
        }
      ]
    },
    {
      "cell_type": "code",
      "metadata": {
        "colab": {
          "base_uri": "https://localhost:8080/",
          "height": 281
        },
        "id": "NMJzy80Kq2bz",
        "outputId": "67778336-1426-4037-a858-c59ffdfde2b9"
      },
      "source": [
        "#https://www.earthdatascience.org/courses/use-data-open-source-python/intro-raster-data-python/raster-data-processing/classify-plot-raster-data-in-python/\n",
        "import matplotlib.pyplot as plt\n",
        "f, ax = plt.subplots()\n",
        "data.plot.hist(color=\"purple\")\n",
        "ax.set(title=\"Distribution of Raster Cell Values  Data\",\n",
        "       xlabel=\"\",\n",
        "       ylabel=\"Number of Pixels\")\n",
        "plt.show()"
      ],
      "execution_count": 323,
      "outputs": [
        {
          "output_type": "display_data",
          "data": {
            "image/png": "[encoded data removed]",
            "text/plain": [
              "<Figure size 432x288 with 1 Axes>"
            ]
          },
          "metadata": {
            "tags": [],
            "needs_background": "light"
          }
        }
      ]
    },
    {
      "cell_type": "code",
      "metadata": {
        "id": "U8lkgRy6rIxq"
      },
      "source": [
        "bins=[0, 100, 200, 250, 275, 300,350]"
      ],
      "execution_count": 324,
      "outputs": []
    },
    {
      "cell_type": "code",
      "metadata": {
        "colab": {
          "base_uri": "https://localhost:8080/",
          "height": 281
        },
        "id": "d6NsYNZprsmU",
        "outputId": "d0d7a6cd-423d-48e9-f3a9-5515f433eeec"
      },
      "source": [
        "f, ax = plt.subplots()\n",
        "data.plot.hist(color=\"purple\",bins=[0, 100, 200, 250, 275, 300,350])\n",
        "ax.set(title=\"Distribution of Raster Cell Values  Data\",\n",
        "       xlabel=\"\",\n",
        "       ylabel=\"Number of Pixels\")\n",
        "plt.show()"
      ],
      "execution_count": 325,
      "outputs": [
        {
          "output_type": "display_data",
          "data": {
            "image/png": "[encoded data removed]",
            "text/plain": [
              "<Figure size 432x288 with 1 Axes>"
            ]
          },
          "metadata": {
            "tags": [],
            "needs_background": "light"
          }
        }
      ]
    },
    {
      "cell_type": "code",
      "metadata": {
        "id": "27wN_Z67swYe"
      },
      "source": [
        "class_bins = [-np.inf,250,275,300,350,+np.inf]\n"
      ],
      "execution_count": 326,
      "outputs": []
    },
    {
      "cell_type": "code",
      "metadata": {
        "colab": {
          "base_uri": "https://localhost:8080/"
        },
        "id": "4iYu_HuQtJaP",
        "outputId": "da51e5d8-e014-47e2-8182-caa002480bf7"
      },
      "source": [
        "import xarray as xr\n",
        "data_class = xr.apply_ufunc(np.digitize,\n",
        "                                     data,\n",
        "                                     class_bins)\n",
        "print(data_class.shape)\n",
        "#data_class = np.array(data_class[0])"
      ],
      "execution_count": 327,
      "outputs": [
        {
          "output_type": "stream",
          "text": [
            "(1, 20, 20)\n"
          ],
          "name": "stdout"
        }
      ]
    },
    {
      "cell_type": "code",
      "metadata": {
        "colab": {
          "base_uri": "https://localhost:8080/",
          "height": 281
        },
        "id": "x7WA9bGPtd3P",
        "outputId": "0dcee18f-5cc1-4b5e-8e9e-38ba78d34c6f"
      },
      "source": [
        "import matplotlib.pyplot as plt\n",
        "f, ax = plt.subplots()\n",
        "data_class.plot.hist(color=\"purple\")\n",
        "ax.set(title=\"Distribution of Raster Cell Values  Data\",\n",
        "       xlabel=\"\",\n",
        "       ylabel=\"Number of Pixels\")\n",
        "plt.show()"
      ],
      "execution_count": 328,
      "outputs": [
        {
          "output_type": "display_data",
          "data": {
            "image/png": "[encoded data removed]",
            "text/plain": [
              "<Figure size 432x288 with 1 Axes>"
            ]
          },
          "metadata": {
            "tags": [],
            "needs_background": "light"
          }
        }
      ]
    },
    {
      "cell_type": "code",
      "metadata": {
        "id": "ktHnAh-H5VGS"
      },
      "source": [
        "#https://www.spatialreference.org/ref/epsg/32634/\n",
        "#/*EPSG:32634\n",
        "\n",
        "#WGS 84 / UTM zone 34N (Google it)\n",
        "\n",
        "#WGS84 Bounds: 18.0000, 0.0000, 24.0000, 84.0000\n",
        "#Projected Bounds: 166021.4431, 0.0000, 833978.5569, 9329005.1825\n",
        "#Scope: Large and medium scale topographic mapping and engineering survey.\n",
        "#Last Revised: June 2, 1995\n",
        "#Area: World - N hemisphere - 18°E to 24°E - by country*/\n",
        "\n",
        "#Proj4js.defs[\"EPSG:32634\"] = \"+proj=utm +zone=34 +ellps=WGS84 +datum=WGS84 +units=m +no_defs\";"
      ],
      "execution_count": 329,
      "outputs": []
    },
    {
      "cell_type": "code",
      "metadata": {
        "id": "lmOrNHfQ3Q3k",
        "colab": {
          "base_uri": "https://localhost:8080/",
          "height": 1000
        },
        "outputId": "8c57bfcf-0ec8-40a3-c06d-f9369010700f"
      },
      "source": [
        "band12= rxr.open_rasterio(files[11])\n",
        "ep.plot_bands(band12,\n",
        "              title=\"Bigearthnet Band 12 Raster\")\n",
        "plt.show()\n",
        "print(\"The CRS of this data is:\", band12.rio.crs)\n",
        "#Converting EPSG to Proj4 in Python\n",
        "# Convert to project string using earthpy\n",
        "proj4 = et.epsg['32634']\n",
        "print(proj4)\n",
        "#Spatial Extent\n",
        "#You can access the spatial extent using the .bounds() attribute in rasterio.\n",
        "print(band12.rio.bounds())\n",
        "#Raster Resolution: area covered by 1 pixel on ground e.g 60m * 60m\n",
        "# What is the x and y resolution for your raster data?\n",
        "print(band12.rio.resolution())\n",
        "print(\"The nodatavalue of your data is:\", band12.rio.nodata)\n",
        "# How many bands / layers does the object have?\n",
        "print(\"Number of bands\", band12.rio.count)\n",
        "print(\"The shape of your data is:\", band12.shape)\n",
        "print('min value:', np.nanmin(band12))\n",
        "print('max value:', np.nanmax(band12))\n",
        "import matplotlib.pyplot as plt\n",
        "f, ax = plt.subplots()\n",
        "band1.plot.hist(color=\"purple\")\n",
        "ax.set(title=\"Distribution of Raster Cell Values  Band 12 Data\",\n",
        "       xlabel=\"\",\n",
        "       ylabel=\"Number of Pixels\")\n",
        "plt.show()"
      ],
      "execution_count": 330,
      "outputs": [
        {
          "output_type": "display_data",
          "data": {
            "image/png": "[encoded data removed]",
            "text/plain": [
              "<Figure size 864x864 with 2 Axes>"
            ]
          },
          "metadata": {
            "tags": [],
            "needs_background": "light"
          }
        },
        {
          "output_type": "stream",
          "text": [
            "The CRS of this data is: EPSG:32634\n",
            "+proj=utm +zone=34 +datum=WGS84 +units=m +no_defs\n",
            "(499980.0, 7032840.0, 501180.0, 7034040.0)\n",
            "(20.0, -20.0)\n",
            "The nodatavalue of your data is: None\n",
            "Number of bands 1\n",
            "The shape of your data is: (1, 60, 60)\n",
            "min value: 106\n",
            "max value: 446\n"
          ],
          "name": "stdout"
        },
        {
          "output_type": "display_data",
          "data": {
            "image/png": "[encoded data removed]",
            "text/plain": [
              "<Figure size 432x288 with 1 Axes>"
            ]
          },
          "metadata": {
            "tags": [],
            "needs_background": "light"
          }
        }
      ]
    },
    {
      "cell_type": "markdown",
      "metadata": {
        "id": "WY886egdVz3_"
      },
      "source": [
        "## New Section : Making Dataframe for min/max values of each bands of 1,2 and 12"
      ]
    },
    {
      "cell_type": "code",
      "metadata": {
        "colab": {
          "base_uri": "https://localhost:8080/",
          "height": 49
        },
        "id": "Wc1HYAw7U4dm",
        "outputId": "aeb8d6d1-3e3f-42a6-a39f-9b2715057bf2"
      },
      "source": [
        "import pandas as pd\n",
        "df = pd.DataFrame(columns= ['filename','min','max'])\n",
        "df.head()"
      ],
      "execution_count": 402,
      "outputs": [
        {
          "output_type": "execute_result",
          "data": {
            "text/html": [
              "<div>\n",
              "<style scoped>\n",
              "    .dataframe tbody tr th:only-of-type {\n",
              "        vertical-align: middle;\n",
              "    }\n",
              "\n",
              "    .dataframe tbody tr th {\n",
              "        vertical-align: top;\n",
              "    }\n",
              "\n",
              "    .dataframe thead th {\n",
              "        text-align: right;\n",
              "    }\n",
              "</style>\n",
              "<table border=\"1\" class=\"dataframe\">\n",
              "  <thead>\n",
              "    <tr style=\"text-align: right;\">\n",
              "      <th></th>\n",
              "      <th>filename</th>\n",
              "      <th>min</th>\n",
              "      <th>max</th>\n",
              "    </tr>\n",
              "  </thead>\n",
              "  <tbody>\n",
              "  </tbody>\n",
              "</table>\n",
              "</div>"
            ],
            "text/plain": [
              "Empty DataFrame\n",
              "Columns: [filename, min, max]\n",
              "Index: []"
            ]
          },
          "metadata": {
            "tags": []
          },
          "execution_count": 402
        }
      ]
    },
    {
      "cell_type": "code",
      "metadata": {
        "colab": {
          "base_uri": "https://localhost:8080/"
        },
        "id": "B9QN9_5zXvZ1",
        "outputId": "df1a2abc-4d31-451e-cb97-1eb378ca52e3"
      },
      "source": [
        "import glob\n",
        "import os\n",
        "files=[]\n",
        "min=[]\n",
        "max=[]\n",
        "mean_min =[]\n",
        "mean_max =[]\n",
        "path = '/content/drive/MyDrive/Big'\n",
        "os.chdir(path)\n",
        "dirs = os.listdir()\n",
        "dirs.sort()\n",
        "print(dirs)\n",
        "print(len(dirs))\n",
        "#remove last element of list\n",
        "del dirs[0]\n",
        "print(dirs)\n",
        "print(len(dirs))\n",
        "step_size = len(dirs)"
      ],
      "execution_count": 403,
      "outputs": [
        {
          "output_type": "stream",
          "text": [
            "['.ipynb_checkpoints', 'S2A_MSIL2A_20170613T101031_0_55', 'S2A_MSIL2A_20170613T101031_0_59', 'S2A_MSIL2A_20170613T101031_0_63', 'S2A_MSIL2A_20170613T101031_0_70', 'S2A_MSIL2A_20170613T101031_0_79', 'S2A_MSIL2A_20170613T101031_0_88']\n",
            "7\n",
            "['S2A_MSIL2A_20170613T101031_0_55', 'S2A_MSIL2A_20170613T101031_0_59', 'S2A_MSIL2A_20170613T101031_0_63', 'S2A_MSIL2A_20170613T101031_0_70', 'S2A_MSIL2A_20170613T101031_0_79', 'S2A_MSIL2A_20170613T101031_0_88']\n",
            "6\n"
          ],
          "name": "stdout"
        }
      ]
    },
    {
      "cell_type": "code",
      "metadata": {
        "id": "kHoUgpZHZy_a"
      },
      "source": [
        "# Add list of band1 tif files to files list\n",
        "path = '/content/drive/MyDrive/Big'\n",
        "files=[]\n",
        "for i in dirs:\n",
        "  s = \"\"\n",
        "  s = s + path + '/' + str(i) +  '/' +'*01.tif'\n",
        "  #print(s)\n",
        "  temp = (glob.glob(os.path.join(s)))\n",
        "  files.append(temp[0])\n"
      ],
      "execution_count": 404,
      "outputs": []
    },
    {
      "cell_type": "code",
      "metadata": {
        "colab": {
          "base_uri": "https://localhost:8080/"
        },
        "id": "95X_U70lhSQn",
        "outputId": "32fbcd39-563c-405c-b564-e16ff3991c88"
      },
      "source": [
        "# Fetch Filenames of band 1\n",
        "\n",
        "print(files[0],len(files))"
      ],
      "execution_count": 405,
      "outputs": [
        {
          "output_type": "stream",
          "text": [
            "/content/drive/MyDrive/Big/S2A_MSIL2A_20170613T101031_0_55/S2A_MSIL2A_20170613T101031_0_55_B01.tif 6\n"
          ],
          "name": "stdout"
        }
      ]
    },
    {
      "cell_type": "code",
      "metadata": {
        "colab": {
          "base_uri": "https://localhost:8080/"
        },
        "id": "iIClcTSGgkTf",
        "outputId": "0e6732aa-9575-4d6b-acbd-48d4cb41bb80"
      },
      "source": [
        "# Add min/max values of band 1 to min/max list\n",
        "\n",
        "for i in range(0,step_size):\n",
        "  band1= rxr.open_rasterio(files[i])\n",
        "  min.append(np.nanmin(band1))\n",
        "  max.append(np.nanmax(band1))\n",
        "print(min)\n",
        "print(max)\n",
        "mean_min.append(np.mean(min))\n",
        "mean_max.append(np.mean(max))\n",
        "#df['B1_min'] = min\n",
        "#df['B1_max'] = max\n",
        "#print(df)"
      ],
      "execution_count": 406,
      "outputs": [
        {
          "output_type": "stream",
          "text": [
            "[267, 272, 294, 280, 245, 276]\n",
            "[456, 308, 655, 327, 302, 328]\n"
          ],
          "name": "stdout"
        }
      ]
    },
    {
      "cell_type": "code",
      "metadata": {
        "colab": {
          "base_uri": "https://localhost:8080/"
        },
        "id": "U6q4j8GXwgTp",
        "outputId": "7c879a5b-c8ef-4c8b-cfc0-1d7e523c1121"
      },
      "source": [
        "# Add list of band2 tif files to files list\n",
        "path = '/content/drive/MyDrive/Big'\n",
        "\n",
        "for i in dirs:\n",
        "  s = \"\"\n",
        "  s = s + path + '/' + str(i) +  '/' +'*02.tif'\n",
        "  print(s)\n",
        "  temp = (glob.glob(os.path.join(s)))\n",
        "  files.append(temp[0])\n",
        "print(files[len(files)-1], len(files))\n"
      ],
      "execution_count": 407,
      "outputs": [
        {
          "output_type": "stream",
          "text": [
            "/content/drive/MyDrive/Big/S2A_MSIL2A_20170613T101031_0_55/*02.tif\n",
            "/content/drive/MyDrive/Big/S2A_MSIL2A_20170613T101031_0_59/*02.tif\n",
            "/content/drive/MyDrive/Big/S2A_MSIL2A_20170613T101031_0_63/*02.tif\n",
            "/content/drive/MyDrive/Big/S2A_MSIL2A_20170613T101031_0_70/*02.tif\n",
            "/content/drive/MyDrive/Big/S2A_MSIL2A_20170613T101031_0_79/*02.tif\n",
            "/content/drive/MyDrive/Big/S2A_MSIL2A_20170613T101031_0_88/*02.tif\n",
            "/content/drive/MyDrive/Big/S2A_MSIL2A_20170613T101031_0_88/S2A_MSIL2A_20170613T101031_0_88_B02.tif 12\n"
          ],
          "name": "stdout"
        }
      ]
    },
    {
      "cell_type": "code",
      "metadata": {
        "colab": {
          "base_uri": "https://localhost:8080/"
        },
        "id": "AKsL8UROz8Gu",
        "outputId": "c9605156-2dc9-42d4-b7e6-767bc0fd7339"
      },
      "source": [
        "# Add min/max values of band 2 to min/max list\n",
        "\n",
        "for i in range(step_size,2*step_size):\n",
        "  band2= rxr.open_rasterio(files[i])\n",
        "  min.append(np.nanmin(band2))\n",
        "  max.append(np.nanmax(band2))\n",
        "print(min)\n",
        "print(max)\n",
        "mean_min.append(np.mean(min))\n",
        "mean_max.append(np.mean(max))"
      ],
      "execution_count": 408,
      "outputs": [
        {
          "output_type": "stream",
          "text": [
            "[267, 272, 294, 280, 245, 276, 123, 156, 198, 164, 139, 202]\n",
            "[456, 308, 655, 327, 302, 328, 1215, 367, 985, 567, 515, 456]\n"
          ],
          "name": "stdout"
        }
      ]
    },
    {
      "cell_type": "code",
      "metadata": {
        "colab": {
          "base_uri": "https://localhost:8080/"
        },
        "id": "X2Ew_dmj35y8",
        "outputId": "a5f35142-ae56-4f01-d616-32b7b8e1cb02"
      },
      "source": [
        "# Add list of band 12 tif files to files list\n",
        "path = '/content/drive/MyDrive/Big'\n",
        "\n",
        "for i in dirs:\n",
        "  s = \"\"\n",
        "  s = s + path + '/' + str(i) +  '/' +'*12.tif'\n",
        "  print(s)\n",
        "  temp = (glob.glob(os.path.join(s)))\n",
        "  files.append(temp[0])\n",
        "print(files[len(files)-1], len(files))\n"
      ],
      "execution_count": 409,
      "outputs": [
        {
          "output_type": "stream",
          "text": [
            "/content/drive/MyDrive/Big/S2A_MSIL2A_20170613T101031_0_55/*12.tif\n",
            "/content/drive/MyDrive/Big/S2A_MSIL2A_20170613T101031_0_59/*12.tif\n",
            "/content/drive/MyDrive/Big/S2A_MSIL2A_20170613T101031_0_63/*12.tif\n",
            "/content/drive/MyDrive/Big/S2A_MSIL2A_20170613T101031_0_70/*12.tif\n",
            "/content/drive/MyDrive/Big/S2A_MSIL2A_20170613T101031_0_79/*12.tif\n",
            "/content/drive/MyDrive/Big/S2A_MSIL2A_20170613T101031_0_88/*12.tif\n",
            "/content/drive/MyDrive/Big/S2A_MSIL2A_20170613T101031_0_88/S2A_MSIL2A_20170613T101031_0_88_B12.tif 18\n"
          ],
          "name": "stdout"
        }
      ]
    },
    {
      "cell_type": "code",
      "metadata": {
        "colab": {
          "base_uri": "https://localhost:8080/"
        },
        "id": "Qh3mdr3K49lF",
        "outputId": "a6f6528e-de45-463d-f9f1-6fc98695012d"
      },
      "source": [
        "# Add min/max values of band 12 to min/max list\n",
        "\n",
        "for i in range(2*step_size,3*step_size):\n",
        "  band2= rxr.open_rasterio(files[i])\n",
        "  min.append(np.nanmin(band2))\n",
        "  max.append(np.nanmax(band2))\n",
        "print(min)\n",
        "print(max)\n",
        "mean_min.append(np.mean(min))\n",
        "mean_max.append(np.mean(max))\n"
      ],
      "execution_count": 410,
      "outputs": [
        {
          "output_type": "stream",
          "text": [
            "[267, 272, 294, 280, 245, 276, 123, 156, 198, 164, 139, 202, 92, 91, 95, 104, 119, 115]\n",
            "[456, 308, 655, 327, 302, 328, 1215, 367, 985, 567, 515, 456, 149, 144, 1606, 153, 191, 170]\n"
          ],
          "name": "stdout"
        }
      ]
    },
    {
      "cell_type": "markdown",
      "metadata": {
        "id": "q5wO1xoA6D5i"
      },
      "source": [
        "# Add files and min/max lists to dataframe"
      ]
    },
    {
      "cell_type": "code",
      "metadata": {
        "colab": {
          "base_uri": "https://localhost:8080/",
          "height": 204
        },
        "id": "DEpzazL-6Gfq",
        "outputId": "52a898ba-b6ca-426c-c451-7768b114c393"
      },
      "source": [
        "df['filename'] = files\n",
        "df['min'] = min\n",
        "df['max'] = max\n",
        "df.head()"
      ],
      "execution_count": 412,
      "outputs": [
        {
          "output_type": "execute_result",
          "data": {
            "text/html": [
              "<div>\n",
              "<style scoped>\n",
              "    .dataframe tbody tr th:only-of-type {\n",
              "        vertical-align: middle;\n",
              "    }\n",
              "\n",
              "    .dataframe tbody tr th {\n",
              "        vertical-align: top;\n",
              "    }\n",
              "\n",
              "    .dataframe thead th {\n",
              "        text-align: right;\n",
              "    }\n",
              "</style>\n",
              "<table border=\"1\" class=\"dataframe\">\n",
              "  <thead>\n",
              "    <tr style=\"text-align: right;\">\n",
              "      <th></th>\n",
              "      <th>filename</th>\n",
              "      <th>min</th>\n",
              "      <th>max</th>\n",
              "    </tr>\n",
              "  </thead>\n",
              "  <tbody>\n",
              "    <tr>\n",
              "      <th>0</th>\n",
              "      <td>/content/drive/MyDrive/Big/S2A_MSIL2A_20170613...</td>\n",
              "      <td>267</td>\n",
              "      <td>456</td>\n",
              "    </tr>\n",
              "    <tr>\n",
              "      <th>1</th>\n",
              "      <td>/content/drive/MyDrive/Big/S2A_MSIL2A_20170613...</td>\n",
              "      <td>272</td>\n",
              "      <td>308</td>\n",
              "    </tr>\n",
              "    <tr>\n",
              "      <th>2</th>\n",
              "      <td>/content/drive/MyDrive/Big/S2A_MSIL2A_20170613...</td>\n",
              "      <td>294</td>\n",
              "      <td>655</td>\n",
              "    </tr>\n",
              "    <tr>\n",
              "      <th>3</th>\n",
              "      <td>/content/drive/MyDrive/Big/S2A_MSIL2A_20170613...</td>\n",
              "      <td>280</td>\n",
              "      <td>327</td>\n",
              "    </tr>\n",
              "    <tr>\n",
              "      <th>4</th>\n",
              "      <td>/content/drive/MyDrive/Big/S2A_MSIL2A_20170613...</td>\n",
              "      <td>245</td>\n",
              "      <td>302</td>\n",
              "    </tr>\n",
              "  </tbody>\n",
              "</table>\n",
              "</div>"
            ],
            "text/plain": [
              "                                            filename  min  max\n",
              "0  /content/drive/MyDrive/Big/S2A_MSIL2A_20170613...  267  456\n",
              "1  /content/drive/MyDrive/Big/S2A_MSIL2A_20170613...  272  308\n",
              "2  /content/drive/MyDrive/Big/S2A_MSIL2A_20170613...  294  655\n",
              "3  /content/drive/MyDrive/Big/S2A_MSIL2A_20170613...  280  327\n",
              "4  /content/drive/MyDrive/Big/S2A_MSIL2A_20170613...  245  302"
            ]
          },
          "metadata": {
            "tags": []
          },
          "execution_count": 412
        }
      ]
    },
    {
      "cell_type": "code",
      "metadata": {
        "colab": {
          "base_uri": "https://localhost:8080/"
        },
        "id": "N1-5QmFe_CJ7",
        "outputId": "a5015dd3-5390-4c02-c938-c89180042739"
      },
      "source": [
        "#print means of min and max values for each band 1 2 and 12\n",
        "print(mean_min)\n",
        "print(mean_max)"
      ],
      "execution_count": 415,
      "outputs": [
        {
          "output_type": "stream",
          "text": [
            "[272.3333333333333, 218.0, 179.55555555555554]\n",
            "[396.0, 540.0833333333334, 494.1111111111111]\n"
          ],
          "name": "stdout"
        }
      ]
    },
    {
      "cell_type": "code",
      "metadata": {
        "colab": {
          "base_uri": "https://localhost:8080/",
          "height": 279
        },
        "id": "GM3H8xso7ynW",
        "outputId": "0983745c-0c60-411e-cf6d-d12f9e0c53d6"
      },
      "source": [
        "# Plot histogram \n",
        "import matplotlib.pyplot as plt\n",
        "x=np.array(min)\n",
        "y=np.array(max)\n",
        "plt.bar(x,y,align='center') # A bar chart\n",
        "plt.xlabel('Min')\n",
        "plt.ylabel('Max')\n",
        "plt.show()"
      ],
      "execution_count": 414,
      "outputs": [
        {
          "output_type": "display_data",
          "data": {
            "image/png": "[encoded data removed]",
            "text/plain": [
              "<Figure size 432x288 with 1 Axes>"
            ]
          },
          "metadata": {
            "tags": [],
            "needs_background": "light"
          }
        }
      ]
    },
    {
      "cell_type": "code",
      "metadata": {
        "colab": {
          "base_uri": "https://localhost:8080/",
          "height": 280
        },
        "id": "oxfN-NsO_wFS",
        "outputId": "8de249a0-7221-4c23-f877-6c24d53f4a4f"
      },
      "source": [
        "# Plot histogram for mean min and mean max\n",
        "import matplotlib.pyplot as plt\n",
        "x=np.array(mean_min)\n",
        "y=np.array(mean_max)\n",
        "plt.bar(x,y,align='center') # A bar chart\n",
        "plt.xlabel('Mean_Min')\n",
        "plt.ylabel('Mean_Max')\n",
        "plt.show()"
      ],
      "execution_count": 416,
      "outputs": [
        {
          "output_type": "display_data",
          "data": {
            "image/png": "[encoded data removed]",
            "text/plain": [
              "<Figure size 432x288 with 1 Axes>"
            ]
          },
          "metadata": {
            "tags": [],
            "needs_background": "light"
          }
        }
      ]
    }
  ]
}