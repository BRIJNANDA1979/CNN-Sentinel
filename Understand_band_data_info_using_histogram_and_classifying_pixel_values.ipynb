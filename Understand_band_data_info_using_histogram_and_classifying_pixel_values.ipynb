{
  "nbformat": 4,
  "nbformat_minor": 0,
  "metadata": {
    "colab": {
      "name": "Understand band data info using histogram and classifying pixel values.ipynb",
      "provenance": [],
      "collapsed_sections": [],
      "mount_file_id": "14fw2LhdAuMNNOqfVjLJgKIqbfoYa1NqV",
      "authorship_tag": "ABX9TyM/Kpu6nLmbf+aQdWnlHohQ",
      "include_colab_link": true
    },
    "kernelspec": {
      "name": "python3",
      "display_name": "Python 3"
    },
    "language_info": {
      "name": "python"
    }
  },
  "cells": [
    {
      "cell_type": "markdown",
      "metadata": {
        "id": "view-in-github",
        "colab_type": "text"
      },
      "source": [
        "<a href=\"https://colab.research.google.com/github/BRIJNANDA1979/CNN-Sentinel/blob/master/Understand_band_data_info_using_histogram_and_classifying_pixel_values.ipynb\" target=\"_parent\"><img src=\"https://colab.research.google.com/assets/colab-badge.svg\" alt=\"Open In Colab\"/></a>"
      ]
    },
    {
      "cell_type": "code",
      "metadata": {
        "id": "T04ies5BfUuO"
      },
      "source": [
        "#https://www.earthdatascience.org/courses/use-data-open-source-python/multispectral-remote-sensing/vegetation-indices-in-python/calculate-NDVI-python/\n",
        "#Sentinel 2 Use Handbook. https://sentinels.copernicus.eu/documents/247904/685211/Sentinel-2_User_Handbook\n",
        "\n"
      ],
      "execution_count": 143,
      "outputs": []
    },
    {
      "cell_type": "code",
      "metadata": {
        "colab": {
          "base_uri": "https://localhost:8080/"
        },
        "id": "26Y6wNYaf6ox",
        "outputId": "9bc4a4a4-8854-461e-ce18-7a330a826371"
      },
      "source": [
        "!pip install rioxarray\n"
      ],
      "execution_count": 144,
      "outputs": [
        {
          "output_type": "stream",
          "text": [
            "Requirement already satisfied: rioxarray in /usr/local/lib/python3.7/dist-packages (0.4.1.post0)\n",
            "Requirement already satisfied: pyproj>=2.2 in /usr/local/lib/python3.7/dist-packages (from rioxarray) (3.1.0)\n",
            "Requirement already satisfied: xarray>=0.17 in /usr/local/lib/python3.7/dist-packages (from rioxarray) (0.18.2)\n",
            "Requirement already satisfied: rasterio in /usr/local/lib/python3.7/dist-packages (from rioxarray) (1.2.3)\n",
            "Requirement already satisfied: scipy in /usr/local/lib/python3.7/dist-packages (from rioxarray) (1.4.1)\n",
            "Requirement already satisfied: certifi in /usr/local/lib/python3.7/dist-packages (from pyproj>=2.2->rioxarray) (2020.12.5)\n",
            "Requirement already satisfied: numpy>=1.17 in /usr/local/lib/python3.7/dist-packages (from xarray>=0.17->rioxarray) (1.19.5)\n",
            "Requirement already satisfied: pandas>=1.0 in /usr/local/lib/python3.7/dist-packages (from xarray>=0.17->rioxarray) (1.1.5)\n",
            "Requirement already satisfied: setuptools>=40.4 in /usr/local/lib/python3.7/dist-packages (from xarray>=0.17->rioxarray) (56.1.0)\n",
            "Requirement already satisfied: affine in /usr/local/lib/python3.7/dist-packages (from rasterio->rioxarray) (2.3.0)\n",
            "Requirement already satisfied: attrs in /usr/local/lib/python3.7/dist-packages (from rasterio->rioxarray) (21.2.0)\n",
            "Requirement already satisfied: click<8,>=4.0 in /usr/local/lib/python3.7/dist-packages (from rasterio->rioxarray) (7.1.2)\n",
            "Requirement already satisfied: click-plugins in /usr/local/lib/python3.7/dist-packages (from rasterio->rioxarray) (1.1.1)\n",
            "Requirement already satisfied: cligj>=0.5 in /usr/local/lib/python3.7/dist-packages (from rasterio->rioxarray) (0.7.2)\n",
            "Requirement already satisfied: snuggs>=1.4.1 in /usr/local/lib/python3.7/dist-packages (from rasterio->rioxarray) (1.4.7)\n",
            "Requirement already satisfied: python-dateutil>=2.7.3 in /usr/local/lib/python3.7/dist-packages (from pandas>=1.0->xarray>=0.17->rioxarray) (2.8.1)\n",
            "Requirement already satisfied: pytz>=2017.2 in /usr/local/lib/python3.7/dist-packages (from pandas>=1.0->xarray>=0.17->rioxarray) (2018.9)\n",
            "Requirement already satisfied: pyparsing>=2.1.6 in /usr/local/lib/python3.7/dist-packages (from snuggs>=1.4.1->rasterio->rioxarray) (2.4.7)\n",
            "Requirement already satisfied: six>=1.5 in /usr/local/lib/python3.7/dist-packages (from python-dateutil>=2.7.3->pandas>=1.0->xarray>=0.17->rioxarray) (1.15.0)\n"
          ],
          "name": "stdout"
        }
      ]
    },
    {
      "cell_type": "code",
      "metadata": {
        "colab": {
          "base_uri": "https://localhost:8080/"
        },
        "id": "P_VN9k0dgzH3",
        "outputId": "1d179d89-a574-4989-aa19-b1455eeb2526"
      },
      "source": [
        "!pip install geopandas"
      ],
      "execution_count": 145,
      "outputs": [
        {
          "output_type": "stream",
          "text": [
            "Requirement already satisfied: geopandas in /usr/local/lib/python3.7/dist-packages (0.9.0)\n",
            "Requirement already satisfied: pyproj>=2.2.0 in /usr/local/lib/python3.7/dist-packages (from geopandas) (3.1.0)\n",
            "Requirement already satisfied: pandas>=0.24.0 in /usr/local/lib/python3.7/dist-packages (from geopandas) (1.1.5)\n",
            "Requirement already satisfied: shapely>=1.6 in /usr/local/lib/python3.7/dist-packages (from geopandas) (1.7.1)\n",
            "Requirement already satisfied: fiona>=1.8 in /usr/local/lib/python3.7/dist-packages (from geopandas) (1.8.19)\n",
            "Requirement already satisfied: certifi in /usr/local/lib/python3.7/dist-packages (from pyproj>=2.2.0->geopandas) (2020.12.5)\n",
            "Requirement already satisfied: pytz>=2017.2 in /usr/local/lib/python3.7/dist-packages (from pandas>=0.24.0->geopandas) (2018.9)\n",
            "Requirement already satisfied: python-dateutil>=2.7.3 in /usr/local/lib/python3.7/dist-packages (from pandas>=0.24.0->geopandas) (2.8.1)\n",
            "Requirement already satisfied: numpy>=1.15.4 in /usr/local/lib/python3.7/dist-packages (from pandas>=0.24.0->geopandas) (1.19.5)\n",
            "Requirement already satisfied: munch in /usr/local/lib/python3.7/dist-packages (from fiona>=1.8->geopandas) (2.5.0)\n",
            "Requirement already satisfied: click-plugins>=1.0 in /usr/local/lib/python3.7/dist-packages (from fiona>=1.8->geopandas) (1.1.1)\n",
            "Requirement already satisfied: six>=1.7 in /usr/local/lib/python3.7/dist-packages (from fiona>=1.8->geopandas) (1.15.0)\n",
            "Requirement already satisfied: click<8,>=4.0 in /usr/local/lib/python3.7/dist-packages (from fiona>=1.8->geopandas) (7.1.2)\n",
            "Requirement already satisfied: cligj>=0.5 in /usr/local/lib/python3.7/dist-packages (from fiona>=1.8->geopandas) (0.7.2)\n",
            "Requirement already satisfied: attrs>=17 in /usr/local/lib/python3.7/dist-packages (from fiona>=1.8->geopandas) (21.2.0)\n"
          ],
          "name": "stdout"
        }
      ]
    },
    {
      "cell_type": "code",
      "metadata": {
        "id": "73haguvifnHq"
      },
      "source": [
        "import os\n",
        "\n",
        "import matplotlib.pyplot as plt\n",
        "import numpy as np\n",
        "import rioxarray as rxr\n",
        "import geopandas as gpd\n",
        "\n"
      ],
      "execution_count": 146,
      "outputs": []
    },
    {
      "cell_type": "code",
      "metadata": {
        "id": "YExQcuFvf312"
      },
      "source": [
        "path = '/content/drive/MyDrive/Big/S2A_MSIL2A_20170613T101031_0_55/S2A_MSIL2A_20170613T101031_0_55_B01.tif'\n",
        "#os.chdir(path)\n",
        "#data_path = os.path.join(\"/content/drive/MyDrive/Big/S2A_MSIL2A_20170613T101031_0_55/S2A_MSIL2A_20170613T101031_0_55_B01.tif\")\n",
        "data = rxr.open_rasterio(path)"
      ],
      "execution_count": 147,
      "outputs": []
    },
    {
      "cell_type": "code",
      "metadata": {
        "colab": {
          "base_uri": "https://localhost:8080/"
        },
        "id": "cp68wiCDhb2L",
        "outputId": "3fb6dae7-ced3-4edd-807a-989003925232"
      },
      "source": [
        "data.shape"
      ],
      "execution_count": 148,
      "outputs": [
        {
          "output_type": "execute_result",
          "data": {
            "text/plain": [
              "(1, 20, 20)"
            ]
          },
          "metadata": {
            "tags": []
          },
          "execution_count": 148
        }
      ]
    },
    {
      "cell_type": "code",
      "metadata": {
        "colab": {
          "base_uri": "https://localhost:8080/"
        },
        "id": "AfHemUrwiUSv",
        "outputId": "c5de0c07-48c4-4cf8-aec0-9408f1ca4763"
      },
      "source": [
        "!pip install earthpy"
      ],
      "execution_count": 149,
      "outputs": [
        {
          "output_type": "stream",
          "text": [
            "Requirement already satisfied: earthpy in /usr/local/lib/python3.7/dist-packages (0.9.2)\n",
            "Requirement already satisfied: requests in /usr/local/lib/python3.7/dist-packages (from earthpy) (2.23.0)\n",
            "Requirement already satisfied: scikit-image in /usr/local/lib/python3.7/dist-packages (from earthpy) (0.16.2)\n",
            "Requirement already satisfied: matplotlib>=2.0.0 in /usr/local/lib/python3.7/dist-packages (from earthpy) (3.2.2)\n",
            "Requirement already satisfied: rasterio in /usr/local/lib/python3.7/dist-packages (from earthpy) (1.2.3)\n",
            "Requirement already satisfied: geopandas in /usr/local/lib/python3.7/dist-packages (from earthpy) (0.9.0)\n",
            "Requirement already satisfied: numpy>=1.14.0 in /usr/local/lib/python3.7/dist-packages (from earthpy) (1.19.5)\n",
            "Requirement already satisfied: chardet<4,>=3.0.2 in /usr/local/lib/python3.7/dist-packages (from requests->earthpy) (3.0.4)\n",
            "Requirement already satisfied: urllib3!=1.25.0,!=1.25.1,<1.26,>=1.21.1 in /usr/local/lib/python3.7/dist-packages (from requests->earthpy) (1.24.3)\n",
            "Requirement already satisfied: certifi>=2017.4.17 in /usr/local/lib/python3.7/dist-packages (from requests->earthpy) (2020.12.5)\n",
            "Requirement already satisfied: idna<3,>=2.5 in /usr/local/lib/python3.7/dist-packages (from requests->earthpy) (2.10)\n",
            "Requirement already satisfied: PyWavelets>=0.4.0 in /usr/local/lib/python3.7/dist-packages (from scikit-image->earthpy) (1.1.1)\n",
            "Requirement already satisfied: scipy>=0.19.0 in /usr/local/lib/python3.7/dist-packages (from scikit-image->earthpy) (1.4.1)\n",
            "Requirement already satisfied: networkx>=2.0 in /usr/local/lib/python3.7/dist-packages (from scikit-image->earthpy) (2.5.1)\n",
            "Requirement already satisfied: pillow>=4.3.0 in /usr/local/lib/python3.7/dist-packages (from scikit-image->earthpy) (7.1.2)\n",
            "Requirement already satisfied: imageio>=2.3.0 in /usr/local/lib/python3.7/dist-packages (from scikit-image->earthpy) (2.4.1)\n",
            "Requirement already satisfied: kiwisolver>=1.0.1 in /usr/local/lib/python3.7/dist-packages (from matplotlib>=2.0.0->earthpy) (1.3.1)\n",
            "Requirement already satisfied: python-dateutil>=2.1 in /usr/local/lib/python3.7/dist-packages (from matplotlib>=2.0.0->earthpy) (2.8.1)\n",
            "Requirement already satisfied: cycler>=0.10 in /usr/local/lib/python3.7/dist-packages (from matplotlib>=2.0.0->earthpy) (0.10.0)\n",
            "Requirement already satisfied: pyparsing!=2.0.4,!=2.1.2,!=2.1.6,>=2.0.1 in /usr/local/lib/python3.7/dist-packages (from matplotlib>=2.0.0->earthpy) (2.4.7)\n",
            "Requirement already satisfied: cligj>=0.5 in /usr/local/lib/python3.7/dist-packages (from rasterio->earthpy) (0.7.2)\n",
            "Requirement already satisfied: click-plugins in /usr/local/lib/python3.7/dist-packages (from rasterio->earthpy) (1.1.1)\n",
            "Requirement already satisfied: affine in /usr/local/lib/python3.7/dist-packages (from rasterio->earthpy) (2.3.0)\n",
            "Requirement already satisfied: attrs in /usr/local/lib/python3.7/dist-packages (from rasterio->earthpy) (21.2.0)\n",
            "Requirement already satisfied: click<8,>=4.0 in /usr/local/lib/python3.7/dist-packages (from rasterio->earthpy) (7.1.2)\n",
            "Requirement already satisfied: snuggs>=1.4.1 in /usr/local/lib/python3.7/dist-packages (from rasterio->earthpy) (1.4.7)\n",
            "Requirement already satisfied: fiona>=1.8 in /usr/local/lib/python3.7/dist-packages (from geopandas->earthpy) (1.8.19)\n",
            "Requirement already satisfied: pyproj>=2.2.0 in /usr/local/lib/python3.7/dist-packages (from geopandas->earthpy) (3.1.0)\n",
            "Requirement already satisfied: shapely>=1.6 in /usr/local/lib/python3.7/dist-packages (from geopandas->earthpy) (1.7.1)\n",
            "Requirement already satisfied: pandas>=0.24.0 in /usr/local/lib/python3.7/dist-packages (from geopandas->earthpy) (1.1.5)\n",
            "Requirement already satisfied: decorator<5,>=4.3 in /usr/local/lib/python3.7/dist-packages (from networkx>=2.0->scikit-image->earthpy) (4.4.2)\n",
            "Requirement already satisfied: six>=1.5 in /usr/local/lib/python3.7/dist-packages (from python-dateutil>=2.1->matplotlib>=2.0.0->earthpy) (1.15.0)\n",
            "Requirement already satisfied: munch in /usr/local/lib/python3.7/dist-packages (from fiona>=1.8->geopandas->earthpy) (2.5.0)\n",
            "Requirement already satisfied: pytz>=2017.2 in /usr/local/lib/python3.7/dist-packages (from pandas>=0.24.0->geopandas->earthpy) (2018.9)\n"
          ],
          "name": "stdout"
        }
      ]
    },
    {
      "cell_type": "code",
      "metadata": {
        "colab": {
          "base_uri": "https://localhost:8080/",
          "height": 694
        },
        "id": "44JG9p9MiIeN",
        "outputId": "70181e3c-22f5-4e4e-953c-666d7658e2a1"
      },
      "source": [
        "import earthpy as et\n",
        "import earthpy.spatial as es\n",
        "import earthpy.plot as ep\n",
        "ep.plot_bands(data,\n",
        "              title=\"Bigearthnet Band 1 Raster\")\n",
        "plt.show()"
      ],
      "execution_count": 150,
      "outputs": [
        {
          "output_type": "display_data",
          "data": {
            "image/png": "[encoded data removed]",
            "text/plain": [
              "<Figure size 864x864 with 2 Axes>"
            ]
          },
          "metadata": {
            "tags": [],
            "needs_background": "light"
          }
        }
      ]
    },
    {
      "cell_type": "code",
      "metadata": {
        "colab": {
          "base_uri": "https://localhost:8080/"
        },
        "id": "DAEubdVX3m2h",
        "outputId": "25e677cc-d3e3-4b9e-d1c8-695da38a4343"
      },
      "source": [
        "#https://earthpy.readthedocs.io/en/latest/gallery_vignettes/plot_bands_functionality.html\n",
        "#Stack all bands of BigEarthNet Data sample one band tiff images\n",
        "import glob\n",
        "files = glob.glob(os.path.join('/content/drive/MyDrive/Big/S2A_MSIL2A_20170613T101031_0_55/S2A_MSIL2A_20170613T101031_0_55_B*.tif'))\n",
        "files.sort()\n",
        "print(\"Number of Bands\",len(files))\n",
        "#array_stack, meta_data = es.stack(path, nodata=-9999)\n"
      ],
      "execution_count": 151,
      "outputs": [
        {
          "output_type": "stream",
          "text": [
            "Number of Bands 12\n"
          ],
          "name": "stdout"
        }
      ]
    },
    {
      "cell_type": "markdown",
      "metadata": {
        "id": "PmTEEoT3UmRB"
      },
      "source": [
        "# New Section"
      ]
    },
    {
      "cell_type": "code",
      "metadata": {
        "colab": {
          "base_uri": "https://localhost:8080/",
          "height": 1000
        },
        "id": "WkrX5HEo4DIo",
        "outputId": "00afe709-49f4-4d07-a4f2-da4fd94ec210"
      },
      "source": [
        "band1= rxr.open_rasterio(files[0])\n",
        "ep.plot_bands(band1,\n",
        "              title=\"Bigearthnet Band 1 Raster\")\n",
        "plt.show()\n",
        "print(\"The CRS of this data is:\", band1.rio.crs)\n",
        "#Converting EPSG to Proj4 in Python\n",
        "# Convert to project string using earthpy\n",
        "proj4 = et.epsg['32634']\n",
        "print(proj4)\n",
        "#Spatial Extent\n",
        "#You can access the spatial extent using the .bounds() attribute in rasterio.\n",
        "print(band1.rio.bounds())\n",
        "#Raster Resolution: area covered by 1 pixel on ground e.g 60m * 60m\n",
        "# What is the x and y resolution for your raster data?\n",
        "print(band1.rio.resolution())\n",
        "print(\"The nodatavalue of your data is:\", band1.rio.nodata)\n",
        "# How many bands / layers does the object have?\n",
        "print(\"Number of bands\", band1.rio.count)\n",
        "print(\"The shape of your data is:\", band1.shape)\n",
        "print('min value:', np.nanmin(band1))\n",
        "print('max value:', np.nanmax(band1))\n",
        "import matplotlib.pyplot as plt\n",
        "f, ax = plt.subplots()\n",
        "band1.plot.hist(color=\"purple\")\n",
        "ax.set(title=\"Distribution of Raster Cell Values  Band 1 Data\",\n",
        "       xlabel=\"\",\n",
        "       ylabel=\"Number of Pixels\")\n",
        "plt.show()"
      ],
      "execution_count": 152,
      "outputs": [
        {
          "output_type": "display_data",
          "data": {
            "image/png": "[encoded data removed]",
            "text/plain": [
              "<Figure size 864x864 with 2 Axes>"
            ]
          },
          "metadata": {
            "tags": [],
            "needs_background": "light"
          }
        },
        {
          "output_type": "stream",
          "text": [
            "The CRS of this data is: EPSG:32634\n",
            "+proj=utm +zone=34 +datum=WGS84 +units=m +no_defs\n",
            "(499980.0, 7032840.0, 501180.0, 7034040.0)\n",
            "(60.0, -60.0)\n",
            "The nodatavalue of your data is: None\n",
            "Number of bands 1\n",
            "The shape of your data is: (1, 20, 20)\n",
            "min value: 267\n",
            "max value: 456\n"
          ],
          "name": "stdout"
        },
        {
          "output_type": "display_data",
          "data": {
            "image/png": "[encoded data removed]",
            "text/plain": [
              "<Figure size 432x288 with 1 Axes>"
            ]
          },
          "metadata": {
            "tags": [],
            "needs_background": "light"
          }
        }
      ]
    },
    {
      "cell_type": "code",
      "metadata": {
        "colab": {
          "base_uri": "https://localhost:8080/",
          "height": 1000
        },
        "id": "fQ40s3f2-tCq",
        "outputId": "243eb7e6-caca-4cfa-efa0-83b137221d85"
      },
      "source": [
        "band2= rxr.open_rasterio(files[11])\n",
        "ep.plot_bands(band12,\n",
        "              title=\"Bigearthnet Band 2 Raster\")\n",
        "plt.show()\n",
        "print(\"The CRS of this data is:\", band2.rio.crs)\n",
        "#Converting EPSG to Proj4 in Python\n",
        "# Convert to project string using earthpy\n",
        "proj4 = et.epsg['32634']\n",
        "print(proj4)\n",
        "#Spatial Extent\n",
        "#You can access the spatial extent using the .bounds() attribute in rasterio.\n",
        "print(band2.rio.bounds())\n",
        "#Raster Resolution: area covered by 1 pixel on ground e.g 60m * 60m\n",
        "# What is the x and y resolution for your raster data?\n",
        "print(band12.rio.resolution())\n",
        "print(\"The nodatavalue of your data is:\", band2.rio.nodata)\n",
        "# How many bands / layers does the object have?\n",
        "print(\"Number of bands\", band2.rio.count)\n",
        "print(\"The shape of your data is:\", band12.shape)\n",
        "print('min value:', np.nanmin(band2))\n",
        "print('max value:', np.nanmax(band2))\n",
        "import matplotlib.pyplot as plt\n",
        "f, ax = plt.subplots()\n",
        "band1.plot.hist(color=\"purple\")\n",
        "ax.set(title=\"Distribution of Raster Cell Values  Band 2 Data\",\n",
        "       xlabel=\"\",\n",
        "       ylabel=\"Number of Pixels\")\n",
        "plt.show()"
      ],
      "execution_count": 153,
      "outputs": [
        {
          "output_type": "display_data",
          "data": {
            "image/png": "[encoded data removed]",
            "text/plain": [
              "<Figure size 864x864 with 2 Axes>"
            ]
          },
          "metadata": {
            "tags": [],
            "needs_background": "light"
          }
        },
        {
          "output_type": "stream",
          "text": [
            "The CRS of this data is: EPSG:32634\n",
            "+proj=utm +zone=34 +datum=WGS84 +units=m +no_defs\n",
            "(499980.0, 7032840.0, 501180.0, 7034040.0)\n",
            "(20.0, -20.0)\n",
            "The nodatavalue of your data is: None\n",
            "Number of bands 1\n",
            "The shape of your data is: (1, 60, 60)\n",
            "min value: 106\n",
            "max value: 446\n"
          ],
          "name": "stdout"
        },
        {
          "output_type": "display_data",
          "data": {
            "image/png": "[encoded data removed]",
            "text/plain": [
              "<Figure size 432x288 with 1 Axes>"
            ]
          },
          "metadata": {
            "tags": [],
            "needs_background": "light"
          }
        }
      ]
    },
    {
      "cell_type": "code",
      "metadata": {
        "id": "00WUpwpnj-F_"
      },
      "source": [
        "#https://rasterio.readthedocs.io/en/latest/api/rasterio.plot.html\n",
        "#rasterio.plot.reshape_as_image(arr)\n",
        "#Returns the source array reshaped into the order expected by image processing and visualization software (matplotlib, scikit-image, etc) by swapping the axes order from (bands, rows, columns) to (rows, columns, bands)\n"
      ],
      "execution_count": 154,
      "outputs": []
    },
    {
      "cell_type": "code",
      "metadata": {
        "colab": {
          "base_uri": "https://localhost:8080/"
        },
        "id": "LhQc3X5EqTty",
        "outputId": "fd7dc57d-2ffb-4943-87ee-da8c660bb0a4"
      },
      "source": [
        "print('min value:', np.nanmin(data))\n",
        "print('max value:', np.nanmax(data))"
      ],
      "execution_count": 155,
      "outputs": [
        {
          "output_type": "stream",
          "text": [
            "min value: 267\n",
            "max value: 456\n"
          ],
          "name": "stdout"
        }
      ]
    },
    {
      "cell_type": "code",
      "metadata": {
        "colab": {
          "base_uri": "https://localhost:8080/",
          "height": 281
        },
        "id": "NMJzy80Kq2bz",
        "outputId": "89e75a5b-aae4-4c29-a4e5-e5f3fc1ddf63"
      },
      "source": [
        "#https://www.earthdatascience.org/courses/use-data-open-source-python/intro-raster-data-python/raster-data-processing/classify-plot-raster-data-in-python/\n",
        "import matplotlib.pyplot as plt\n",
        "f, ax = plt.subplots()\n",
        "data.plot.hist(color=\"purple\")\n",
        "ax.set(title=\"Distribution of Raster Cell Values  Data\",\n",
        "       xlabel=\"\",\n",
        "       ylabel=\"Number of Pixels\")\n",
        "plt.show()"
      ],
      "execution_count": 156,
      "outputs": [
        {
          "output_type": "display_data",
          "data": {
            "image/png": "[encoded data removed]",
            "text/plain": [
              "<Figure size 432x288 with 1 Axes>"
            ]
          },
          "metadata": {
            "tags": [],
            "needs_background": "light"
          }
        }
      ]
    },
    {
      "cell_type": "code",
      "metadata": {
        "id": "U8lkgRy6rIxq"
      },
      "source": [
        "bins=[0, 100, 200, 250, 275, 300,350]"
      ],
      "execution_count": 157,
      "outputs": []
    },
    {
      "cell_type": "code",
      "metadata": {
        "colab": {
          "base_uri": "https://localhost:8080/",
          "height": 281
        },
        "id": "d6NsYNZprsmU",
        "outputId": "fbda52c1-b283-4be4-8d8a-68ab489fa8ce"
      },
      "source": [
        "f, ax = plt.subplots()\n",
        "data.plot.hist(color=\"purple\",bins=[0, 100, 200, 250, 275, 300,350])\n",
        "ax.set(title=\"Distribution of Raster Cell Values  Data\",\n",
        "       xlabel=\"\",\n",
        "       ylabel=\"Number of Pixels\")\n",
        "plt.show()"
      ],
      "execution_count": 158,
      "outputs": [
        {
          "output_type": "display_data",
          "data": {
            "image/png": "[encoded data removed]",
            "text/plain": [
              "<Figure size 432x288 with 1 Axes>"
            ]
          },
          "metadata": {
            "tags": [],
            "needs_background": "light"
          }
        }
      ]
    },
    {
      "cell_type": "code",
      "metadata": {
        "id": "27wN_Z67swYe"
      },
      "source": [
        "class_bins = [-np.inf,250,275,300,350,+np.inf]\n"
      ],
      "execution_count": 159,
      "outputs": []
    },
    {
      "cell_type": "code",
      "metadata": {
        "colab": {
          "base_uri": "https://localhost:8080/"
        },
        "id": "4iYu_HuQtJaP",
        "outputId": "fe94ccde-8721-4236-ba6f-3a4d6cde7bc0"
      },
      "source": [
        "import xarray as xr\n",
        "data_class = xr.apply_ufunc(np.digitize,\n",
        "                                     data,\n",
        "                                     class_bins)\n",
        "print(data_class.shape)\n",
        "#data_class = np.array(data_class[0])"
      ],
      "execution_count": 160,
      "outputs": [
        {
          "output_type": "stream",
          "text": [
            "(1, 20, 20)\n"
          ],
          "name": "stdout"
        }
      ]
    },
    {
      "cell_type": "code",
      "metadata": {
        "colab": {
          "base_uri": "https://localhost:8080/",
          "height": 281
        },
        "id": "x7WA9bGPtd3P",
        "outputId": "3342d788-b224-48b7-9ee2-7e7a9c3534c6"
      },
      "source": [
        "import matplotlib.pyplot as plt\n",
        "f, ax = plt.subplots()\n",
        "data_class.plot.hist(color=\"purple\")\n",
        "ax.set(title=\"Distribution of Raster Cell Values  Data\",\n",
        "       xlabel=\"\",\n",
        "       ylabel=\"Number of Pixels\")\n",
        "plt.show()"
      ],
      "execution_count": 161,
      "outputs": [
        {
          "output_type": "display_data",
          "data": {
            "image/png": "[encoded data removed]",
            "text/plain": [
              "<Figure size 432x288 with 1 Axes>"
            ]
          },
          "metadata": {
            "tags": [],
            "needs_background": "light"
          }
        }
      ]
    },
    {
      "cell_type": "code",
      "metadata": {
        "id": "ktHnAh-H5VGS"
      },
      "source": [
        "#https://www.spatialreference.org/ref/epsg/32634/\n",
        "#/*EPSG:32634\n",
        "\n",
        "#WGS 84 / UTM zone 34N (Google it)\n",
        "\n",
        "#WGS84 Bounds: 18.0000, 0.0000, 24.0000, 84.0000\n",
        "#Projected Bounds: 166021.4431, 0.0000, 833978.5569, 9329005.1825\n",
        "#Scope: Large and medium scale topographic mapping and engineering survey.\n",
        "#Last Revised: June 2, 1995\n",
        "#Area: World - N hemisphere - 18°E to 24°E - by country*/\n",
        "\n",
        "#Proj4js.defs[\"EPSG:32634\"] = \"+proj=utm +zone=34 +ellps=WGS84 +datum=WGS84 +units=m +no_defs\";"
      ],
      "execution_count": 162,
      "outputs": []
    },
    {
      "cell_type": "code",
      "metadata": {
        "id": "lmOrNHfQ3Q3k",
        "colab": {
          "base_uri": "https://localhost:8080/",
          "height": 1000
        },
        "outputId": "1bb76284-b4bd-4d40-8470-e2f610c536bf"
      },
      "source": [
        "band12= rxr.open_rasterio(files[11])\n",
        "ep.plot_bands(band12,\n",
        "              title=\"Bigearthnet Band 12 Raster\")\n",
        "plt.show()\n",
        "print(\"The CRS of this data is:\", band12.rio.crs)\n",
        "#Converting EPSG to Proj4 in Python\n",
        "# Convert to project string using earthpy\n",
        "proj4 = et.epsg['32634']\n",
        "print(proj4)\n",
        "#Spatial Extent\n",
        "#You can access the spatial extent using the .bounds() attribute in rasterio.\n",
        "print(band12.rio.bounds())\n",
        "#Raster Resolution: area covered by 1 pixel on ground e.g 60m * 60m\n",
        "# What is the x and y resolution for your raster data?\n",
        "print(band12.rio.resolution())\n",
        "print(\"The nodatavalue of your data is:\", band12.rio.nodata)\n",
        "# How many bands / layers does the object have?\n",
        "print(\"Number of bands\", band12.rio.count)\n",
        "print(\"The shape of your data is:\", band12.shape)\n",
        "print('min value:', np.nanmin(band12))\n",
        "print('max value:', np.nanmax(band12))\n",
        "import matplotlib.pyplot as plt\n",
        "f, ax = plt.subplots()\n",
        "band1.plot.hist(color=\"purple\")\n",
        "ax.set(title=\"Distribution of Raster Cell Values  Band 12 Data\",\n",
        "       xlabel=\"\",\n",
        "       ylabel=\"Number of Pixels\")\n",
        "plt.show()"
      ],
      "execution_count": 163,
      "outputs": [
        {
          "output_type": "display_data",
          "data": {
            "image/png": "[encoded data removed]",
            "text/plain": [
              "<Figure size 864x864 with 2 Axes>"
            ]
          },
          "metadata": {
            "tags": [],
            "needs_background": "light"
          }
        },
        {
          "output_type": "stream",
          "text": [
            "The CRS of this data is: EPSG:32634\n",
            "+proj=utm +zone=34 +datum=WGS84 +units=m +no_defs\n",
            "(499980.0, 7032840.0, 501180.0, 7034040.0)\n",
            "(20.0, -20.0)\n",
            "The nodatavalue of your data is: None\n",
            "Number of bands 1\n",
            "The shape of your data is: (1, 60, 60)\n",
            "min value: 106\n",
            "max value: 446\n"
          ],
          "name": "stdout"
        },
        {
          "output_type": "display_data",
          "data": {
            "image/png": "[encoded data removed]",
            "text/plain": [
              "<Figure size 432x288 with 1 Axes>"
            ]
          },
          "metadata": {
            "tags": [],
            "needs_background": "light"
          }
        }
      ]
    },
    {
      "cell_type": "markdown",
      "metadata": {
        "id": "WY886egdVz3_"
      },
      "source": [
        "## New Section : Making Dataframe for min/max values of each bands of 1,2 and 12"
      ]
    },
    {
      "cell_type": "code",
      "metadata": {
        "colab": {
          "base_uri": "https://localhost:8080/",
          "height": 49
        },
        "id": "Wc1HYAw7U4dm",
        "outputId": "f944e948-6af6-4802-85d8-d8b2b9616de0"
      },
      "source": [
        "import pandas as pd\n",
        "df = pd.DataFrame(columns= ['Filename','B1_min','B1_max','B2_min','B2_max','B12_min','B12_max'])\n",
        "df.head()"
      ],
      "execution_count": 168,
      "outputs": [
        {
          "output_type": "execute_result",
          "data": {
            "text/html": [
              "<div>\n",
              "<style scoped>\n",
              "    .dataframe tbody tr th:only-of-type {\n",
              "        vertical-align: middle;\n",
              "    }\n",
              "\n",
              "    .dataframe tbody tr th {\n",
              "        vertical-align: top;\n",
              "    }\n",
              "\n",
              "    .dataframe thead th {\n",
              "        text-align: right;\n",
              "    }\n",
              "</style>\n",
              "<table border=\"1\" class=\"dataframe\">\n",
              "  <thead>\n",
              "    <tr style=\"text-align: right;\">\n",
              "      <th></th>\n",
              "      <th>Filename</th>\n",
              "      <th>B1_min</th>\n",
              "      <th>B1_max</th>\n",
              "      <th>B2_min</th>\n",
              "      <th>B2_max</th>\n",
              "      <th>B12_min</th>\n",
              "      <th>B12_max</th>\n",
              "    </tr>\n",
              "  </thead>\n",
              "  <tbody>\n",
              "  </tbody>\n",
              "</table>\n",
              "</div>"
            ],
            "text/plain": [
              "Empty DataFrame\n",
              "Columns: [Filename, B1_min, B1_max, B2_min, B2_max, B12_min, B12_max]\n",
              "Index: []"
            ]
          },
          "metadata": {
            "tags": []
          },
          "execution_count": 168
        }
      ]
    },
    {
      "cell_type": "code",
      "metadata": {
        "colab": {
          "base_uri": "https://localhost:8080/"
        },
        "id": "B9QN9_5zXvZ1",
        "outputId": "23c45df9-1280-4ae9-ca97-46fd4b63570f"
      },
      "source": [
        "#Band1 Min/Max Data\n",
        "import glob\n",
        "import os\n",
        "path = '/content/drive/MyDrive/Big'\n",
        "os.chdir(path)\n",
        "dirs = os.listdir()\n",
        "dirs.sort()\n",
        "print(dirs)\n",
        "print(len(dirs))\n",
        "#remove last element of list\n",
        "del dirs[0]\n",
        "print(dirs)\n",
        "print(len(dirs))\n",
        "\n",
        "\n"
      ],
      "execution_count": 180,
      "outputs": [
        {
          "output_type": "stream",
          "text": [
            "['.ipynb_checkpoints', 'S2A_MSIL2A_20170613T101031_0_55', 'S2A_MSIL2A_20170613T101031_0_59', 'S2A_MSIL2A_20170613T101031_0_63', 'S2A_MSIL2A_20170613T101031_0_70', 'S2A_MSIL2A_20170613T101031_0_79', 'S2A_MSIL2A_20170613T101031_0_88']\n",
            "7\n",
            "['S2A_MSIL2A_20170613T101031_0_55', 'S2A_MSIL2A_20170613T101031_0_59', 'S2A_MSIL2A_20170613T101031_0_63', 'S2A_MSIL2A_20170613T101031_0_70', 'S2A_MSIL2A_20170613T101031_0_79', 'S2A_MSIL2A_20170613T101031_0_88']\n",
            "6\n"
          ],
          "name": "stdout"
        }
      ]
    },
    {
      "cell_type": "code",
      "metadata": {
        "colab": {
          "base_uri": "https://localhost:8080/"
        },
        "id": "kHoUgpZHZy_a",
        "outputId": "529918f5-cfd5-470e-e8f5-b4a33a50b9d3"
      },
      "source": [
        "# Add list of band1 tif files to Dataframe\n",
        "path = '/content/drive/MyDrive/Big'\n",
        "files=[]\n",
        "for i in dirs:\n",
        "  s = \"\"\n",
        "  s = s + path + '/' + str(i) +  '/' +'*01.tif'\n",
        "  #print(s)\n",
        "  temp = (glob.glob(os.path.join(s)))\n",
        "  files.append(temp[0])\n",
        "df['Filename']  = files\n",
        "print(df)"
      ],
      "execution_count": 202,
      "outputs": [
        {
          "output_type": "stream",
          "text": [
            "                                            Filename B1_min  ... B12_min B12_max\n",
            "0  /content/drive/MyDrive/Big/S2A_MSIL2A_20170613...    NaN  ...     NaN     NaN\n",
            "1  /content/drive/MyDrive/Big/S2A_MSIL2A_20170613...    NaN  ...     NaN     NaN\n",
            "2  /content/drive/MyDrive/Big/S2A_MSIL2A_20170613...    NaN  ...     NaN     NaN\n",
            "3  /content/drive/MyDrive/Big/S2A_MSIL2A_20170613...    NaN  ...     NaN     NaN\n",
            "4  /content/drive/MyDrive/Big/S2A_MSIL2A_20170613...    NaN  ...     NaN     NaN\n",
            "5  /content/drive/MyDrive/Big/S2A_MSIL2A_20170613...    NaN  ...     NaN     NaN\n",
            "\n",
            "[6 rows x 7 columns]\n"
          ],
          "name": "stdout"
        }
      ]
    },
    {
      "cell_type": "code",
      "metadata": {
        "colab": {
          "base_uri": "https://localhost:8080/"
        },
        "id": "95X_U70lhSQn",
        "outputId": "59be2e98-c561-47ae-b7bc-2e03e4e35fef"
      },
      "source": [
        "# Fetch Filenames of band 1\n",
        "files = df['Filename']\n",
        "print(files[0])"
      ],
      "execution_count": 209,
      "outputs": [
        {
          "output_type": "stream",
          "text": [
            "/content/drive/MyDrive/Big/S2A_MSIL2A_20170613T101031_0_55/S2A_MSIL2A_20170613T101031_0_55_B01.tif\n"
          ],
          "name": "stdout"
        }
      ]
    },
    {
      "cell_type": "code",
      "metadata": {
        "colab": {
          "base_uri": "https://localhost:8080/"
        },
        "id": "iIClcTSGgkTf",
        "outputId": "ab65c3f8-37ea-485c-dab1-9c6466093f99"
      },
      "source": [
        "# Add min/max values of band 1 to Dataframe\n",
        "files = df['Filename']\n",
        "min=[]\n",
        "max=[]\n",
        "for i in files:\n",
        "  band1= rxr.open_rasterio(i)\n",
        "  min.append(np.nanmin(band1))\n",
        "  max.append(np.nanmax(band1))\n",
        "print(min)\n",
        "print(max)\n",
        "\n"
      ],
      "execution_count": 212,
      "outputs": [
        {
          "output_type": "stream",
          "text": [
            "[267, 272, 294, 280, 245, 276]\n",
            "[456, 308, 655, 327, 302, 328]\n"
          ],
          "name": "stdout"
        }
      ]
    }
  ]
}