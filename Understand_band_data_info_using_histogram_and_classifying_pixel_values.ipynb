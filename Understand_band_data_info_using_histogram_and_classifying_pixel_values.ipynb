{
  "nbformat": 4,
  "nbformat_minor": 0,
  "metadata": {
    "colab": {
      "name": "Understand band data info using histogram and classifying pixel values.ipynb",
      "provenance": [],
      "collapsed_sections": [],
      "mount_file_id": "14fw2LhdAuMNNOqfVjLJgKIqbfoYa1NqV",
      "authorship_tag": "ABX9TyOnKvxYtz2zecrtzhz4pOwo",
      "include_colab_link": true
    },
    "kernelspec": {
      "name": "python3",
      "display_name": "Python 3"
    },
    "language_info": {
      "name": "python"
    }
  },
  "cells": [
    {
      "cell_type": "markdown",
      "metadata": {
        "id": "view-in-github",
        "colab_type": "text"
      },
      "source": [
        "<a href=\"https://colab.research.google.com/github/BRIJNANDA1979/CNN-Sentinel/blob/master/Understand_band_data_info_using_histogram_and_classifying_pixel_values.ipynb\" target=\"_parent\"><img src=\"https://colab.research.google.com/assets/colab-badge.svg\" alt=\"Open In Colab\"/></a>"
      ]
    },
    {
      "cell_type": "code",
      "metadata": {
        "id": "T04ies5BfUuO"
      },
      "source": [
        "#https://www.earthdatascience.org/courses/use-data-open-source-python/multispectral-remote-sensing/vegetation-indices-in-python/calculate-NDVI-python/\n",
        "#Sentinel 2 Use Handbook. https://sentinels.copernicus.eu/documents/247904/685211/Sentinel-2_User_Handbook\n",
        "\n"
      ],
      "execution_count": 512,
      "outputs": []
    },
    {
      "cell_type": "code",
      "metadata": {
        "colab": {
          "base_uri": "https://localhost:8080/"
        },
        "id": "26Y6wNYaf6ox",
        "outputId": "99ab8b90-d9ba-40de-bf76-5e58eb77d126"
      },
      "source": [
        "!pip install rioxarray\n"
      ],
      "execution_count": 513,
      "outputs": [
        {
          "output_type": "stream",
          "text": [
            "Requirement already satisfied: rioxarray in /usr/local/lib/python3.7/dist-packages (0.4.1.post0)\n",
            "Requirement already satisfied: scipy in /usr/local/lib/python3.7/dist-packages (from rioxarray) (1.4.1)\n",
            "Requirement already satisfied: pyproj>=2.2 in /usr/local/lib/python3.7/dist-packages (from rioxarray) (3.1.0)\n",
            "Requirement already satisfied: xarray>=0.17 in /usr/local/lib/python3.7/dist-packages (from rioxarray) (0.18.2)\n",
            "Requirement already satisfied: rasterio in /usr/local/lib/python3.7/dist-packages (from rioxarray) (1.2.3)\n",
            "Requirement already satisfied: numpy>=1.13.3 in /usr/local/lib/python3.7/dist-packages (from scipy->rioxarray) (1.19.5)\n",
            "Requirement already satisfied: certifi in /usr/local/lib/python3.7/dist-packages (from pyproj>=2.2->rioxarray) (2020.12.5)\n",
            "Requirement already satisfied: pandas>=1.0 in /usr/local/lib/python3.7/dist-packages (from xarray>=0.17->rioxarray) (1.1.5)\n",
            "Requirement already satisfied: setuptools>=40.4 in /usr/local/lib/python3.7/dist-packages (from xarray>=0.17->rioxarray) (56.1.0)\n",
            "Requirement already satisfied: cligj>=0.5 in /usr/local/lib/python3.7/dist-packages (from rasterio->rioxarray) (0.7.2)\n",
            "Requirement already satisfied: click<8,>=4.0 in /usr/local/lib/python3.7/dist-packages (from rasterio->rioxarray) (7.1.2)\n",
            "Requirement already satisfied: click-plugins in /usr/local/lib/python3.7/dist-packages (from rasterio->rioxarray) (1.1.1)\n",
            "Requirement already satisfied: affine in /usr/local/lib/python3.7/dist-packages (from rasterio->rioxarray) (2.3.0)\n",
            "Requirement already satisfied: attrs in /usr/local/lib/python3.7/dist-packages (from rasterio->rioxarray) (21.2.0)\n",
            "Requirement already satisfied: snuggs>=1.4.1 in /usr/local/lib/python3.7/dist-packages (from rasterio->rioxarray) (1.4.7)\n",
            "Requirement already satisfied: pytz>=2017.2 in /usr/local/lib/python3.7/dist-packages (from pandas>=1.0->xarray>=0.17->rioxarray) (2018.9)\n",
            "Requirement already satisfied: python-dateutil>=2.7.3 in /usr/local/lib/python3.7/dist-packages (from pandas>=1.0->xarray>=0.17->rioxarray) (2.8.1)\n",
            "Requirement already satisfied: pyparsing>=2.1.6 in /usr/local/lib/python3.7/dist-packages (from snuggs>=1.4.1->rasterio->rioxarray) (2.4.7)\n",
            "Requirement already satisfied: six>=1.5 in /usr/local/lib/python3.7/dist-packages (from python-dateutil>=2.7.3->pandas>=1.0->xarray>=0.17->rioxarray) (1.15.0)\n"
          ],
          "name": "stdout"
        }
      ]
    },
    {
      "cell_type": "code",
      "metadata": {
        "colab": {
          "base_uri": "https://localhost:8080/"
        },
        "id": "P_VN9k0dgzH3",
        "outputId": "3fd132c1-6d02-43ab-9e08-8f1ff64c99b6"
      },
      "source": [
        "!pip install geopandas"
      ],
      "execution_count": 514,
      "outputs": [
        {
          "output_type": "stream",
          "text": [
            "Requirement already satisfied: geopandas in /usr/local/lib/python3.7/dist-packages (0.9.0)\n",
            "Requirement already satisfied: pyproj>=2.2.0 in /usr/local/lib/python3.7/dist-packages (from geopandas) (3.1.0)\n",
            "Requirement already satisfied: fiona>=1.8 in /usr/local/lib/python3.7/dist-packages (from geopandas) (1.8.19)\n",
            "Requirement already satisfied: pandas>=0.24.0 in /usr/local/lib/python3.7/dist-packages (from geopandas) (1.1.5)\n",
            "Requirement already satisfied: shapely>=1.6 in /usr/local/lib/python3.7/dist-packages (from geopandas) (1.7.1)\n",
            "Requirement already satisfied: certifi in /usr/local/lib/python3.7/dist-packages (from pyproj>=2.2.0->geopandas) (2020.12.5)\n",
            "Requirement already satisfied: attrs>=17 in /usr/local/lib/python3.7/dist-packages (from fiona>=1.8->geopandas) (21.2.0)\n",
            "Requirement already satisfied: cligj>=0.5 in /usr/local/lib/python3.7/dist-packages (from fiona>=1.8->geopandas) (0.7.2)\n",
            "Requirement already satisfied: click<8,>=4.0 in /usr/local/lib/python3.7/dist-packages (from fiona>=1.8->geopandas) (7.1.2)\n",
            "Requirement already satisfied: six>=1.7 in /usr/local/lib/python3.7/dist-packages (from fiona>=1.8->geopandas) (1.15.0)\n",
            "Requirement already satisfied: click-plugins>=1.0 in /usr/local/lib/python3.7/dist-packages (from fiona>=1.8->geopandas) (1.1.1)\n",
            "Requirement already satisfied: munch in /usr/local/lib/python3.7/dist-packages (from fiona>=1.8->geopandas) (2.5.0)\n",
            "Requirement already satisfied: python-dateutil>=2.7.3 in /usr/local/lib/python3.7/dist-packages (from pandas>=0.24.0->geopandas) (2.8.1)\n",
            "Requirement already satisfied: numpy>=1.15.4 in /usr/local/lib/python3.7/dist-packages (from pandas>=0.24.0->geopandas) (1.19.5)\n",
            "Requirement already satisfied: pytz>=2017.2 in /usr/local/lib/python3.7/dist-packages (from pandas>=0.24.0->geopandas) (2018.9)\n"
          ],
          "name": "stdout"
        }
      ]
    },
    {
      "cell_type": "code",
      "metadata": {
        "id": "73haguvifnHq"
      },
      "source": [
        "import os\n",
        "\n",
        "import matplotlib.pyplot as plt\n",
        "import numpy as np\n",
        "import rioxarray as rxr\n",
        "import geopandas as gpd\n",
        "\n"
      ],
      "execution_count": 515,
      "outputs": []
    },
    {
      "cell_type": "code",
      "metadata": {
        "id": "YExQcuFvf312"
      },
      "source": [
        "path = '/content/drive/MyDrive/Big/S2A_MSIL2A_20170613T101031_0_55/S2A_MSIL2A_20170613T101031_0_55_B01.tif'\n",
        "#os.chdir(path)\n",
        "#data_path = os.path.join(\"/content/drive/MyDrive/Big/S2A_MSIL2A_20170613T101031_0_55/S2A_MSIL2A_20170613T101031_0_55_B01.tif\")\n",
        "data = rxr.open_rasterio(path)"
      ],
      "execution_count": 516,
      "outputs": []
    },
    {
      "cell_type": "code",
      "metadata": {
        "colab": {
          "base_uri": "https://localhost:8080/"
        },
        "id": "cp68wiCDhb2L",
        "outputId": "a1726e85-70bd-4f29-f3aa-c76de2b065b9"
      },
      "source": [
        "data.shape"
      ],
      "execution_count": 517,
      "outputs": [
        {
          "output_type": "execute_result",
          "data": {
            "text/plain": [
              "(1, 20, 20)"
            ]
          },
          "metadata": {
            "tags": []
          },
          "execution_count": 517
        }
      ]
    },
    {
      "cell_type": "code",
      "metadata": {
        "colab": {
          "base_uri": "https://localhost:8080/"
        },
        "id": "AfHemUrwiUSv",
        "outputId": "70822118-890d-4357-a49f-49caf6e7d2ff"
      },
      "source": [
        "!pip install earthpy"
      ],
      "execution_count": 518,
      "outputs": [
        {
          "output_type": "stream",
          "text": [
            "Requirement already satisfied: earthpy in /usr/local/lib/python3.7/dist-packages (0.9.2)\n",
            "Requirement already satisfied: rasterio in /usr/local/lib/python3.7/dist-packages (from earthpy) (1.2.3)\n",
            "Requirement already satisfied: numpy>=1.14.0 in /usr/local/lib/python3.7/dist-packages (from earthpy) (1.19.5)\n",
            "Requirement already satisfied: requests in /usr/local/lib/python3.7/dist-packages (from earthpy) (2.23.0)\n",
            "Requirement already satisfied: matplotlib>=2.0.0 in /usr/local/lib/python3.7/dist-packages (from earthpy) (3.2.2)\n",
            "Requirement already satisfied: scikit-image in /usr/local/lib/python3.7/dist-packages (from earthpy) (0.16.2)\n",
            "Requirement already satisfied: geopandas in /usr/local/lib/python3.7/dist-packages (from earthpy) (0.9.0)\n",
            "Requirement already satisfied: click<8,>=4.0 in /usr/local/lib/python3.7/dist-packages (from rasterio->earthpy) (7.1.2)\n",
            "Requirement already satisfied: cligj>=0.5 in /usr/local/lib/python3.7/dist-packages (from rasterio->earthpy) (0.7.2)\n",
            "Requirement already satisfied: click-plugins in /usr/local/lib/python3.7/dist-packages (from rasterio->earthpy) (1.1.1)\n",
            "Requirement already satisfied: certifi in /usr/local/lib/python3.7/dist-packages (from rasterio->earthpy) (2020.12.5)\n",
            "Requirement already satisfied: affine in /usr/local/lib/python3.7/dist-packages (from rasterio->earthpy) (2.3.0)\n",
            "Requirement already satisfied: attrs in /usr/local/lib/python3.7/dist-packages (from rasterio->earthpy) (21.2.0)\n",
            "Requirement already satisfied: snuggs>=1.4.1 in /usr/local/lib/python3.7/dist-packages (from rasterio->earthpy) (1.4.7)\n",
            "Requirement already satisfied: idna<3,>=2.5 in /usr/local/lib/python3.7/dist-packages (from requests->earthpy) (2.10)\n",
            "Requirement already satisfied: chardet<4,>=3.0.2 in /usr/local/lib/python3.7/dist-packages (from requests->earthpy) (3.0.4)\n",
            "Requirement already satisfied: urllib3!=1.25.0,!=1.25.1,<1.26,>=1.21.1 in /usr/local/lib/python3.7/dist-packages (from requests->earthpy) (1.24.3)\n",
            "Requirement already satisfied: python-dateutil>=2.1 in /usr/local/lib/python3.7/dist-packages (from matplotlib>=2.0.0->earthpy) (2.8.1)\n",
            "Requirement already satisfied: cycler>=0.10 in /usr/local/lib/python3.7/dist-packages (from matplotlib>=2.0.0->earthpy) (0.10.0)\n",
            "Requirement already satisfied: pyparsing!=2.0.4,!=2.1.2,!=2.1.6,>=2.0.1 in /usr/local/lib/python3.7/dist-packages (from matplotlib>=2.0.0->earthpy) (2.4.7)\n",
            "Requirement already satisfied: kiwisolver>=1.0.1 in /usr/local/lib/python3.7/dist-packages (from matplotlib>=2.0.0->earthpy) (1.3.1)\n",
            "Requirement already satisfied: scipy>=0.19.0 in /usr/local/lib/python3.7/dist-packages (from scikit-image->earthpy) (1.4.1)\n",
            "Requirement already satisfied: PyWavelets>=0.4.0 in /usr/local/lib/python3.7/dist-packages (from scikit-image->earthpy) (1.1.1)\n",
            "Requirement already satisfied: imageio>=2.3.0 in /usr/local/lib/python3.7/dist-packages (from scikit-image->earthpy) (2.4.1)\n",
            "Requirement already satisfied: pillow>=4.3.0 in /usr/local/lib/python3.7/dist-packages (from scikit-image->earthpy) (7.1.2)\n",
            "Requirement already satisfied: networkx>=2.0 in /usr/local/lib/python3.7/dist-packages (from scikit-image->earthpy) (2.5.1)\n",
            "Requirement already satisfied: fiona>=1.8 in /usr/local/lib/python3.7/dist-packages (from geopandas->earthpy) (1.8.19)\n",
            "Requirement already satisfied: pyproj>=2.2.0 in /usr/local/lib/python3.7/dist-packages (from geopandas->earthpy) (3.1.0)\n",
            "Requirement already satisfied: pandas>=0.24.0 in /usr/local/lib/python3.7/dist-packages (from geopandas->earthpy) (1.1.5)\n",
            "Requirement already satisfied: shapely>=1.6 in /usr/local/lib/python3.7/dist-packages (from geopandas->earthpy) (1.7.1)\n",
            "Requirement already satisfied: six>=1.5 in /usr/local/lib/python3.7/dist-packages (from python-dateutil>=2.1->matplotlib>=2.0.0->earthpy) (1.15.0)\n",
            "Requirement already satisfied: decorator<5,>=4.3 in /usr/local/lib/python3.7/dist-packages (from networkx>=2.0->scikit-image->earthpy) (4.4.2)\n",
            "Requirement already satisfied: munch in /usr/local/lib/python3.7/dist-packages (from fiona>=1.8->geopandas->earthpy) (2.5.0)\n",
            "Requirement already satisfied: pytz>=2017.2 in /usr/local/lib/python3.7/dist-packages (from pandas>=0.24.0->geopandas->earthpy) (2018.9)\n"
          ],
          "name": "stdout"
        }
      ]
    },
    {
      "cell_type": "code",
      "metadata": {
        "colab": {
          "base_uri": "https://localhost:8080/",
          "height": 694
        },
        "id": "44JG9p9MiIeN",
        "outputId": "d539dc30-4702-45e1-95cc-85696d83bb67"
      },
      "source": [
        "import earthpy as et\n",
        "import earthpy.spatial as es\n",
        "import earthpy.plot as ep\n",
        "ep.plot_bands(data,\n",
        "              title=\"Bigearthnet Band 1 Raster\")\n",
        "plt.show()"
      ],
      "execution_count": 519,
      "outputs": [
        {
          "output_type": "display_data",
          "data": {
            "image/png": "[encoded data removed]",
            "text/plain": [
              "<Figure size 864x864 with 2 Axes>"
            ]
          },
          "metadata": {
            "tags": [],
            "needs_background": "light"
          }
        }
      ]
    },
    {
      "cell_type": "code",
      "metadata": {
        "colab": {
          "base_uri": "https://localhost:8080/"
        },
        "id": "DAEubdVX3m2h",
        "outputId": "19eba185-3e95-4b1c-8d7f-7422a3bd47fd"
      },
      "source": [
        "#https://earthpy.readthedocs.io/en/latest/gallery_vignettes/plot_bands_functionality.html\n",
        "#Stack all bands of BigEarthNet Data sample one band tiff images\n",
        "import glob\n",
        "files = glob.glob(os.path.join('/content/drive/MyDrive/Big/S2A_MSIL2A_20170613T101031_0_55/S2A_MSIL2A_20170613T101031_0_55_B*.tif'))\n",
        "files.sort()\n",
        "print(\"Number of Bands\",len(files))\n",
        "print(files)\n",
        "print(files[0])   # Band1\n",
        "print(files[1])   # Band2\n",
        "print(files[10])  # Band12\n",
        "#array_stack, meta_data = es.stack(path, nodata=-9999)\n"
      ],
      "execution_count": 520,
      "outputs": [
        {
          "output_type": "stream",
          "text": [
            "Number of Bands 12\n",
            "['/content/drive/MyDrive/Big/S2A_MSIL2A_20170613T101031_0_55/S2A_MSIL2A_20170613T101031_0_55_B01.tif', '/content/drive/MyDrive/Big/S2A_MSIL2A_20170613T101031_0_55/S2A_MSIL2A_20170613T101031_0_55_B02.tif', '/content/drive/MyDrive/Big/S2A_MSIL2A_20170613T101031_0_55/S2A_MSIL2A_20170613T101031_0_55_B03.tif', '/content/drive/MyDrive/Big/S2A_MSIL2A_20170613T101031_0_55/S2A_MSIL2A_20170613T101031_0_55_B04.tif', '/content/drive/MyDrive/Big/S2A_MSIL2A_20170613T101031_0_55/S2A_MSIL2A_20170613T101031_0_55_B05.tif', '/content/drive/MyDrive/Big/S2A_MSIL2A_20170613T101031_0_55/S2A_MSIL2A_20170613T101031_0_55_B06.tif', '/content/drive/MyDrive/Big/S2A_MSIL2A_20170613T101031_0_55/S2A_MSIL2A_20170613T101031_0_55_B07.tif', '/content/drive/MyDrive/Big/S2A_MSIL2A_20170613T101031_0_55/S2A_MSIL2A_20170613T101031_0_55_B08.tif', '/content/drive/MyDrive/Big/S2A_MSIL2A_20170613T101031_0_55/S2A_MSIL2A_20170613T101031_0_55_B09.tif', '/content/drive/MyDrive/Big/S2A_MSIL2A_20170613T101031_0_55/S2A_MSIL2A_20170613T101031_0_55_B11.tif', '/content/drive/MyDrive/Big/S2A_MSIL2A_20170613T101031_0_55/S2A_MSIL2A_20170613T101031_0_55_B12.tif', '/content/drive/MyDrive/Big/S2A_MSIL2A_20170613T101031_0_55/S2A_MSIL2A_20170613T101031_0_55_B8A.tif']\n",
            "/content/drive/MyDrive/Big/S2A_MSIL2A_20170613T101031_0_55/S2A_MSIL2A_20170613T101031_0_55_B01.tif\n",
            "/content/drive/MyDrive/Big/S2A_MSIL2A_20170613T101031_0_55/S2A_MSIL2A_20170613T101031_0_55_B02.tif\n",
            "/content/drive/MyDrive/Big/S2A_MSIL2A_20170613T101031_0_55/S2A_MSIL2A_20170613T101031_0_55_B12.tif\n"
          ],
          "name": "stdout"
        }
      ]
    },
    {
      "cell_type": "markdown",
      "metadata": {
        "id": "PmTEEoT3UmRB"
      },
      "source": [
        "# New Section"
      ]
    },
    {
      "cell_type": "code",
      "metadata": {
        "colab": {
          "base_uri": "https://localhost:8080/",
          "height": 1000
        },
        "id": "WkrX5HEo4DIo",
        "outputId": "190de01e-7b8e-4196-8850-6ea35785bb6b"
      },
      "source": [
        "print(files[0])\n",
        "band1= rxr.open_rasterio(files[0])\n",
        "ep.plot_bands(band1,\n",
        "              title=\"Bigearthnet Band 1 Raster\")\n",
        "plt.show()\n",
        "print(\"The CRS of this data is:\", band1.rio.crs)\n",
        "#Converting EPSG to Proj4 in Python\n",
        "# Convert to project string using earthpy\n",
        "proj4 = et.epsg['32634']\n",
        "print(proj4)\n",
        "#Spatial Extent\n",
        "#You can access the spatial extent using the .bounds() attribute in rasterio.\n",
        "print(band1.rio.bounds())\n",
        "#Raster Resolution: area covered by 1 pixel on ground e.g 60m * 60m\n",
        "# What is the x and y resolution for your raster data?\n",
        "print(band1.rio.resolution())\n",
        "print(\"The nodatavalue of your data is:\", band1.rio.nodata)\n",
        "# How many bands / layers does the object have?\n",
        "print(\"Number of bands\", band1.rio.count)\n",
        "print(\"The shape of your data is:\", band1.shape)\n",
        "print('min value:', np.nanmin(band1))\n",
        "print('max value:', np.nanmax(band1))\n",
        "import matplotlib.pyplot as plt\n",
        "f, ax = plt.subplots()\n",
        "band1.plot.hist(color=\"purple\")\n",
        "ax.set(title=\"Distribution of Raster Cell Values  Band 1 Data\",\n",
        "       xlabel=\"\",\n",
        "       ylabel=\"Number of Pixels\")\n",
        "plt.show()"
      ],
      "execution_count": 521,
      "outputs": [
        {
          "output_type": "stream",
          "text": [
            "/content/drive/MyDrive/Big/S2A_MSIL2A_20170613T101031_0_55/S2A_MSIL2A_20170613T101031_0_55_B01.tif\n"
          ],
          "name": "stdout"
        },
        {
          "output_type": "display_data",
          "data": {
            "image/png": "[encoded data removed]",
            "text/plain": [
              "<Figure size 864x864 with 2 Axes>"
            ]
          },
          "metadata": {
            "tags": [],
            "needs_background": "light"
          }
        },
        {
          "output_type": "stream",
          "text": [
            "The CRS of this data is: EPSG:32634\n",
            "+proj=utm +zone=34 +datum=WGS84 +units=m +no_defs\n",
            "(499980.0, 7032840.0, 501180.0, 7034040.0)\n",
            "(60.0, -60.0)\n",
            "The nodatavalue of your data is: None\n",
            "Number of bands 1\n",
            "The shape of your data is: (1, 20, 20)\n",
            "min value: 267\n",
            "max value: 456\n"
          ],
          "name": "stdout"
        },
        {
          "output_type": "display_data",
          "data": {
            "image/png": "[encoded data removed]",
            "text/plain": [
              "<Figure size 432x288 with 1 Axes>"
            ]
          },
          "metadata": {
            "tags": [],
            "needs_background": "light"
          }
        }
      ]
    },
    {
      "cell_type": "code",
      "metadata": {
        "colab": {
          "base_uri": "https://localhost:8080/",
          "height": 1000
        },
        "id": "fQ40s3f2-tCq",
        "outputId": "1f028a32-6a48-4dd0-f9f7-cb1a66b1b2e0"
      },
      "source": [
        "print(files[1])\n",
        "band2= rxr.open_rasterio(files[1])\n",
        "ep.plot_bands(band2,\n",
        "              title=\"Bigearthnet Band 2 Raster\")\n",
        "plt.show()\n",
        "print(\"The CRS of this data is:\", band2.rio.crs)\n",
        "#Converting EPSG to Proj4 in Python\n",
        "# Convert to project string using earthpy\n",
        "proj4 = et.epsg['32634']\n",
        "print(proj4)\n",
        "#Spatial Extent\n",
        "#You can access the spatial extent using the .bounds() attribute in rasterio.\n",
        "print(band2.rio.bounds())\n",
        "#Raster Resolution: area covered by 1 pixel on ground e.g 60m * 60m\n",
        "# What is the x and y resolution for your raster data?\n",
        "print(band2.rio.resolution())\n",
        "print(\"The nodatavalue of your data is:\", band2.rio.nodata)\n",
        "# How many bands / layers does the object have?\n",
        "print(\"Number of bands\", band2.rio.count)\n",
        "print(\"The shape of your data is:\", band2.shape)\n",
        "print('min value:', np.nanmin(band2))\n",
        "print('max value:', np.nanmax(band2))\n",
        "import matplotlib.pyplot as plt\n",
        "f, ax = plt.subplots()\n",
        "band1.plot.hist(color=\"purple\")\n",
        "ax.set(title=\"Distribution of Raster Cell Values  Band 2 Data\",\n",
        "       xlabel=\"\",\n",
        "       ylabel=\"Number of Pixels\")\n",
        "plt.show()"
      ],
      "execution_count": 522,
      "outputs": [
        {
          "output_type": "stream",
          "text": [
            "/content/drive/MyDrive/Big/S2A_MSIL2A_20170613T101031_0_55/S2A_MSIL2A_20170613T101031_0_55_B02.tif\n"
          ],
          "name": "stdout"
        },
        {
          "output_type": "display_data",
          "data": {
            "image/png": "[encoded data removed]",
            "text/plain": [
              "<Figure size 864x864 with 2 Axes>"
            ]
          },
          "metadata": {
            "tags": [],
            "needs_background": "light"
          }
        },
        {
          "output_type": "stream",
          "text": [
            "The CRS of this data is: EPSG:32634\n",
            "+proj=utm +zone=34 +datum=WGS84 +units=m +no_defs\n",
            "(499980.0, 7032840.0, 501180.0, 7034040.0)\n",
            "(10.0, -10.0)\n",
            "The nodatavalue of your data is: None\n",
            "Number of bands 1\n",
            "The shape of your data is: (1, 120, 120)\n",
            "min value: 123\n",
            "max value: 1215\n"
          ],
          "name": "stdout"
        },
        {
          "output_type": "display_data",
          "data": {
            "image/png": "[encoded data removed]",
            "text/plain": [
              "<Figure size 432x288 with 1 Axes>"
            ]
          },
          "metadata": {
            "tags": [],
            "needs_background": "light"
          }
        }
      ]
    },
    {
      "cell_type": "code",
      "metadata": {
        "id": "00WUpwpnj-F_"
      },
      "source": [
        "#https://rasterio.readthedocs.io/en/latest/api/rasterio.plot.html\n",
        "#rasterio.plot.reshape_as_image(arr)\n",
        "#Returns the source array reshaped into the order expected by image processing and visualization software (matplotlib, scikit-image, etc) by swapping the axes order from (bands, rows, columns) to (rows, columns, bands)\n"
      ],
      "execution_count": 523,
      "outputs": []
    },
    {
      "cell_type": "code",
      "metadata": {
        "colab": {
          "base_uri": "https://localhost:8080/"
        },
        "id": "LhQc3X5EqTty",
        "outputId": "91e1661f-1d23-41d9-ca73-610eacea34fe"
      },
      "source": [
        "print('min value:', np.nanmin(data))\n",
        "print('max value:', np.nanmax(data))"
      ],
      "execution_count": 524,
      "outputs": [
        {
          "output_type": "stream",
          "text": [
            "min value: 267\n",
            "max value: 456\n"
          ],
          "name": "stdout"
        }
      ]
    },
    {
      "cell_type": "code",
      "metadata": {
        "colab": {
          "base_uri": "https://localhost:8080/",
          "height": 281
        },
        "id": "NMJzy80Kq2bz",
        "outputId": "98f75807-dd68-4ce7-8edc-f597e2540c45"
      },
      "source": [
        "#https://www.earthdatascience.org/courses/use-data-open-source-python/intro-raster-data-python/raster-data-processing/classify-plot-raster-data-in-python/\n",
        "import matplotlib.pyplot as plt\n",
        "f, ax = plt.subplots()\n",
        "data.plot.hist(color=\"purple\")\n",
        "ax.set(title=\"Distribution of Raster Cell Values  Data\",\n",
        "       xlabel=\"\",\n",
        "       ylabel=\"Number of Pixels\")\n",
        "plt.show()"
      ],
      "execution_count": 525,
      "outputs": [
        {
          "output_type": "display_data",
          "data": {
            "image/png": "[encoded data removed]",
            "text/plain": [
              "<Figure size 432x288 with 1 Axes>"
            ]
          },
          "metadata": {
            "tags": [],
            "needs_background": "light"
          }
        }
      ]
    },
    {
      "cell_type": "code",
      "metadata": {
        "id": "U8lkgRy6rIxq"
      },
      "source": [
        "bins=[0, 100, 200, 250, 275, 300,350]"
      ],
      "execution_count": 526,
      "outputs": []
    },
    {
      "cell_type": "code",
      "metadata": {
        "colab": {
          "base_uri": "https://localhost:8080/",
          "height": 281
        },
        "id": "d6NsYNZprsmU",
        "outputId": "a2410bb8-9315-4d73-9983-1b80a83a1bd7"
      },
      "source": [
        "f, ax = plt.subplots()\n",
        "data.plot.hist(color=\"purple\",bins=[0, 100, 200, 250, 275, 300,350])\n",
        "ax.set(title=\"Distribution of Raster Cell Values  Data\",\n",
        "       xlabel=\"\",\n",
        "       ylabel=\"Number of Pixels\")\n",
        "plt.show()"
      ],
      "execution_count": 527,
      "outputs": [
        {
          "output_type": "display_data",
          "data": {
            "image/png": "[encoded data removed]",
            "text/plain": [
              "<Figure size 432x288 with 1 Axes>"
            ]
          },
          "metadata": {
            "tags": [],
            "needs_background": "light"
          }
        }
      ]
    },
    {
      "cell_type": "code",
      "metadata": {
        "id": "27wN_Z67swYe"
      },
      "source": [
        "class_bins = [-np.inf,250,275,300,350,+np.inf]\n"
      ],
      "execution_count": 528,
      "outputs": []
    },
    {
      "cell_type": "code",
      "metadata": {
        "colab": {
          "base_uri": "https://localhost:8080/"
        },
        "id": "4iYu_HuQtJaP",
        "outputId": "33ab1d36-7297-467e-f081-cb200855d377"
      },
      "source": [
        "import xarray as xr\n",
        "data_class = xr.apply_ufunc(np.digitize,\n",
        "                                     data,\n",
        "                                     class_bins)\n",
        "print(data_class.shape)\n",
        "#data_class = np.array(data_class[0])"
      ],
      "execution_count": 529,
      "outputs": [
        {
          "output_type": "stream",
          "text": [
            "(1, 20, 20)\n"
          ],
          "name": "stdout"
        }
      ]
    },
    {
      "cell_type": "code",
      "metadata": {
        "colab": {
          "base_uri": "https://localhost:8080/",
          "height": 281
        },
        "id": "x7WA9bGPtd3P",
        "outputId": "062daa6d-1029-43ce-ff6c-5363bdb424fe"
      },
      "source": [
        "import matplotlib.pyplot as plt\n",
        "f, ax = plt.subplots()\n",
        "data_class.plot.hist(color=\"purple\")\n",
        "ax.set(title=\"Distribution of Raster Cell Values  Data\",\n",
        "       xlabel=\"\",\n",
        "       ylabel=\"Number of Pixels\")\n",
        "plt.show()"
      ],
      "execution_count": 530,
      "outputs": [
        {
          "output_type": "display_data",
          "data": {
            "image/png": "[encoded data removed]",
            "text/plain": [
              "<Figure size 432x288 with 1 Axes>"
            ]
          },
          "metadata": {
            "tags": [],
            "needs_background": "light"
          }
        }
      ]
    },
    {
      "cell_type": "code",
      "metadata": {
        "id": "ktHnAh-H5VGS"
      },
      "source": [
        "#https://www.spatialreference.org/ref/epsg/32634/\n",
        "#/*EPSG:32634\n",
        "\n",
        "#WGS 84 / UTM zone 34N (Google it)\n",
        "\n",
        "#WGS84 Bounds: 18.0000, 0.0000, 24.0000, 84.0000\n",
        "#Projected Bounds: 166021.4431, 0.0000, 833978.5569, 9329005.1825\n",
        "#Scope: Large and medium scale topographic mapping and engineering survey.\n",
        "#Last Revised: June 2, 1995\n",
        "#Area: World - N hemisphere - 18°E to 24°E - by country*/\n",
        "\n",
        "#Proj4js.defs[\"EPSG:32634\"] = \"+proj=utm +zone=34 +ellps=WGS84 +datum=WGS84 +units=m +no_defs\";"
      ],
      "execution_count": 531,
      "outputs": []
    },
    {
      "cell_type": "code",
      "metadata": {
        "id": "lmOrNHfQ3Q3k",
        "colab": {
          "base_uri": "https://localhost:8080/",
          "height": 1000
        },
        "outputId": "0540370d-1d8b-4973-8558-0f7584fa9752"
      },
      "source": [
        "print(files[10])\n",
        "band12= rxr.open_rasterio(files[10])\n",
        "ep.plot_bands(band12,\n",
        "              title=\"Bigearthnet Band 12 Raster\")\n",
        "plt.show()\n",
        "print(\"The CRS of this data is:\", band12.rio.crs)\n",
        "#Converting EPSG to Proj4 in Python\n",
        "# Convert to project string using earthpy\n",
        "proj4 = et.epsg['32634']\n",
        "print(proj4)\n",
        "#Spatial Extent\n",
        "#You can access the spatial extent using the .bounds() attribute in rasterio.\n",
        "print(band12.rio.bounds())\n",
        "#Raster Resolution: area covered by 1 pixel on ground e.g 60m * 60m\n",
        "# What is the x and y resolution for your raster data?\n",
        "print(band12.rio.resolution())\n",
        "print(\"The nodatavalue of your data is:\", band12.rio.nodata)\n",
        "# How many bands / layers does the object have?\n",
        "print(\"Number of bands\", band12.rio.count)\n",
        "print(\"The shape of your data is:\", band12.shape)\n",
        "print('min value:', np.nanmin(band12))\n",
        "print('max value:', np.nanmax(band12))\n",
        "import matplotlib.pyplot as plt\n",
        "f, ax = plt.subplots()\n",
        "band1.plot.hist(color=\"purple\")\n",
        "ax.set(title=\"Distribution of Raster Cell Values  Band 12 Data\",\n",
        "       xlabel=\"\",\n",
        "       ylabel=\"Number of Pixels\")\n",
        "plt.show()"
      ],
      "execution_count": 532,
      "outputs": [
        {
          "output_type": "stream",
          "text": [
            "/content/drive/MyDrive/Big/S2A_MSIL2A_20170613T101031_0_55/S2A_MSIL2A_20170613T101031_0_55_B12.tif\n"
          ],
          "name": "stdout"
        },
        {
          "output_type": "display_data",
          "data": {
            "image/png": "[encoded data removed]",
            "text/plain": [
              "<Figure size 864x864 with 2 Axes>"
            ]
          },
          "metadata": {
            "tags": [],
            "needs_background": "light"
          }
        },
        {
          "output_type": "stream",
          "text": [
            "The CRS of this data is: EPSG:32634\n",
            "+proj=utm +zone=34 +datum=WGS84 +units=m +no_defs\n",
            "(499980.0, 7032840.0, 501180.0, 7034040.0)\n",
            "(20.0, -20.0)\n",
            "The nodatavalue of your data is: None\n",
            "Number of bands 1\n",
            "The shape of your data is: (1, 60, 60)\n",
            "min value: 92\n",
            "max value: 149\n"
          ],
          "name": "stdout"
        },
        {
          "output_type": "display_data",
          "data": {
            "image/png": "[encoded data removed]",
            "text/plain": [
              "<Figure size 432x288 with 1 Axes>"
            ]
          },
          "metadata": {
            "tags": [],
            "needs_background": "light"
          }
        }
      ]
    },
    {
      "cell_type": "markdown",
      "metadata": {
        "id": "WY886egdVz3_"
      },
      "source": [
        "## New Section : Making Dataframe for min/max values of each bands of 1,2 and 12"
      ]
    },
    {
      "cell_type": "code",
      "metadata": {
        "colab": {
          "base_uri": "https://localhost:8080/",
          "height": 49
        },
        "id": "Wc1HYAw7U4dm",
        "outputId": "d85bae11-2b23-44fb-b27d-82dab40fc1d7"
      },
      "source": [
        "import pandas as pd\n",
        "df = pd.DataFrame(columns= ['filename','min','max'])\n",
        "df.head()"
      ],
      "execution_count": 533,
      "outputs": [
        {
          "output_type": "execute_result",
          "data": {
            "text/html": [
              "<div>\n",
              "<style scoped>\n",
              "    .dataframe tbody tr th:only-of-type {\n",
              "        vertical-align: middle;\n",
              "    }\n",
              "\n",
              "    .dataframe tbody tr th {\n",
              "        vertical-align: top;\n",
              "    }\n",
              "\n",
              "    .dataframe thead th {\n",
              "        text-align: right;\n",
              "    }\n",
              "</style>\n",
              "<table border=\"1\" class=\"dataframe\">\n",
              "  <thead>\n",
              "    <tr style=\"text-align: right;\">\n",
              "      <th></th>\n",
              "      <th>filename</th>\n",
              "      <th>min</th>\n",
              "      <th>max</th>\n",
              "    </tr>\n",
              "  </thead>\n",
              "  <tbody>\n",
              "  </tbody>\n",
              "</table>\n",
              "</div>"
            ],
            "text/plain": [
              "Empty DataFrame\n",
              "Columns: [filename, min, max]\n",
              "Index: []"
            ]
          },
          "metadata": {
            "tags": []
          },
          "execution_count": 533
        }
      ]
    },
    {
      "cell_type": "code",
      "metadata": {
        "colab": {
          "base_uri": "https://localhost:8080/"
        },
        "id": "B9QN9_5zXvZ1",
        "outputId": "135c87d2-9e9d-4fd3-92f9-9ff12f6942f2"
      },
      "source": [
        "import glob\n",
        "import os\n",
        "files_batch=[]  #batch of same bands \n",
        "min=[]\n",
        "max=[]\n",
        "mean_min =[]\n",
        "mean_max =[]\n",
        "path = '/content/drive/MyDrive/Big'\n",
        "os.chdir(path)\n",
        "dirs = os.listdir()\n",
        "dirs.sort()\n",
        "print(dirs)\n",
        "print(len(dirs))\n",
        "#remove last element of list\n",
        "del dirs[0]\n",
        "print(dirs)\n",
        "print(len(dirs))\n",
        "step_size = len(dirs)"
      ],
      "execution_count": 534,
      "outputs": [
        {
          "output_type": "stream",
          "text": [
            "['.ipynb_checkpoints', 'S2A_MSIL2A_20170613T101031_0_55', 'S2A_MSIL2A_20170613T101031_0_59', 'S2A_MSIL2A_20170613T101031_0_63', 'S2A_MSIL2A_20170613T101031_0_70', 'S2A_MSIL2A_20170613T101031_0_79', 'S2A_MSIL2A_20170613T101031_0_88']\n",
            "7\n",
            "['S2A_MSIL2A_20170613T101031_0_55', 'S2A_MSIL2A_20170613T101031_0_59', 'S2A_MSIL2A_20170613T101031_0_63', 'S2A_MSIL2A_20170613T101031_0_70', 'S2A_MSIL2A_20170613T101031_0_79', 'S2A_MSIL2A_20170613T101031_0_88']\n",
            "6\n"
          ],
          "name": "stdout"
        }
      ]
    },
    {
      "cell_type": "code",
      "metadata": {
        "colab": {
          "base_uri": "https://localhost:8080/"
        },
        "id": "kHoUgpZHZy_a",
        "outputId": "98d3eaaf-c1a8-4146-bb0c-c2d3c2f30f2e"
      },
      "source": [
        "# Add batch of band1 tif files to files list\n",
        "path = '/content/drive/MyDrive/Big'\n",
        "\n",
        "for i in dirs:\n",
        "  s = \"\"\n",
        "  s = s + path + '/' + str(i) +  '/' +'*01.tif'\n",
        "  print(s)\n",
        "  temp = (glob.glob(os.path.join(s)))\n",
        "  files_batch.append(temp[0])\n"
      ],
      "execution_count": 535,
      "outputs": [
        {
          "output_type": "stream",
          "text": [
            "/content/drive/MyDrive/Big/S2A_MSIL2A_20170613T101031_0_55/*01.tif\n",
            "/content/drive/MyDrive/Big/S2A_MSIL2A_20170613T101031_0_59/*01.tif\n",
            "/content/drive/MyDrive/Big/S2A_MSIL2A_20170613T101031_0_63/*01.tif\n",
            "/content/drive/MyDrive/Big/S2A_MSIL2A_20170613T101031_0_70/*01.tif\n",
            "/content/drive/MyDrive/Big/S2A_MSIL2A_20170613T101031_0_79/*01.tif\n",
            "/content/drive/MyDrive/Big/S2A_MSIL2A_20170613T101031_0_88/*01.tif\n"
          ],
          "name": "stdout"
        }
      ]
    },
    {
      "cell_type": "code",
      "metadata": {
        "colab": {
          "base_uri": "https://localhost:8080/"
        },
        "id": "95X_U70lhSQn",
        "outputId": "b4e6caec-01fc-4661-e2c7-10eef8d8c734"
      },
      "source": [
        "# Fetch Filenames of band 1\n",
        "\n",
        "print(files_batch,files_batch[0],len(files_batch)) #Batch of Band 1 files"
      ],
      "execution_count": 536,
      "outputs": [
        {
          "output_type": "stream",
          "text": [
            "['/content/drive/MyDrive/Big/S2A_MSIL2A_20170613T101031_0_55/S2A_MSIL2A_20170613T101031_0_55_B01.tif', '/content/drive/MyDrive/Big/S2A_MSIL2A_20170613T101031_0_59/S2A_MSIL2A_20170613T101031_0_59_B01.tif', '/content/drive/MyDrive/Big/S2A_MSIL2A_20170613T101031_0_63/S2A_MSIL2A_20170613T101031_0_63_B01.tif', '/content/drive/MyDrive/Big/S2A_MSIL2A_20170613T101031_0_70/S2A_MSIL2A_20170613T101031_0_70_B01.tif', '/content/drive/MyDrive/Big/S2A_MSIL2A_20170613T101031_0_79/S2A_MSIL2A_20170613T101031_0_79_B01.tif', '/content/drive/MyDrive/Big/S2A_MSIL2A_20170613T101031_0_88/S2A_MSIL2A_20170613T101031_0_88_B01.tif'] /content/drive/MyDrive/Big/S2A_MSIL2A_20170613T101031_0_55/S2A_MSIL2A_20170613T101031_0_55_B01.tif 6\n"
          ],
          "name": "stdout"
        }
      ]
    },
    {
      "cell_type": "code",
      "metadata": {
        "colab": {
          "base_uri": "https://localhost:8080/"
        },
        "id": "iIClcTSGgkTf",
        "outputId": "684ba736-c7db-4cb1-f3e1-c317a6b6c952"
      },
      "source": [
        "# Add min/max values of band 1 to min/max list\n",
        "\n",
        "for i in range(0,step_size):\n",
        "  band1= rxr.open_rasterio(files_batch[i])\n",
        "  min.append(np.nanmin(band1))\n",
        "  max.append(np.nanmax(band1))\n",
        "print(min)\n",
        "print(max)\n",
        "mean_min.append(np.mean(min))\n",
        "mean_max.append(np.mean(max))\n",
        "#df['B1_min'] = min\n",
        "#df['B1_max'] = max\n",
        "#print(df)"
      ],
      "execution_count": 537,
      "outputs": [
        {
          "output_type": "stream",
          "text": [
            "[267, 272, 294, 280, 245, 276]\n",
            "[456, 308, 655, 327, 302, 328]\n"
          ],
          "name": "stdout"
        }
      ]
    },
    {
      "cell_type": "code",
      "metadata": {
        "colab": {
          "base_uri": "https://localhost:8080/"
        },
        "id": "U6q4j8GXwgTp",
        "outputId": "4f489d2f-2426-436c-a66f-2e5d692d7608"
      },
      "source": [
        "# Add batch of band2 tif files to files list\n",
        "path = '/content/drive/MyDrive/Big'\n",
        "\n",
        "for i in dirs:\n",
        "  s = \"\"\n",
        "  s = s + path + '/' + str(i) +  '/' +'*02.tif'\n",
        "  print(s)\n",
        "  temp = (glob.glob(os.path.join(s)))\n",
        "  files_batch.append(temp[0])\n",
        "print(files_batch)\n",
        "print(files_batch[len(files_batch)-1], len(files_batch))\n"
      ],
      "execution_count": 538,
      "outputs": [
        {
          "output_type": "stream",
          "text": [
            "/content/drive/MyDrive/Big/S2A_MSIL2A_20170613T101031_0_55/*02.tif\n",
            "/content/drive/MyDrive/Big/S2A_MSIL2A_20170613T101031_0_59/*02.tif\n",
            "/content/drive/MyDrive/Big/S2A_MSIL2A_20170613T101031_0_63/*02.tif\n",
            "/content/drive/MyDrive/Big/S2A_MSIL2A_20170613T101031_0_70/*02.tif\n",
            "/content/drive/MyDrive/Big/S2A_MSIL2A_20170613T101031_0_79/*02.tif\n",
            "/content/drive/MyDrive/Big/S2A_MSIL2A_20170613T101031_0_88/*02.tif\n",
            "['/content/drive/MyDrive/Big/S2A_MSIL2A_20170613T101031_0_55/S2A_MSIL2A_20170613T101031_0_55_B01.tif', '/content/drive/MyDrive/Big/S2A_MSIL2A_20170613T101031_0_59/S2A_MSIL2A_20170613T101031_0_59_B01.tif', '/content/drive/MyDrive/Big/S2A_MSIL2A_20170613T101031_0_63/S2A_MSIL2A_20170613T101031_0_63_B01.tif', '/content/drive/MyDrive/Big/S2A_MSIL2A_20170613T101031_0_70/S2A_MSIL2A_20170613T101031_0_70_B01.tif', '/content/drive/MyDrive/Big/S2A_MSIL2A_20170613T101031_0_79/S2A_MSIL2A_20170613T101031_0_79_B01.tif', '/content/drive/MyDrive/Big/S2A_MSIL2A_20170613T101031_0_88/S2A_MSIL2A_20170613T101031_0_88_B01.tif', '/content/drive/MyDrive/Big/S2A_MSIL2A_20170613T101031_0_55/S2A_MSIL2A_20170613T101031_0_55_B02.tif', '/content/drive/MyDrive/Big/S2A_MSIL2A_20170613T101031_0_59/S2A_MSIL2A_20170613T101031_0_59_B02.tif', '/content/drive/MyDrive/Big/S2A_MSIL2A_20170613T101031_0_63/S2A_MSIL2A_20170613T101031_0_63_B02.tif', '/content/drive/MyDrive/Big/S2A_MSIL2A_20170613T101031_0_70/S2A_MSIL2A_20170613T101031_0_70_B02.tif', '/content/drive/MyDrive/Big/S2A_MSIL2A_20170613T101031_0_79/S2A_MSIL2A_20170613T101031_0_79_B02.tif', '/content/drive/MyDrive/Big/S2A_MSIL2A_20170613T101031_0_88/S2A_MSIL2A_20170613T101031_0_88_B02.tif']\n",
            "/content/drive/MyDrive/Big/S2A_MSIL2A_20170613T101031_0_88/S2A_MSIL2A_20170613T101031_0_88_B02.tif 12\n"
          ],
          "name": "stdout"
        }
      ]
    },
    {
      "cell_type": "code",
      "metadata": {
        "colab": {
          "base_uri": "https://localhost:8080/"
        },
        "id": "AKsL8UROz8Gu",
        "outputId": "2ca7f6a2-04b4-4b26-cd2b-84b093804a81"
      },
      "source": [
        "# Add min/max values of band 2 to min/max list\n",
        "\n",
        "for i in range(step_size,2*step_size):\n",
        "  band2= rxr.open_rasterio(files_batch[i])\n",
        "  min.append(np.nanmin(band2))\n",
        "  max.append(np.nanmax(band2))\n",
        "print(min)\n",
        "print(max)\n",
        "mean_min.append(np.mean(min))\n",
        "mean_max.append(np.mean(max))"
      ],
      "execution_count": 539,
      "outputs": [
        {
          "output_type": "stream",
          "text": [
            "[267, 272, 294, 280, 245, 276, 123, 156, 198, 164, 139, 202]\n",
            "[456, 308, 655, 327, 302, 328, 1215, 367, 985, 567, 515, 456]\n"
          ],
          "name": "stdout"
        }
      ]
    },
    {
      "cell_type": "code",
      "metadata": {
        "colab": {
          "base_uri": "https://localhost:8080/"
        },
        "id": "X2Ew_dmj35y8",
        "outputId": "6e9929c5-e00d-4962-f952-04100cc9eb40"
      },
      "source": [
        "# Add batch of band 12 tif files to files list\n",
        "path = '/content/drive/MyDrive/Big'\n",
        "\n",
        "for i in dirs:\n",
        "  s = \"\"\n",
        "  s = s + path + '/' + str(i) +  '/' +'*12.tif'\n",
        "  print(s)\n",
        "  temp = (glob.glob(os.path.join(s)))\n",
        "  files_batch.append(temp[0])\n",
        "print(files_batch)\n",
        "print(files_batch[len(files_batch)-1], len(files_batch))\n"
      ],
      "execution_count": 540,
      "outputs": [
        {
          "output_type": "stream",
          "text": [
            "/content/drive/MyDrive/Big/S2A_MSIL2A_20170613T101031_0_55/*12.tif\n",
            "/content/drive/MyDrive/Big/S2A_MSIL2A_20170613T101031_0_59/*12.tif\n",
            "/content/drive/MyDrive/Big/S2A_MSIL2A_20170613T101031_0_63/*12.tif\n",
            "/content/drive/MyDrive/Big/S2A_MSIL2A_20170613T101031_0_70/*12.tif\n",
            "/content/drive/MyDrive/Big/S2A_MSIL2A_20170613T101031_0_79/*12.tif\n",
            "/content/drive/MyDrive/Big/S2A_MSIL2A_20170613T101031_0_88/*12.tif\n",
            "['/content/drive/MyDrive/Big/S2A_MSIL2A_20170613T101031_0_55/S2A_MSIL2A_20170613T101031_0_55_B01.tif', '/content/drive/MyDrive/Big/S2A_MSIL2A_20170613T101031_0_59/S2A_MSIL2A_20170613T101031_0_59_B01.tif', '/content/drive/MyDrive/Big/S2A_MSIL2A_20170613T101031_0_63/S2A_MSIL2A_20170613T101031_0_63_B01.tif', '/content/drive/MyDrive/Big/S2A_MSIL2A_20170613T101031_0_70/S2A_MSIL2A_20170613T101031_0_70_B01.tif', '/content/drive/MyDrive/Big/S2A_MSIL2A_20170613T101031_0_79/S2A_MSIL2A_20170613T101031_0_79_B01.tif', '/content/drive/MyDrive/Big/S2A_MSIL2A_20170613T101031_0_88/S2A_MSIL2A_20170613T101031_0_88_B01.tif', '/content/drive/MyDrive/Big/S2A_MSIL2A_20170613T101031_0_55/S2A_MSIL2A_20170613T101031_0_55_B02.tif', '/content/drive/MyDrive/Big/S2A_MSIL2A_20170613T101031_0_59/S2A_MSIL2A_20170613T101031_0_59_B02.tif', '/content/drive/MyDrive/Big/S2A_MSIL2A_20170613T101031_0_63/S2A_MSIL2A_20170613T101031_0_63_B02.tif', '/content/drive/MyDrive/Big/S2A_MSIL2A_20170613T101031_0_70/S2A_MSIL2A_20170613T101031_0_70_B02.tif', '/content/drive/MyDrive/Big/S2A_MSIL2A_20170613T101031_0_79/S2A_MSIL2A_20170613T101031_0_79_B02.tif', '/content/drive/MyDrive/Big/S2A_MSIL2A_20170613T101031_0_88/S2A_MSIL2A_20170613T101031_0_88_B02.tif', '/content/drive/MyDrive/Big/S2A_MSIL2A_20170613T101031_0_55/S2A_MSIL2A_20170613T101031_0_55_B12.tif', '/content/drive/MyDrive/Big/S2A_MSIL2A_20170613T101031_0_59/S2A_MSIL2A_20170613T101031_0_59_B12.tif', '/content/drive/MyDrive/Big/S2A_MSIL2A_20170613T101031_0_63/S2A_MSIL2A_20170613T101031_0_63_B12.tif', '/content/drive/MyDrive/Big/S2A_MSIL2A_20170613T101031_0_70/S2A_MSIL2A_20170613T101031_0_70_B12.tif', '/content/drive/MyDrive/Big/S2A_MSIL2A_20170613T101031_0_79/S2A_MSIL2A_20170613T101031_0_79_B12.tif', '/content/drive/MyDrive/Big/S2A_MSIL2A_20170613T101031_0_88/S2A_MSIL2A_20170613T101031_0_88_B12.tif']\n",
            "/content/drive/MyDrive/Big/S2A_MSIL2A_20170613T101031_0_88/S2A_MSIL2A_20170613T101031_0_88_B12.tif 18\n"
          ],
          "name": "stdout"
        }
      ]
    },
    {
      "cell_type": "code",
      "metadata": {
        "colab": {
          "base_uri": "https://localhost:8080/"
        },
        "id": "Qh3mdr3K49lF",
        "outputId": "6963481d-840d-4a3b-baf5-cf8ee410daca"
      },
      "source": [
        "# Add min/max values of band 12 to min/max list\n",
        "\n",
        "for i in range(2*step_size,3*step_size):\n",
        "  band2= rxr.open_rasterio(files_batch[i])\n",
        "  min.append(np.nanmin(band2))\n",
        "  max.append(np.nanmax(band2))\n",
        "print(min)\n",
        "print(max)\n",
        "mean_min.append(np.mean(min))\n",
        "mean_max.append(np.mean(max))\n"
      ],
      "execution_count": 541,
      "outputs": [
        {
          "output_type": "stream",
          "text": [
            "[267, 272, 294, 280, 245, 276, 123, 156, 198, 164, 139, 202, 92, 91, 95, 104, 119, 115]\n",
            "[456, 308, 655, 327, 302, 328, 1215, 367, 985, 567, 515, 456, 149, 144, 1606, 153, 191, 170]\n"
          ],
          "name": "stdout"
        }
      ]
    },
    {
      "cell_type": "markdown",
      "metadata": {
        "id": "q5wO1xoA6D5i"
      },
      "source": [
        "# Add files and min/max lists to dataframe"
      ]
    },
    {
      "cell_type": "code",
      "metadata": {
        "colab": {
          "base_uri": "https://localhost:8080/",
          "height": 241
        },
        "id": "DEpzazL-6Gfq",
        "outputId": "94063a79-9416-46be-e8d0-dd75b52571c7"
      },
      "source": [
        "print(files_batch)\n",
        "df['filename'] = files_batch\n",
        "df['min'] = min\n",
        "df['max'] = max\n",
        "df.head()"
      ],
      "execution_count": 542,
      "outputs": [
        {
          "output_type": "stream",
          "text": [
            "['/content/drive/MyDrive/Big/S2A_MSIL2A_20170613T101031_0_55/S2A_MSIL2A_20170613T101031_0_55_B01.tif', '/content/drive/MyDrive/Big/S2A_MSIL2A_20170613T101031_0_59/S2A_MSIL2A_20170613T101031_0_59_B01.tif', '/content/drive/MyDrive/Big/S2A_MSIL2A_20170613T101031_0_63/S2A_MSIL2A_20170613T101031_0_63_B01.tif', '/content/drive/MyDrive/Big/S2A_MSIL2A_20170613T101031_0_70/S2A_MSIL2A_20170613T101031_0_70_B01.tif', '/content/drive/MyDrive/Big/S2A_MSIL2A_20170613T101031_0_79/S2A_MSIL2A_20170613T101031_0_79_B01.tif', '/content/drive/MyDrive/Big/S2A_MSIL2A_20170613T101031_0_88/S2A_MSIL2A_20170613T101031_0_88_B01.tif', '/content/drive/MyDrive/Big/S2A_MSIL2A_20170613T101031_0_55/S2A_MSIL2A_20170613T101031_0_55_B02.tif', '/content/drive/MyDrive/Big/S2A_MSIL2A_20170613T101031_0_59/S2A_MSIL2A_20170613T101031_0_59_B02.tif', '/content/drive/MyDrive/Big/S2A_MSIL2A_20170613T101031_0_63/S2A_MSIL2A_20170613T101031_0_63_B02.tif', '/content/drive/MyDrive/Big/S2A_MSIL2A_20170613T101031_0_70/S2A_MSIL2A_20170613T101031_0_70_B02.tif', '/content/drive/MyDrive/Big/S2A_MSIL2A_20170613T101031_0_79/S2A_MSIL2A_20170613T101031_0_79_B02.tif', '/content/drive/MyDrive/Big/S2A_MSIL2A_20170613T101031_0_88/S2A_MSIL2A_20170613T101031_0_88_B02.tif', '/content/drive/MyDrive/Big/S2A_MSIL2A_20170613T101031_0_55/S2A_MSIL2A_20170613T101031_0_55_B12.tif', '/content/drive/MyDrive/Big/S2A_MSIL2A_20170613T101031_0_59/S2A_MSIL2A_20170613T101031_0_59_B12.tif', '/content/drive/MyDrive/Big/S2A_MSIL2A_20170613T101031_0_63/S2A_MSIL2A_20170613T101031_0_63_B12.tif', '/content/drive/MyDrive/Big/S2A_MSIL2A_20170613T101031_0_70/S2A_MSIL2A_20170613T101031_0_70_B12.tif', '/content/drive/MyDrive/Big/S2A_MSIL2A_20170613T101031_0_79/S2A_MSIL2A_20170613T101031_0_79_B12.tif', '/content/drive/MyDrive/Big/S2A_MSIL2A_20170613T101031_0_88/S2A_MSIL2A_20170613T101031_0_88_B12.tif']\n"
          ],
          "name": "stdout"
        },
        {
          "output_type": "execute_result",
          "data": {
            "text/html": [
              "<div>\n",
              "<style scoped>\n",
              "    .dataframe tbody tr th:only-of-type {\n",
              "        vertical-align: middle;\n",
              "    }\n",
              "\n",
              "    .dataframe tbody tr th {\n",
              "        vertical-align: top;\n",
              "    }\n",
              "\n",
              "    .dataframe thead th {\n",
              "        text-align: right;\n",
              "    }\n",
              "</style>\n",
              "<table border=\"1\" class=\"dataframe\">\n",
              "  <thead>\n",
              "    <tr style=\"text-align: right;\">\n",
              "      <th></th>\n",
              "      <th>filename</th>\n",
              "      <th>min</th>\n",
              "      <th>max</th>\n",
              "    </tr>\n",
              "  </thead>\n",
              "  <tbody>\n",
              "    <tr>\n",
              "      <th>0</th>\n",
              "      <td>/content/drive/MyDrive/Big/S2A_MSIL2A_20170613...</td>\n",
              "      <td>267</td>\n",
              "      <td>456</td>\n",
              "    </tr>\n",
              "    <tr>\n",
              "      <th>1</th>\n",
              "      <td>/content/drive/MyDrive/Big/S2A_MSIL2A_20170613...</td>\n",
              "      <td>272</td>\n",
              "      <td>308</td>\n",
              "    </tr>\n",
              "    <tr>\n",
              "      <th>2</th>\n",
              "      <td>/content/drive/MyDrive/Big/S2A_MSIL2A_20170613...</td>\n",
              "      <td>294</td>\n",
              "      <td>655</td>\n",
              "    </tr>\n",
              "    <tr>\n",
              "      <th>3</th>\n",
              "      <td>/content/drive/MyDrive/Big/S2A_MSIL2A_20170613...</td>\n",
              "      <td>280</td>\n",
              "      <td>327</td>\n",
              "    </tr>\n",
              "    <tr>\n",
              "      <th>4</th>\n",
              "      <td>/content/drive/MyDrive/Big/S2A_MSIL2A_20170613...</td>\n",
              "      <td>245</td>\n",
              "      <td>302</td>\n",
              "    </tr>\n",
              "  </tbody>\n",
              "</table>\n",
              "</div>"
            ],
            "text/plain": [
              "                                            filename  min  max\n",
              "0  /content/drive/MyDrive/Big/S2A_MSIL2A_20170613...  267  456\n",
              "1  /content/drive/MyDrive/Big/S2A_MSIL2A_20170613...  272  308\n",
              "2  /content/drive/MyDrive/Big/S2A_MSIL2A_20170613...  294  655\n",
              "3  /content/drive/MyDrive/Big/S2A_MSIL2A_20170613...  280  327\n",
              "4  /content/drive/MyDrive/Big/S2A_MSIL2A_20170613...  245  302"
            ]
          },
          "metadata": {
            "tags": []
          },
          "execution_count": 542
        }
      ]
    },
    {
      "cell_type": "code",
      "metadata": {
        "colab": {
          "base_uri": "https://localhost:8080/"
        },
        "id": "N1-5QmFe_CJ7",
        "outputId": "534b209a-51de-4231-fe4e-fd116e21dd16"
      },
      "source": [
        "#print means of min and max values for each band 1 2 and 12\n",
        "print(mean_min)\n",
        "print(mean_max)"
      ],
      "execution_count": 543,
      "outputs": [
        {
          "output_type": "stream",
          "text": [
            "[272.3333333333333, 218.0, 179.55555555555554]\n",
            "[396.0, 540.0833333333334, 494.1111111111111]\n"
          ],
          "name": "stdout"
        }
      ]
    },
    {
      "cell_type": "code",
      "metadata": {
        "colab": {
          "base_uri": "https://localhost:8080/",
          "height": 279
        },
        "id": "GM3H8xso7ynW",
        "outputId": "635b6af3-8266-42f9-9c5f-d5b32719ab69"
      },
      "source": [
        "# Plot histogram \n",
        "import matplotlib.pyplot as plt\n",
        "x=np.array(min)\n",
        "y=np.array(max)\n",
        "plt.bar(x,y,align='center') # A bar chart\n",
        "plt.xlabel('Min')\n",
        "plt.ylabel('Max')\n",
        "plt.show()"
      ],
      "execution_count": 544,
      "outputs": [
        {
          "output_type": "display_data",
          "data": {
            "image/png": "[encoded data removed]",
            "text/plain": [
              "<Figure size 432x288 with 1 Axes>"
            ]
          },
          "metadata": {
            "tags": [],
            "needs_background": "light"
          }
        }
      ]
    },
    {
      "cell_type": "code",
      "metadata": {
        "colab": {
          "base_uri": "https://localhost:8080/",
          "height": 280
        },
        "id": "oxfN-NsO_wFS",
        "outputId": "1c56d015-342a-4c89-8c96-ca0439dbe370"
      },
      "source": [
        "# Plot histogram for mean min and mean max\n",
        "import matplotlib.pyplot as plt\n",
        "x=np.array(mean_min)\n",
        "y=np.array(mean_max)\n",
        "plt.bar(x,y,align='center') # A bar chart\n",
        "plt.xlabel('Mean_Min')\n",
        "plt.ylabel('Mean_Max')\n",
        "plt.show()"
      ],
      "execution_count": 545,
      "outputs": [
        {
          "output_type": "display_data",
          "data": {
            "image/png": "[encoded data removed]",
            "text/plain": [
              "<Figure size 432x288 with 1 Axes>"
            ]
          },
          "metadata": {
            "tags": [],
            "needs_background": "light"
          }
        }
      ]
    },
    {
      "cell_type": "markdown",
      "metadata": {
        "id": "vmiRBWgeO4cK"
      },
      "source": [
        "### **USE RASTERIO module to open Raster images and read it to Array**"
      ]
    },
    {
      "cell_type": "code",
      "metadata": {
        "colab": {
          "base_uri": "https://localhost:8080/"
        },
        "id": "yNdNExkOPLDN",
        "outputId": "e1ddbce2-01b3-44bc-943d-019d2afdc120"
      },
      "source": [
        "band1 = np.array(band1)\n",
        "band1.shape"
      ],
      "execution_count": 546,
      "outputs": [
        {
          "output_type": "execute_result",
          "data": {
            "text/plain": [
              "(1, 20, 20)"
            ]
          },
          "metadata": {
            "tags": []
          },
          "execution_count": 546
        }
      ]
    },
    {
      "cell_type": "code",
      "metadata": {
        "colab": {
          "base_uri": "https://localhost:8080/"
        },
        "id": "dxou0C-2PcS9",
        "outputId": "12c02864-e30c-4103-9fa4-21274d234cf6"
      },
      "source": [
        "print(files)\n",
        "band2= rxr.open_rasterio(files[1])\n",
        "band2 = np.array(band2)\n",
        "band2.shape"
      ],
      "execution_count": 547,
      "outputs": [
        {
          "output_type": "stream",
          "text": [
            "['/content/drive/MyDrive/Big/S2A_MSIL2A_20170613T101031_0_55/S2A_MSIL2A_20170613T101031_0_55_B01.tif', '/content/drive/MyDrive/Big/S2A_MSIL2A_20170613T101031_0_55/S2A_MSIL2A_20170613T101031_0_55_B02.tif', '/content/drive/MyDrive/Big/S2A_MSIL2A_20170613T101031_0_55/S2A_MSIL2A_20170613T101031_0_55_B03.tif', '/content/drive/MyDrive/Big/S2A_MSIL2A_20170613T101031_0_55/S2A_MSIL2A_20170613T101031_0_55_B04.tif', '/content/drive/MyDrive/Big/S2A_MSIL2A_20170613T101031_0_55/S2A_MSIL2A_20170613T101031_0_55_B05.tif', '/content/drive/MyDrive/Big/S2A_MSIL2A_20170613T101031_0_55/S2A_MSIL2A_20170613T101031_0_55_B06.tif', '/content/drive/MyDrive/Big/S2A_MSIL2A_20170613T101031_0_55/S2A_MSIL2A_20170613T101031_0_55_B07.tif', '/content/drive/MyDrive/Big/S2A_MSIL2A_20170613T101031_0_55/S2A_MSIL2A_20170613T101031_0_55_B08.tif', '/content/drive/MyDrive/Big/S2A_MSIL2A_20170613T101031_0_55/S2A_MSIL2A_20170613T101031_0_55_B09.tif', '/content/drive/MyDrive/Big/S2A_MSIL2A_20170613T101031_0_55/S2A_MSIL2A_20170613T101031_0_55_B11.tif', '/content/drive/MyDrive/Big/S2A_MSIL2A_20170613T101031_0_55/S2A_MSIL2A_20170613T101031_0_55_B12.tif', '/content/drive/MyDrive/Big/S2A_MSIL2A_20170613T101031_0_55/S2A_MSIL2A_20170613T101031_0_55_B8A.tif']\n"
          ],
          "name": "stdout"
        },
        {
          "output_type": "execute_result",
          "data": {
            "text/plain": [
              "(1, 120, 120)"
            ]
          },
          "metadata": {
            "tags": []
          },
          "execution_count": 547
        }
      ]
    },
    {
      "cell_type": "code",
      "metadata": {
        "colab": {
          "base_uri": "https://localhost:8080/"
        },
        "id": "xKB_HhTSSKuB",
        "outputId": "a77539c0-44a4-4ce7-895d-9e3345a0acc2"
      },
      "source": [
        "band12 = np.array(band12)\n",
        "band12.shape"
      ],
      "execution_count": 548,
      "outputs": [
        {
          "output_type": "execute_result",
          "data": {
            "text/plain": [
              "(1, 60, 60)"
            ]
          },
          "metadata": {
            "tags": []
          },
          "execution_count": 548
        }
      ]
    },
    {
      "cell_type": "code",
      "metadata": {
        "colab": {
          "base_uri": "https://localhost:8080/"
        },
        "id": "dESdB1LybUxg",
        "outputId": "53616864-309c-4c71-db6f-1a3293f46344"
      },
      "source": [
        "print(df['filename'])\n",
        "files_bands = []\n",
        "files_bands = df['filename']\n",
        "print(files_bands[0:6])"
      ],
      "execution_count": 554,
      "outputs": [
        {
          "output_type": "stream",
          "text": [
            "0     /content/drive/MyDrive/Big/S2A_MSIL2A_20170613...\n",
            "1     /content/drive/MyDrive/Big/S2A_MSIL2A_20170613...\n",
            "2     /content/drive/MyDrive/Big/S2A_MSIL2A_20170613...\n",
            "3     /content/drive/MyDrive/Big/S2A_MSIL2A_20170613...\n",
            "4     /content/drive/MyDrive/Big/S2A_MSIL2A_20170613...\n",
            "5     /content/drive/MyDrive/Big/S2A_MSIL2A_20170613...\n",
            "6     /content/drive/MyDrive/Big/S2A_MSIL2A_20170613...\n",
            "7     /content/drive/MyDrive/Big/S2A_MSIL2A_20170613...\n",
            "8     /content/drive/MyDrive/Big/S2A_MSIL2A_20170613...\n",
            "9     /content/drive/MyDrive/Big/S2A_MSIL2A_20170613...\n",
            "10    /content/drive/MyDrive/Big/S2A_MSIL2A_20170613...\n",
            "11    /content/drive/MyDrive/Big/S2A_MSIL2A_20170613...\n",
            "12    /content/drive/MyDrive/Big/S2A_MSIL2A_20170613...\n",
            "13    /content/drive/MyDrive/Big/S2A_MSIL2A_20170613...\n",
            "14    /content/drive/MyDrive/Big/S2A_MSIL2A_20170613...\n",
            "15    /content/drive/MyDrive/Big/S2A_MSIL2A_20170613...\n",
            "16    /content/drive/MyDrive/Big/S2A_MSIL2A_20170613...\n",
            "17    /content/drive/MyDrive/Big/S2A_MSIL2A_20170613...\n",
            "Name: filename, dtype: object\n",
            "0    /content/drive/MyDrive/Big/S2A_MSIL2A_20170613...\n",
            "1    /content/drive/MyDrive/Big/S2A_MSIL2A_20170613...\n",
            "2    /content/drive/MyDrive/Big/S2A_MSIL2A_20170613...\n",
            "3    /content/drive/MyDrive/Big/S2A_MSIL2A_20170613...\n",
            "4    /content/drive/MyDrive/Big/S2A_MSIL2A_20170613...\n",
            "5    /content/drive/MyDrive/Big/S2A_MSIL2A_20170613...\n",
            "Name: filename, dtype: object\n"
          ],
          "name": "stdout"
        }
      ]
    },
    {
      "cell_type": "code",
      "metadata": {
        "colab": {
          "base_uri": "https://localhost:8080/"
        },
        "id": "tzy2j3hpa1ew",
        "outputId": "a8cb7e67-d53a-4d03-c382-a9d34b3ff21b"
      },
      "source": [
        "# Reading raster geotif files \n",
        "#https://automating-gis-processes.github.io/CSC18/lessons/L6/reading-raster.html\n",
        "import rasterio \n",
        "band1_batch = files_bands[0:6]\n",
        "print(band1_batch[0])\n",
        "band1_raster = rasterio.open(band1_batch[0])\n",
        "print(type(band1_raster))"
      ],
      "execution_count": 570,
      "outputs": [
        {
          "output_type": "stream",
          "text": [
            "/content/drive/MyDrive/Big/S2A_MSIL2A_20170613T101031_0_55/S2A_MSIL2A_20170613T101031_0_55_B01.tif\n",
            "<class 'rasterio.io.DatasetReader'>\n"
          ],
          "name": "stdout"
        }
      ]
    },
    {
      "cell_type": "code",
      "metadata": {
        "colab": {
          "base_uri": "https://localhost:8080/"
        },
        "id": "K-pOl_8Qd4CU",
        "outputId": "8a389047-428f-4af8-8de9-30b5a7946391"
      },
      "source": [
        "#Projection\n",
        "print(band1_raster.crs)"
      ],
      "execution_count": 562,
      "outputs": [
        {
          "output_type": "stream",
          "text": [
            "EPSG:32634\n"
          ],
          "name": "stdout"
        }
      ]
    },
    {
      "cell_type": "code",
      "metadata": {
        "colab": {
          "base_uri": "https://localhost:8080/"
        },
        "id": "JKnmd3nheTmr",
        "outputId": "d821ef03-eb7a-4a40-af8b-fc5c59436fee"
      },
      "source": [
        "#Affine transform (how raster is scaled, rotated, skewed, and/or translated\n",
        "band1_raster.transform"
      ],
      "execution_count": 563,
      "outputs": [
        {
          "output_type": "execute_result",
          "data": {
            "text/plain": [
              "Affine(60.0, 0.0, 499980.0,\n",
              "       0.0, -60.0, 7034040.0)"
            ]
          },
          "metadata": {
            "tags": []
          },
          "execution_count": 563
        }
      ]
    },
    {
      "cell_type": "code",
      "metadata": {
        "colab": {
          "base_uri": "https://localhost:8080/"
        },
        "id": "bi9UcMj4ee0r",
        "outputId": "de30590a-3c02-4e50-d4ac-047d232aa885"
      },
      "source": [
        "band1_raster.meta"
      ],
      "execution_count": 564,
      "outputs": [
        {
          "output_type": "execute_result",
          "data": {
            "text/plain": [
              "{'count': 1,\n",
              " 'crs': CRS.from_epsg(32634),\n",
              " 'driver': 'GTiff',\n",
              " 'dtype': 'uint16',\n",
              " 'height': 20,\n",
              " 'nodata': None,\n",
              " 'transform': Affine(60.0, 0.0, 499980.0,\n",
              "       0.0, -60.0, 7034040.0),\n",
              " 'width': 20}"
            ]
          },
          "metadata": {
            "tags": []
          },
          "execution_count": 564
        }
      ]
    },
    {
      "cell_type": "code",
      "metadata": {
        "colab": {
          "base_uri": "https://localhost:8080/"
        },
        "id": "oDAuBQ3oerpX",
        "outputId": "465f4a7f-bcda-4b9f-bf34-1aa1ad5d2eb7"
      },
      "source": [
        "#reading raster to array\n",
        "\n",
        "band1_array = band1_raster.read()\n",
        "print(band1_array)"
      ],
      "execution_count": 567,
      "outputs": [
        {
          "output_type": "stream",
          "text": [
            "[[[278 273 280 280 280 282 290 292 282 280 275 275 278 280 276 283 279\n",
            "   283 299 287]\n",
            "  [282 280 282 282 278 280 290 283 281 281 285 273 271 278 285 281 281\n",
            "   283 286 275]\n",
            "  [282 280 285 280 276 276 276 273 283 286 288 285 291 286 288 281 279\n",
            "   277 289 277]\n",
            "  [280 285 299 288 282 271 270 275 270 273 280 281 286 290 279 283 284\n",
            "   282 289 279]\n",
            "  [282 280 275 278 275 273 281 281 271 269 268 271 283 284 281 286 294\n",
            "   289 289 282]\n",
            "  [282 283 280 280 278 270 278 280 280 278 278 278 271 267 272 284 298\n",
            "   289 291 290]\n",
            "  [285 288 280 283 290 280 286 281 280 281 281 279 273 271 274 279 284\n",
            "   279 284 289]\n",
            "  [288 285 278 280 275 276 288 290 286 279 290 283 276 269 286 284 287\n",
            "   287 287 289]\n",
            "  [290 290 287 281 280 278 278 286 290 283 276 274 279 272 282 287 289\n",
            "   284 290 280]\n",
            "  [290 288 285 278 283 286 283 290 286 288 288 284 281 286 284 286 286\n",
            "   277 289 299]\n",
            "  [292 283 281 281 281 288 290 286 279 281 293 289 281 282 289 299 289\n",
            "   287 278 287]\n",
            "  [280 280 290 300 274 278 279 279 288 278 281 291 286 281 291 297 289\n",
            "   297 290 292]\n",
            "  [293 288 286 281 273 283 290 281 279 279 283 291 289 284 282 282 290\n",
            "   282 295 310]\n",
            "  [291 288 281 285 286 279 281 278 281 277 274 288 281 284 289 291 282\n",
            "   306 287 290]\n",
            "  [288 278 271 283 291 289 288 279 288 281 276 286 286 287 289 287 299\n",
            "   446 456 292]\n",
            "  [286 274 276 288 288 281 284 279 281 281 287 282 279 284 291 290 285\n",
            "   304 332 281]\n",
            "  [284 279 288 291 284 277 281 276 272 281 279 281 281 279 280 284 297\n",
            "   300 288 293]\n",
            "  [288 281 289 289 289 281 276 279 277 281 272 275 277 279 279 280 289\n",
            "   295 295 288]\n",
            "  [279 286 289 284 279 279 271 272 287 282 279 286 274 277 279 283 290\n",
            "   285 293 295]\n",
            "  [272 277 283 281 272 279 281 281 286 287 289 287 280 289 285 278 288\n",
            "   288 293 298]]]\n"
          ],
          "name": "stdout"
        }
      ]
    },
    {
      "cell_type": "code",
      "metadata": {
        "colab": {
          "base_uri": "https://localhost:8080/"
        },
        "id": "owCJXyrui9Mm",
        "outputId": "55c435df-cc9f-41a5-910a-d9ac8bcd68a6"
      },
      "source": [
        "stats = []\n",
        "\n",
        "for band in band1_array:\n",
        "  stats.append({\n",
        "      'mean' :  band.mean(),\n",
        "      'min'  :  band.min(),\n",
        "      'max'  :  band.max(),\n",
        "      'median': np.median(band)\n",
        "  })\n",
        "print(stats)"
      ],
      "execution_count": 572,
      "outputs": [
        {
          "output_type": "stream",
          "text": [
            "[{'mean': 284.155, 'min': 267, 'max': 456, 'median': 282.0}]\n"
          ],
          "name": "stdout"
        }
      ]
    },
    {
      "cell_type": "markdown",
      "metadata": {
        "id": "zD2AJSp9l0ta"
      },
      "source": [
        "# Read all Band1 files and find mean of all 6 Forest class Band1 data"
      ]
    },
    {
      "cell_type": "code",
      "metadata": {
        "colab": {
          "base_uri": "https://localhost:8080/"
        },
        "id": "92FyweIVl_gZ",
        "outputId": "86d928b1-b92d-4711-c598-28327f25129b"
      },
      "source": [
        "print(df['filename'])\n",
        "files_bands = []\n",
        "files_bands = df['filename']\n",
        "print(files_bands[0:6])"
      ],
      "execution_count": 573,
      "outputs": [
        {
          "output_type": "stream",
          "text": [
            "0     /content/drive/MyDrive/Big/S2A_MSIL2A_20170613...\n",
            "1     /content/drive/MyDrive/Big/S2A_MSIL2A_20170613...\n",
            "2     /content/drive/MyDrive/Big/S2A_MSIL2A_20170613...\n",
            "3     /content/drive/MyDrive/Big/S2A_MSIL2A_20170613...\n",
            "4     /content/drive/MyDrive/Big/S2A_MSIL2A_20170613...\n",
            "5     /content/drive/MyDrive/Big/S2A_MSIL2A_20170613...\n",
            "6     /content/drive/MyDrive/Big/S2A_MSIL2A_20170613...\n",
            "7     /content/drive/MyDrive/Big/S2A_MSIL2A_20170613...\n",
            "8     /content/drive/MyDrive/Big/S2A_MSIL2A_20170613...\n",
            "9     /content/drive/MyDrive/Big/S2A_MSIL2A_20170613...\n",
            "10    /content/drive/MyDrive/Big/S2A_MSIL2A_20170613...\n",
            "11    /content/drive/MyDrive/Big/S2A_MSIL2A_20170613...\n",
            "12    /content/drive/MyDrive/Big/S2A_MSIL2A_20170613...\n",
            "13    /content/drive/MyDrive/Big/S2A_MSIL2A_20170613...\n",
            "14    /content/drive/MyDrive/Big/S2A_MSIL2A_20170613...\n",
            "15    /content/drive/MyDrive/Big/S2A_MSIL2A_20170613...\n",
            "16    /content/drive/MyDrive/Big/S2A_MSIL2A_20170613...\n",
            "17    /content/drive/MyDrive/Big/S2A_MSIL2A_20170613...\n",
            "Name: filename, dtype: object\n",
            "0    /content/drive/MyDrive/Big/S2A_MSIL2A_20170613...\n",
            "1    /content/drive/MyDrive/Big/S2A_MSIL2A_20170613...\n",
            "2    /content/drive/MyDrive/Big/S2A_MSIL2A_20170613...\n",
            "3    /content/drive/MyDrive/Big/S2A_MSIL2A_20170613...\n",
            "4    /content/drive/MyDrive/Big/S2A_MSIL2A_20170613...\n",
            "5    /content/drive/MyDrive/Big/S2A_MSIL2A_20170613...\n",
            "Name: filename, dtype: object\n"
          ],
          "name": "stdout"
        }
      ]
    },
    {
      "cell_type": "code",
      "metadata": {
        "colab": {
          "base_uri": "https://localhost:8080/"
        },
        "id": "BV598s2GmEKS",
        "outputId": "d51d968d-39dd-43c2-df17-fa3e16668191"
      },
      "source": [
        "# Reading raster geotif files using Rasterio\n",
        "#https://automating-gis-processes.github.io/CSC18/lessons/L6/reading-raster.html\n",
        "import rasterio \n",
        "band1_batch = files_bands[0:6]\n",
        "print(band1_batch[0])\n",
        "band1_array=[]\n",
        "for i in band1_batch:\n",
        "  band1_raster = rasterio.open(i)\n",
        "  band1_array.append(band1_raster.read())\n",
        "band1_mean=[]\n",
        "band1_min = []\n",
        "band1_max = []\n",
        "print(len(band1_array))\n",
        "for i in band1_array:\n",
        "    for band in i:\n",
        "        band1_mean.append(band.mean())\n",
        "        band1_min.append(band.min())\n",
        "        band1_max.append(band.max())\n",
        "print(\"Band 1 stat for 6 images is :------>\")\n",
        "print(band1_mean)\n",
        "print(band1_min)\n",
        "print(band1_max)"
      ],
      "execution_count": 587,
      "outputs": [
        {
          "output_type": "stream",
          "text": [
            "/content/drive/MyDrive/Big/S2A_MSIL2A_20170613T101031_0_55/S2A_MSIL2A_20170613T101031_0_55_B01.tif\n",
            "6\n",
            "Band 1 stat for 6 images is :------>\n",
            "[284.155, 291.2275, 322.03, 298.41, 280.095, 299.23]\n",
            "[267, 272, 294, 280, 245, 276]\n",
            "[456, 308, 655, 327, 302, 328]\n"
          ],
          "name": "stdout"
        }
      ]
    },
    {
      "cell_type": "code",
      "metadata": {
        "colab": {
          "base_uri": "https://localhost:8080/"
        },
        "id": "dsydhykfroTz",
        "outputId": "e0549b74-b55a-4090-eed5-4010fce50d43"
      },
      "source": [
        "# Stat for band 2 images \n",
        "band2_batch = files_bands[6:12]\n",
        "print(band2_batch)\n",
        "band2_array=[]\n",
        "for i in band2_batch:\n",
        "  band2_raster = rasterio.open(i)\n",
        "  band2_array.append(band2_raster.read())\n",
        "band2_mean=[]\n",
        "band2_min = []\n",
        "band2_max = []\n",
        "print(len(band2_array))\n",
        "for i in band2_array:\n",
        "    for band in i:\n",
        "        band2_mean.append(band.mean())\n",
        "        band2_min.append(band.min())\n",
        "        band2_max.append(band.max())\n",
        "print(\"Band 2 stat for 6 images is :------>\")\n",
        "print(band2_mean)\n",
        "print(band2_min)\n",
        "print(band2_max)"
      ],
      "execution_count": 593,
      "outputs": [
        {
          "output_type": "stream",
          "text": [
            "6     /content/drive/MyDrive/Big/S2A_MSIL2A_20170613...\n",
            "7     /content/drive/MyDrive/Big/S2A_MSIL2A_20170613...\n",
            "8     /content/drive/MyDrive/Big/S2A_MSIL2A_20170613...\n",
            "9     /content/drive/MyDrive/Big/S2A_MSIL2A_20170613...\n",
            "10    /content/drive/MyDrive/Big/S2A_MSIL2A_20170613...\n",
            "11    /content/drive/MyDrive/Big/S2A_MSIL2A_20170613...\n",
            "Name: filename, dtype: object\n",
            "6\n",
            "Band 2 stat for 6 images is :------>\n",
            "[219.92625, 230.166875, 284.25319444444443, 245.0898611111111, 250.07444444444445, 291.131875]\n",
            "[123, 156, 198, 164, 139, 202]\n",
            "[1215, 367, 985, 567, 515, 456]\n"
          ],
          "name": "stdout"
        }
      ]
    },
    {
      "cell_type": "code",
      "metadata": {
        "colab": {
          "base_uri": "https://localhost:8080/"
        },
        "id": "G0Wj1fwys9Dj",
        "outputId": "5f6a2203-69b2-4213-d12f-fd569ff0ac47"
      },
      "source": [
        "# Stat for band 12 images \n",
        "band12_batch = files_bands[12:18]\n",
        "print(band12_batch)\n",
        "band12_array=[]\n",
        "for i in band12_batch:\n",
        "  band12_raster = rasterio.open(i)\n",
        "  band12_array.append(band12_raster.read())\n",
        "band12_mean=[]\n",
        "band12_min = []\n",
        "band12_max = []\n",
        "print(len(band12_array))\n",
        "for i in band12_array:\n",
        "    for band in i:\n",
        "        band12_mean.append(band.mean())\n",
        "        band12_min.append(band.min())\n",
        "        band12_max.append(band.max())\n",
        "print(\"Band 12 stat for 6 images is :------>\")\n",
        "print(band12_mean)\n",
        "print(band12_min)\n",
        "print(band12_max)"
      ],
      "execution_count": 594,
      "outputs": [
        {
          "output_type": "stream",
          "text": [
            "12    /content/drive/MyDrive/Big/S2A_MSIL2A_20170613...\n",
            "13    /content/drive/MyDrive/Big/S2A_MSIL2A_20170613...\n",
            "14    /content/drive/MyDrive/Big/S2A_MSIL2A_20170613...\n",
            "15    /content/drive/MyDrive/Big/S2A_MSIL2A_20170613...\n",
            "16    /content/drive/MyDrive/Big/S2A_MSIL2A_20170613...\n",
            "17    /content/drive/MyDrive/Big/S2A_MSIL2A_20170613...\n",
            "Name: filename, dtype: object\n",
            "6\n",
            "Band 12 stat for 6 images is :------>\n",
            "[116.59972222222223, 120.09611111111111, 139.85916666666665, 126.83305555555556, 158.13972222222222, 142.49055555555555]\n",
            "[92, 91, 95, 104, 119, 115]\n",
            "[149, 144, 1606, 153, 191, 170]\n"
          ],
          "name": "stdout"
        }
      ]
    },
    {
      "cell_type": "code",
      "metadata": {
        "id": "SF09GM7Ms9VQ"
      },
      "source": [
        ""
      ],
      "execution_count": null,
      "outputs": []
    }
  ]
}