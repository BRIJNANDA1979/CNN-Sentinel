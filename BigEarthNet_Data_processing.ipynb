{
  "nbformat": 4,
  "nbformat_minor": 0,
  "metadata": {
    "colab": {
      "name": "BigEarthNet Data processing.ipynb",
      "provenance": [],
      "authorship_tag": "ABX9TyMaPnB/5MrQWdybG+4M/nLx",
      "include_colab_link": true
    },
    "kernelspec": {
      "name": "python3",
      "display_name": "Python 3"
    },
    "language_info": {
      "name": "python"
    }
  },
  "cells": [
    {
      "cell_type": "markdown",
      "metadata": {
        "id": "view-in-github",
        "colab_type": "text"
      },
      "source": [
        "<a href=\"https://colab.research.google.com/github/BRIJNANDA1979/CNN-Sentinel/blob/master/BigEarthNet_Data_processing.ipynb\" target=\"_parent\"><img src=\"https://colab.research.google.com/assets/colab-badge.svg\" alt=\"Open In Colab\"/></a>"
      ]
    },
    {
      "cell_type": "code",
      "metadata": {
        "id": "HM6ifo5ddIze"
      },
      "source": [
        "\n",
        "import os\n",
        "import glob\n",
        "import json\n",
        "import pandas as pd\n",
        "path='D:\\Bigearthnet v1 Data\\BigEarthNet-S2-v1.0\\BigEarthNet-v1.0'\n",
        "dirs=os.listdir(path)\n",
        "dirs.sort()\n",
        "print(len(dirs))\n",
        "labels=[]\n",
        "files=[]\n",
        "dict = {}\n",
        "for sub in dirs:\n",
        "  loc = path + '/' + sub + '/' + sub + '*metadata.json'\n",
        "  file_json = glob.glob(os.path.join(loc))\n",
        "  if(len(file_json)==1):\n",
        "      print(file_json)\n",
        "      print(len(file_json))\n",
        "      files.append(file_json[0])\n",
        "      f = open(file_json[0])\n",
        "      data = json.load(f)\n",
        "      print(data['labels'])\n",
        "      labels.append(data['labels'])\n",
        "      f.close()\n",
        "print(len(labels))\n",
        "print(len(files))\n",
        "df=pd.DataFrame()\n",
        "df['labels']= labels\n",
        "df['files'] = files\n",
        "df.to_csv(\"D:\\Bigearthnet v1 Data\\output.csv\", index=False)\n"
      ],
      "execution_count": null,
      "outputs": []
    }
  ]
}