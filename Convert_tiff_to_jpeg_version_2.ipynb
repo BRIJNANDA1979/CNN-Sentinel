{
  "nbformat": 4,
  "nbformat_minor": 0,
  "metadata": {
    "colab": {
      "name": "Convert_tiff_to_jpeg version 2.ipynb",
      "provenance": [],
      "collapsed_sections": [],
      "mount_file_id": "1YBCoAIAKJZ8-WhhMOXTRekgkqlH5vvlC",
      "authorship_tag": "ABX9TyNTAe3aFL/NS3px3yrrwtGM",
      "include_colab_link": true
    },
    "kernelspec": {
      "name": "python3",
      "display_name": "Python 3"
    },
    "language_info": {
      "name": "python"
    }
  },
  "cells": [
    {
      "cell_type": "markdown",
      "metadata": {
        "id": "view-in-github",
        "colab_type": "text"
      },
      "source": [
        "<a href=\"https://colab.research.google.com/github/BRIJNANDA1979/CNN-Sentinel/blob/master/Convert_tiff_to_jpeg_version_2.ipynb\" target=\"_parent\"><img src=\"https://colab.research.google.com/assets/colab-badge.svg\" alt=\"Open In Colab\"/></a>"
      ]
    },
    {
      "cell_type": "code",
      "metadata": {
        "colab": {
          "base_uri": "https://localhost:8080/"
        },
        "id": "AjiPEaxDWHyi",
        "outputId": "de2518ae-6675-43ca-915c-5c3ed955f1a2"
      },
      "source": [
        "#https://stackoverflow.com/questions/50207292/how-to-convert-geotiff-to-jpg-in-python-or-java\n",
        "from osgeo import gdal\n",
        "    \n",
        "options_list = [\n",
        "    '-ot Byte',\n",
        "    '-of JPEG',\n",
        "    '-b 1 2 3',\n",
        "    '-scale'\n",
        "]           \n",
        "\n",
        "options_string = \" \".join(options_list)\n",
        "    \n",
        "gdal.Translate(\n",
        "    '/content/drive/MyDrive/Data/save_image_path.jpg',\n",
        "    '/content/drive/MyDrive/Big/S2A_MSIL2A_20170613T101031_0_55/RGB.tif',\n",
        "    options=options_string\n",
        ")\n"
      ],
      "execution_count": 10,
      "outputs": [
        {
          "output_type": "execute_result",
          "data": {
            "text/plain": [
              "<osgeo.gdal.Dataset; proxy of <Swig Object of type 'GDALDatasetShadow *' at 0x7f0950e07240> >"
            ]
          },
          "metadata": {
            "tags": []
          },
          "execution_count": 10
        }
      ]
    },
    {
      "cell_type": "code",
      "metadata": {
        "colab": {
          "base_uri": "https://localhost:8080/"
        },
        "id": "DzEKLRD9wN6C",
        "outputId": "9b421c24-86bd-4bc2-d060-6d24bb7598d3"
      },
      "source": [
        "import os\n",
        "from PIL import Image\n",
        "os.chdir('/content/drive/MyDrive/Data')\n",
        "path = os.getcwd()\n",
        "print(path)\n",
        "im = Image.open('/content/drive/MyDrive/Data/a.tiff')\n",
        "im.convert(\"RGB\").save('/content/drive/MyDrive/Data/out.jpeg', \"JPEG\", quality=100)"
      ],
      "execution_count": null,
      "outputs": [
        {
          "output_type": "stream",
          "text": [
            "/content/drive/MyDrive/Data\n"
          ],
          "name": "stdout"
        }
      ]
    },
    {
      "cell_type": "code",
      "metadata": {
        "id": "6Kb4Mr7PWG6j"
      },
      "source": [
        ""
      ],
      "execution_count": null,
      "outputs": []
    },
    {
      "cell_type": "code",
      "metadata": {
        "id": "0jQ3zefoWFgC"
      },
      "source": [
        ""
      ],
      "execution_count": null,
      "outputs": []
    }
  ]
}